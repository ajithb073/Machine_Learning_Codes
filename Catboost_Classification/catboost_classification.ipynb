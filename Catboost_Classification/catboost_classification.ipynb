{
  "cells": [
    {
      "cell_type": "code",
      "source": [
        "import tensorflow as tf\n",
        "tf.test.gpu_device_name()\n"
      ],
      "metadata": {
        "colab": {
          "base_uri": "https://localhost:8080/",
          "height": 35
        },
        "id": "ehhQdrXGE5lf",
        "outputId": "9b0894db-1da5-4879-bf9f-ecc190757966"
      },
      "execution_count": null,
      "outputs": [
        {
          "output_type": "execute_result",
          "data": {
            "application/vnd.google.colaboratory.intrinsic+json": {
              "type": "string"
            },
            "text/plain": [
              "'/device:GPU:0'"
            ]
          },
          "metadata": {},
          "execution_count": 1
        }
      ]
    },
    {
      "cell_type": "code",
      "execution_count": null,
      "metadata": {
        "colab": {
          "base_uri": "https://localhost:8080/"
        },
        "id": "fa0lKpT7ZpPO",
        "outputId": "778e7167-581d-478a-eaef-522368c41e64"
      },
      "outputs": [
        {
          "output_type": "stream",
          "name": "stdout",
          "text": [
            "Collecting catboost==0.26\n",
            "  Downloading catboost-0.26-cp37-none-manylinux1_x86_64.whl (69.2 MB)\n",
            "\u001b[K     |████████████████████████████████| 69.2 MB 16 kB/s \n",
            "\u001b[?25hRequirement already satisfied: pandas>=0.24.0 in /usr/local/lib/python3.7/dist-packages (from catboost==0.26) (1.1.5)\n",
            "Requirement already satisfied: plotly in /usr/local/lib/python3.7/dist-packages (from catboost==0.26) (4.4.1)\n",
            "Requirement already satisfied: matplotlib in /usr/local/lib/python3.7/dist-packages (from catboost==0.26) (3.2.2)\n",
            "Requirement already satisfied: scipy in /usr/local/lib/python3.7/dist-packages (from catboost==0.26) (1.4.1)\n",
            "Requirement already satisfied: six in /usr/local/lib/python3.7/dist-packages (from catboost==0.26) (1.15.0)\n",
            "Requirement already satisfied: numpy>=1.16.0 in /usr/local/lib/python3.7/dist-packages (from catboost==0.26) (1.19.5)\n",
            "Requirement already satisfied: graphviz in /usr/local/lib/python3.7/dist-packages (from catboost==0.26) (0.10.1)\n",
            "Requirement already satisfied: pytz>=2017.2 in /usr/local/lib/python3.7/dist-packages (from pandas>=0.24.0->catboost==0.26) (2018.9)\n",
            "Requirement already satisfied: python-dateutil>=2.7.3 in /usr/local/lib/python3.7/dist-packages (from pandas>=0.24.0->catboost==0.26) (2.8.2)\n",
            "Requirement already satisfied: kiwisolver>=1.0.1 in /usr/local/lib/python3.7/dist-packages (from matplotlib->catboost==0.26) (1.3.2)\n",
            "Requirement already satisfied: cycler>=0.10 in /usr/local/lib/python3.7/dist-packages (from matplotlib->catboost==0.26) (0.11.0)\n",
            "Requirement already satisfied: pyparsing!=2.0.4,!=2.1.2,!=2.1.6,>=2.0.1 in /usr/local/lib/python3.7/dist-packages (from matplotlib->catboost==0.26) (3.0.6)\n",
            "Requirement already satisfied: retrying>=1.3.3 in /usr/local/lib/python3.7/dist-packages (from plotly->catboost==0.26) (1.3.3)\n",
            "Installing collected packages: catboost\n",
            "Successfully installed catboost-0.26\n"
          ]
        }
      ],
      "source": [
        "!pip install catboost==0.26\n"
      ]
    },
    {
      "cell_type": "code",
      "source": [
        "!pip install transformers\n"
      ],
      "metadata": {
        "colab": {
          "base_uri": "https://localhost:8080/"
        },
        "id": "MMtc5TUVhOs_",
        "outputId": "bc735efc-b553-4fed-f0a1-6bbd169af348"
      },
      "execution_count": null,
      "outputs": [
        {
          "output_type": "stream",
          "name": "stdout",
          "text": [
            "Collecting transformers\n",
            "  Downloading transformers-4.15.0-py3-none-any.whl (3.4 MB)\n",
            "\u001b[K     |████████████████████████████████| 3.4 MB 5.2 MB/s \n",
            "\u001b[?25hRequirement already satisfied: numpy>=1.17 in /usr/local/lib/python3.7/dist-packages (from transformers) (1.19.5)\n",
            "Requirement already satisfied: packaging>=20.0 in /usr/local/lib/python3.7/dist-packages (from transformers) (21.3)\n",
            "Requirement already satisfied: regex!=2019.12.17 in /usr/local/lib/python3.7/dist-packages (from transformers) (2019.12.20)\n",
            "Requirement already satisfied: requests in /usr/local/lib/python3.7/dist-packages (from transformers) (2.23.0)\n",
            "Collecting sacremoses\n",
            "  Downloading sacremoses-0.0.47-py2.py3-none-any.whl (895 kB)\n",
            "\u001b[K     |████████████████████████████████| 895 kB 47.3 MB/s \n",
            "\u001b[?25hCollecting huggingface-hub<1.0,>=0.1.0\n",
            "  Downloading huggingface_hub-0.4.0-py3-none-any.whl (67 kB)\n",
            "\u001b[K     |████████████████████████████████| 67 kB 5.1 MB/s \n",
            "\u001b[?25hRequirement already satisfied: importlib-metadata in /usr/local/lib/python3.7/dist-packages (from transformers) (4.10.0)\n",
            "Collecting tokenizers<0.11,>=0.10.1\n",
            "  Downloading tokenizers-0.10.3-cp37-cp37m-manylinux_2_5_x86_64.manylinux1_x86_64.manylinux_2_12_x86_64.manylinux2010_x86_64.whl (3.3 MB)\n",
            "\u001b[K     |████████████████████████████████| 3.3 MB 38.7 MB/s \n",
            "\u001b[?25hCollecting pyyaml>=5.1\n",
            "  Downloading PyYAML-6.0-cp37-cp37m-manylinux_2_5_x86_64.manylinux1_x86_64.manylinux_2_12_x86_64.manylinux2010_x86_64.whl (596 kB)\n",
            "\u001b[K     |████████████████████████████████| 596 kB 46.6 MB/s \n",
            "\u001b[?25hRequirement already satisfied: tqdm>=4.27 in /usr/local/lib/python3.7/dist-packages (from transformers) (4.62.3)\n",
            "Requirement already satisfied: filelock in /usr/local/lib/python3.7/dist-packages (from transformers) (3.4.2)\n",
            "Requirement already satisfied: typing-extensions>=3.7.4.3 in /usr/local/lib/python3.7/dist-packages (from huggingface-hub<1.0,>=0.1.0->transformers) (3.10.0.2)\n",
            "Requirement already satisfied: pyparsing!=3.0.5,>=2.0.2 in /usr/local/lib/python3.7/dist-packages (from packaging>=20.0->transformers) (3.0.6)\n",
            "Requirement already satisfied: zipp>=0.5 in /usr/local/lib/python3.7/dist-packages (from importlib-metadata->transformers) (3.7.0)\n",
            "Requirement already satisfied: chardet<4,>=3.0.2 in /usr/local/lib/python3.7/dist-packages (from requests->transformers) (3.0.4)\n",
            "Requirement already satisfied: certifi>=2017.4.17 in /usr/local/lib/python3.7/dist-packages (from requests->transformers) (2021.10.8)\n",
            "Requirement already satisfied: urllib3!=1.25.0,!=1.25.1,<1.26,>=1.21.1 in /usr/local/lib/python3.7/dist-packages (from requests->transformers) (1.24.3)\n",
            "Requirement already satisfied: idna<3,>=2.5 in /usr/local/lib/python3.7/dist-packages (from requests->transformers) (2.10)\n",
            "Requirement already satisfied: joblib in /usr/local/lib/python3.7/dist-packages (from sacremoses->transformers) (1.1.0)\n",
            "Requirement already satisfied: six in /usr/local/lib/python3.7/dist-packages (from sacremoses->transformers) (1.15.0)\n",
            "Requirement already satisfied: click in /usr/local/lib/python3.7/dist-packages (from sacremoses->transformers) (7.1.2)\n",
            "Installing collected packages: pyyaml, tokenizers, sacremoses, huggingface-hub, transformers\n",
            "  Attempting uninstall: pyyaml\n",
            "    Found existing installation: PyYAML 3.13\n",
            "    Uninstalling PyYAML-3.13:\n",
            "      Successfully uninstalled PyYAML-3.13\n",
            "Successfully installed huggingface-hub-0.4.0 pyyaml-6.0 sacremoses-0.0.47 tokenizers-0.10.3 transformers-4.15.0\n"
          ]
        }
      ]
    },
    {
      "cell_type": "code",
      "execution_count": null,
      "metadata": {
        "id": "5nY1s2TlXfr2"
      },
      "outputs": [],
      "source": [
        "import os\n",
        "import inflect\n",
        "import nltk\n",
        "import pickle\n",
        "import re, string, unicodedata\n",
        "import pandas as pd\n",
        "import numpy as np\n",
        "import matplotlib.pyplot as plt\n",
        "import seaborn as sns\n",
        "\n",
        "\n"
      ]
    },
    {
      "cell_type": "code",
      "execution_count": null,
      "metadata": {
        "id": "04xlMRh8ZeHS"
      },
      "outputs": [],
      "source": [
        "from sklearn.model_selection import train_test_split\n",
        "from catboost import CatBoostClassifier, Pool\n",
        "from sklearn.metrics import classification_report, confusion_matrix\n",
        "from nltk.corpus import stopwords\n",
        "from catboost.utils import get_confusion_matrix\n",
        "from sklearn.metrics import classification_report, confusion_matrix\n",
        "from sklearn.metrics import accuracy_score\n",
        "\n",
        "\n",
        "import warnings\n",
        "warnings.filterwarnings('ignore')\n"
      ]
    },
    {
      "cell_type": "code",
      "execution_count": null,
      "metadata": {
        "colab": {
          "base_uri": "https://localhost:8080/"
        },
        "id": "nsmpb_mLXfuC",
        "outputId": "e404cec6-4134-4504-c447-abb3f5f5bba2"
      },
      "outputs": [
        {
          "output_type": "stream",
          "name": "stdout",
          "text": [
            "                                            Sentence               Class\n",
            "0  Manufacturer and provider of automotive parts....  Technology driven \n",
            "1  Provider of financing services based in Mexico...  Technology driven \n",
            "2  Jaze is a bluetooth-enabled mobile app that tu...  Technology driven \n",
            "3  Provider of metal and plastic plating services...  Technology driven \n",
            "4  G&amp;A Marketing is an automotive company spe...  Technology driven \n"
          ]
        }
      ],
      "source": [
        "industry_type_df = pd.read_excel(\"/content/Book2.xlsx\", sheet_name = \"Sheet3\")\n",
        "\n",
        "print(industry_type_df.head())\n"
      ]
    },
    {
      "cell_type": "code",
      "execution_count": null,
      "metadata": {
        "colab": {
          "base_uri": "https://localhost:8080/",
          "height": 363
        },
        "id": "qjcoidns2qc2",
        "outputId": "3bfaacc8-eb73-4ffd-ade8-e2c52b01bc5f"
      },
      "outputs": [
        {
          "output_type": "execute_result",
          "data": {
            "text/html": [
              "\n",
              "  <div id=\"df-72963da5-870e-4d29-8a71-1366c4e88dbb\">\n",
              "    <div class=\"colab-df-container\">\n",
              "      <div>\n",
              "<style scoped>\n",
              "    .dataframe tbody tr th:only-of-type {\n",
              "        vertical-align: middle;\n",
              "    }\n",
              "\n",
              "    .dataframe tbody tr th {\n",
              "        vertical-align: top;\n",
              "    }\n",
              "\n",
              "    .dataframe thead th {\n",
              "        text-align: right;\n",
              "    }\n",
              "</style>\n",
              "<table border=\"1\" class=\"dataframe\">\n",
              "  <thead>\n",
              "    <tr style=\"text-align: right;\">\n",
              "      <th></th>\n",
              "      <th>description</th>\n",
              "      <th>data_type</th>\n",
              "    </tr>\n",
              "  </thead>\n",
              "  <tbody>\n",
              "    <tr>\n",
              "      <th>0</th>\n",
              "      <td>Manufacturer and provider of automotive parts....</td>\n",
              "      <td>Technology driven</td>\n",
              "    </tr>\n",
              "    <tr>\n",
              "      <th>1</th>\n",
              "      <td>Provider of financing services based in Mexico...</td>\n",
              "      <td>Technology driven</td>\n",
              "    </tr>\n",
              "    <tr>\n",
              "      <th>2</th>\n",
              "      <td>Jaze is a bluetooth-enabled mobile app that tu...</td>\n",
              "      <td>Technology driven</td>\n",
              "    </tr>\n",
              "    <tr>\n",
              "      <th>3</th>\n",
              "      <td>Provider of metal and plastic plating services...</td>\n",
              "      <td>Technology driven</td>\n",
              "    </tr>\n",
              "    <tr>\n",
              "      <th>4</th>\n",
              "      <td>G&amp;amp;A Marketing is an automotive company spe...</td>\n",
              "      <td>Technology driven</td>\n",
              "    </tr>\n",
              "    <tr>\n",
              "      <th>5</th>\n",
              "      <td>Vamshi Rubber Ltd is engaged in the business o...</td>\n",
              "      <td>Technology driven</td>\n",
              "    </tr>\n",
              "    <tr>\n",
              "      <th>6</th>\n",
              "      <td>Provider of automotive auctions services. The ...</td>\n",
              "      <td>Technology driven</td>\n",
              "    </tr>\n",
              "    <tr>\n",
              "      <th>7</th>\n",
              "      <td>Hiway Fuel Services is a risk management compa...</td>\n",
              "      <td>Technology driven</td>\n",
              "    </tr>\n",
              "    <tr>\n",
              "      <th>8</th>\n",
              "      <td>APTA, Special Employment Center is an Asturian...</td>\n",
              "      <td>Technology driven</td>\n",
              "    </tr>\n",
              "    <tr>\n",
              "      <th>9</th>\n",
              "      <td>Manufacturer of battery operated electric vehi...</td>\n",
              "      <td>Technology driven</td>\n",
              "    </tr>\n",
              "  </tbody>\n",
              "</table>\n",
              "</div>\n",
              "      <button class=\"colab-df-convert\" onclick=\"convertToInteractive('df-72963da5-870e-4d29-8a71-1366c4e88dbb')\"\n",
              "              title=\"Convert this dataframe to an interactive table.\"\n",
              "              style=\"display:none;\">\n",
              "        \n",
              "  <svg xmlns=\"http://www.w3.org/2000/svg\" height=\"24px\"viewBox=\"0 0 24 24\"\n",
              "       width=\"24px\">\n",
              "    <path d=\"M0 0h24v24H0V0z\" fill=\"none\"/>\n",
              "    <path d=\"M18.56 5.44l.94 2.06.94-2.06 2.06-.94-2.06-.94-.94-2.06-.94 2.06-2.06.94zm-11 1L8.5 8.5l.94-2.06 2.06-.94-2.06-.94L8.5 2.5l-.94 2.06-2.06.94zm10 10l.94 2.06.94-2.06 2.06-.94-2.06-.94-.94-2.06-.94 2.06-2.06.94z\"/><path d=\"M17.41 7.96l-1.37-1.37c-.4-.4-.92-.59-1.43-.59-.52 0-1.04.2-1.43.59L10.3 9.45l-7.72 7.72c-.78.78-.78 2.05 0 2.83L4 21.41c.39.39.9.59 1.41.59.51 0 1.02-.2 1.41-.59l7.78-7.78 2.81-2.81c.8-.78.8-2.07 0-2.86zM5.41 20L4 18.59l7.72-7.72 1.47 1.35L5.41 20z\"/>\n",
              "  </svg>\n",
              "      </button>\n",
              "      \n",
              "  <style>\n",
              "    .colab-df-container {\n",
              "      display:flex;\n",
              "      flex-wrap:wrap;\n",
              "      gap: 12px;\n",
              "    }\n",
              "\n",
              "    .colab-df-convert {\n",
              "      background-color: #E8F0FE;\n",
              "      border: none;\n",
              "      border-radius: 50%;\n",
              "      cursor: pointer;\n",
              "      display: none;\n",
              "      fill: #1967D2;\n",
              "      height: 32px;\n",
              "      padding: 0 0 0 0;\n",
              "      width: 32px;\n",
              "    }\n",
              "\n",
              "    .colab-df-convert:hover {\n",
              "      background-color: #E2EBFA;\n",
              "      box-shadow: 0px 1px 2px rgba(60, 64, 67, 0.3), 0px 1px 3px 1px rgba(60, 64, 67, 0.15);\n",
              "      fill: #174EA6;\n",
              "    }\n",
              "\n",
              "    [theme=dark] .colab-df-convert {\n",
              "      background-color: #3B4455;\n",
              "      fill: #D2E3FC;\n",
              "    }\n",
              "\n",
              "    [theme=dark] .colab-df-convert:hover {\n",
              "      background-color: #434B5C;\n",
              "      box-shadow: 0px 1px 3px 1px rgba(0, 0, 0, 0.15);\n",
              "      filter: drop-shadow(0px 1px 2px rgba(0, 0, 0, 0.3));\n",
              "      fill: #FFFFFF;\n",
              "    }\n",
              "  </style>\n",
              "\n",
              "      <script>\n",
              "        const buttonEl =\n",
              "          document.querySelector('#df-72963da5-870e-4d29-8a71-1366c4e88dbb button.colab-df-convert');\n",
              "        buttonEl.style.display =\n",
              "          google.colab.kernel.accessAllowed ? 'block' : 'none';\n",
              "\n",
              "        async function convertToInteractive(key) {\n",
              "          const element = document.querySelector('#df-72963da5-870e-4d29-8a71-1366c4e88dbb');\n",
              "          const dataTable =\n",
              "            await google.colab.kernel.invokeFunction('convertToInteractive',\n",
              "                                                     [key], {});\n",
              "          if (!dataTable) return;\n",
              "\n",
              "          const docLinkHtml = 'Like what you see? Visit the ' +\n",
              "            '<a target=\"_blank\" href=https://colab.research.google.com/notebooks/data_table.ipynb>data table notebook</a>'\n",
              "            + ' to learn more about interactive tables.';\n",
              "          element.innerHTML = '';\n",
              "          dataTable['output_type'] = 'display_data';\n",
              "          await google.colab.output.renderOutput(dataTable, element);\n",
              "          const docLink = document.createElement('div');\n",
              "          docLink.innerHTML = docLinkHtml;\n",
              "          element.appendChild(docLink);\n",
              "        }\n",
              "      </script>\n",
              "    </div>\n",
              "  </div>\n",
              "  "
            ],
            "text/plain": [
              "                                         description           data_type\n",
              "0  Manufacturer and provider of automotive parts....  Technology driven \n",
              "1  Provider of financing services based in Mexico...  Technology driven \n",
              "2  Jaze is a bluetooth-enabled mobile app that tu...  Technology driven \n",
              "3  Provider of metal and plastic plating services...  Technology driven \n",
              "4  G&amp;A Marketing is an automotive company spe...  Technology driven \n",
              "5  Vamshi Rubber Ltd is engaged in the business o...  Technology driven \n",
              "6  Provider of automotive auctions services. The ...  Technology driven \n",
              "7  Hiway Fuel Services is a risk management compa...  Technology driven \n",
              "8  APTA, Special Employment Center is an Asturian...  Technology driven \n",
              "9  Manufacturer of battery operated electric vehi...  Technology driven "
            ]
          },
          "metadata": {},
          "execution_count": 9
        }
      ],
      "source": [
        "industry_type_df = industry_type_df.rename(columns={\"Sentence\": \"description\", \"Class\": \"data_type\"})\n",
        "# print(industry_type_df.columns)\n",
        "industry_type_df.head(10)"
      ]
    },
    {
      "cell_type": "code",
      "execution_count": null,
      "metadata": {
        "colab": {
          "base_uri": "https://localhost:8080/"
        },
        "id": "XeUg2LyLXfwH",
        "outputId": "0694818e-6667-4136-a619-c129abe698f1"
      },
      "outputs": [
        {
          "output_type": "execute_result",
          "data": {
            "text/plain": [
              "description    0\n",
              "data_type      0\n",
              "tag_1          0\n",
              "dtype: int64"
            ]
          },
          "metadata": {},
          "execution_count": 8
        }
      ],
      "source": [
        "industry_type_df.isna().sum()"
      ]
    },
    {
      "cell_type": "code",
      "execution_count": null,
      "metadata": {
        "id": "nJo_WR2SX6iO"
      },
      "outputs": [],
      "source": [
        "ind_dict = dict()\n",
        "count = 1\n",
        "for i in sorted(set(industry_type_df['data_type'])):\n",
        "    ind_dict[i] = count\n",
        "    count = count + 1"
      ]
    },
    {
      "cell_type": "code",
      "execution_count": null,
      "metadata": {
        "colab": {
          "base_uri": "https://localhost:8080/"
        },
        "id": "eCcs-vm4IraI",
        "outputId": "ab8db0ec-287b-41af-e2fe-008def647878"
      },
      "outputs": [
        {
          "output_type": "execute_result",
          "data": {
            "text/plain": [
              "{'Non-Technology driven ': 1, 'Technology driven ': 2}"
            ]
          },
          "metadata": {},
          "execution_count": 12
        }
      ],
      "source": [
        "ind_dict"
      ]
    },
    {
      "cell_type": "code",
      "source": [
        "industry_type_df = industry_type_df[['description','data_type']]"
      ],
      "metadata": {
        "id": "vwElmwIjUc75"
      },
      "execution_count": null,
      "outputs": []
    },
    {
      "cell_type": "code",
      "execution_count": null,
      "metadata": {
        "colab": {
          "base_uri": "https://localhost:8080/",
          "height": 206
        },
        "id": "vBR0l7GqX6kX",
        "outputId": "76508e9b-34d3-4458-c07e-01ad7b890ea9"
      },
      "outputs": [
        {
          "output_type": "execute_result",
          "data": {
            "text/html": [
              "\n",
              "  <div id=\"df-9cfeb022-df1c-4f75-ae8e-267928f2ca66\">\n",
              "    <div class=\"colab-df-container\">\n",
              "      <div>\n",
              "<style scoped>\n",
              "    .dataframe tbody tr th:only-of-type {\n",
              "        vertical-align: middle;\n",
              "    }\n",
              "\n",
              "    .dataframe tbody tr th {\n",
              "        vertical-align: top;\n",
              "    }\n",
              "\n",
              "    .dataframe thead th {\n",
              "        text-align: right;\n",
              "    }\n",
              "</style>\n",
              "<table border=\"1\" class=\"dataframe\">\n",
              "  <thead>\n",
              "    <tr style=\"text-align: right;\">\n",
              "      <th></th>\n",
              "      <th>description</th>\n",
              "      <th>data_type</th>\n",
              "    </tr>\n",
              "  </thead>\n",
              "  <tbody>\n",
              "    <tr>\n",
              "      <th>493</th>\n",
              "      <td>Dartington Crystal was founded in 1967. Dartin...</td>\n",
              "      <td>Non-Technology driven</td>\n",
              "    </tr>\n",
              "    <tr>\n",
              "      <th>536</th>\n",
              "      <td>Dixon motors is a used car dealer and finance ...</td>\n",
              "      <td>Non-Technology driven</td>\n",
              "    </tr>\n",
              "    <tr>\n",
              "      <th>131</th>\n",
              "      <td>Developer of an investment-type crowdfunding m...</td>\n",
              "      <td>Technology driven</td>\n",
              "    </tr>\n",
              "    <tr>\n",
              "      <th>463</th>\n",
              "      <td>Modimize is a social fashion network that allo...</td>\n",
              "      <td>Non-Technology driven</td>\n",
              "    </tr>\n",
              "    <tr>\n",
              "      <th>606</th>\n",
              "      <td>Longo Lexus is a car dealership located in El ...</td>\n",
              "      <td>Non-Technology driven</td>\n",
              "    </tr>\n",
              "  </tbody>\n",
              "</table>\n",
              "</div>\n",
              "      <button class=\"colab-df-convert\" onclick=\"convertToInteractive('df-9cfeb022-df1c-4f75-ae8e-267928f2ca66')\"\n",
              "              title=\"Convert this dataframe to an interactive table.\"\n",
              "              style=\"display:none;\">\n",
              "        \n",
              "  <svg xmlns=\"http://www.w3.org/2000/svg\" height=\"24px\"viewBox=\"0 0 24 24\"\n",
              "       width=\"24px\">\n",
              "    <path d=\"M0 0h24v24H0V0z\" fill=\"none\"/>\n",
              "    <path d=\"M18.56 5.44l.94 2.06.94-2.06 2.06-.94-2.06-.94-.94-2.06-.94 2.06-2.06.94zm-11 1L8.5 8.5l.94-2.06 2.06-.94-2.06-.94L8.5 2.5l-.94 2.06-2.06.94zm10 10l.94 2.06.94-2.06 2.06-.94-2.06-.94-.94-2.06-.94 2.06-2.06.94z\"/><path d=\"M17.41 7.96l-1.37-1.37c-.4-.4-.92-.59-1.43-.59-.52 0-1.04.2-1.43.59L10.3 9.45l-7.72 7.72c-.78.78-.78 2.05 0 2.83L4 21.41c.39.39.9.59 1.41.59.51 0 1.02-.2 1.41-.59l7.78-7.78 2.81-2.81c.8-.78.8-2.07 0-2.86zM5.41 20L4 18.59l7.72-7.72 1.47 1.35L5.41 20z\"/>\n",
              "  </svg>\n",
              "      </button>\n",
              "      \n",
              "  <style>\n",
              "    .colab-df-container {\n",
              "      display:flex;\n",
              "      flex-wrap:wrap;\n",
              "      gap: 12px;\n",
              "    }\n",
              "\n",
              "    .colab-df-convert {\n",
              "      background-color: #E8F0FE;\n",
              "      border: none;\n",
              "      border-radius: 50%;\n",
              "      cursor: pointer;\n",
              "      display: none;\n",
              "      fill: #1967D2;\n",
              "      height: 32px;\n",
              "      padding: 0 0 0 0;\n",
              "      width: 32px;\n",
              "    }\n",
              "\n",
              "    .colab-df-convert:hover {\n",
              "      background-color: #E2EBFA;\n",
              "      box-shadow: 0px 1px 2px rgba(60, 64, 67, 0.3), 0px 1px 3px 1px rgba(60, 64, 67, 0.15);\n",
              "      fill: #174EA6;\n",
              "    }\n",
              "\n",
              "    [theme=dark] .colab-df-convert {\n",
              "      background-color: #3B4455;\n",
              "      fill: #D2E3FC;\n",
              "    }\n",
              "\n",
              "    [theme=dark] .colab-df-convert:hover {\n",
              "      background-color: #434B5C;\n",
              "      box-shadow: 0px 1px 3px 1px rgba(0, 0, 0, 0.15);\n",
              "      filter: drop-shadow(0px 1px 2px rgba(0, 0, 0, 0.3));\n",
              "      fill: #FFFFFF;\n",
              "    }\n",
              "  </style>\n",
              "\n",
              "      <script>\n",
              "        const buttonEl =\n",
              "          document.querySelector('#df-9cfeb022-df1c-4f75-ae8e-267928f2ca66 button.colab-df-convert');\n",
              "        buttonEl.style.display =\n",
              "          google.colab.kernel.accessAllowed ? 'block' : 'none';\n",
              "\n",
              "        async function convertToInteractive(key) {\n",
              "          const element = document.querySelector('#df-9cfeb022-df1c-4f75-ae8e-267928f2ca66');\n",
              "          const dataTable =\n",
              "            await google.colab.kernel.invokeFunction('convertToInteractive',\n",
              "                                                     [key], {});\n",
              "          if (!dataTable) return;\n",
              "\n",
              "          const docLinkHtml = 'Like what you see? Visit the ' +\n",
              "            '<a target=\"_blank\" href=https://colab.research.google.com/notebooks/data_table.ipynb>data table notebook</a>'\n",
              "            + ' to learn more about interactive tables.';\n",
              "          element.innerHTML = '';\n",
              "          dataTable['output_type'] = 'display_data';\n",
              "          await google.colab.output.renderOutput(dataTable, element);\n",
              "          const docLink = document.createElement('div');\n",
              "          docLink.innerHTML = docLinkHtml;\n",
              "          element.appendChild(docLink);\n",
              "        }\n",
              "      </script>\n",
              "    </div>\n",
              "  </div>\n",
              "  "
            ],
            "text/plain": [
              "                                           description               data_type\n",
              "493  Dartington Crystal was founded in 1967. Dartin...  Non-Technology driven \n",
              "536  Dixon motors is a used car dealer and finance ...  Non-Technology driven \n",
              "131  Developer of an investment-type crowdfunding m...      Technology driven \n",
              "463  Modimize is a social fashion network that allo...  Non-Technology driven \n",
              "606  Longo Lexus is a car dealership located in El ...  Non-Technology driven "
            ]
          },
          "metadata": {},
          "execution_count": 13
        }
      ],
      "source": [
        "industry_type_df = industry_type_df.sample(frac = 1)\n",
        "industry_type_df.head(5)"
      ]
    },
    {
      "cell_type": "code",
      "execution_count": null,
      "metadata": {
        "colab": {
          "base_uri": "https://localhost:8080/",
          "height": 206
        },
        "id": "pSq-8sacX6mj",
        "outputId": "a3202af8-7ef3-4cce-f5b6-15535f6de18a"
      },
      "outputs": [
        {
          "output_type": "execute_result",
          "data": {
            "text/html": [
              "\n",
              "  <div id=\"df-f9dc6c7c-53e0-47cd-a027-17c9c029d598\">\n",
              "    <div class=\"colab-df-container\">\n",
              "      <div>\n",
              "<style scoped>\n",
              "    .dataframe tbody tr th:only-of-type {\n",
              "        vertical-align: middle;\n",
              "    }\n",
              "\n",
              "    .dataframe tbody tr th {\n",
              "        vertical-align: top;\n",
              "    }\n",
              "\n",
              "    .dataframe thead th {\n",
              "        text-align: right;\n",
              "    }\n",
              "</style>\n",
              "<table border=\"1\" class=\"dataframe\">\n",
              "  <thead>\n",
              "    <tr style=\"text-align: right;\">\n",
              "      <th></th>\n",
              "      <th>description</th>\n",
              "      <th>data_type</th>\n",
              "      <th>data_type_labels</th>\n",
              "    </tr>\n",
              "  </thead>\n",
              "  <tbody>\n",
              "    <tr>\n",
              "      <th>493</th>\n",
              "      <td>Dartington Crystal was founded in 1967. Dartin...</td>\n",
              "      <td>Non-Technology driven</td>\n",
              "      <td>1</td>\n",
              "    </tr>\n",
              "    <tr>\n",
              "      <th>536</th>\n",
              "      <td>Dixon motors is a used car dealer and finance ...</td>\n",
              "      <td>Non-Technology driven</td>\n",
              "      <td>1</td>\n",
              "    </tr>\n",
              "    <tr>\n",
              "      <th>131</th>\n",
              "      <td>Developer of an investment-type crowdfunding m...</td>\n",
              "      <td>Technology driven</td>\n",
              "      <td>2</td>\n",
              "    </tr>\n",
              "    <tr>\n",
              "      <th>463</th>\n",
              "      <td>Modimize is a social fashion network that allo...</td>\n",
              "      <td>Non-Technology driven</td>\n",
              "      <td>1</td>\n",
              "    </tr>\n",
              "    <tr>\n",
              "      <th>606</th>\n",
              "      <td>Longo Lexus is a car dealership located in El ...</td>\n",
              "      <td>Non-Technology driven</td>\n",
              "      <td>1</td>\n",
              "    </tr>\n",
              "  </tbody>\n",
              "</table>\n",
              "</div>\n",
              "      <button class=\"colab-df-convert\" onclick=\"convertToInteractive('df-f9dc6c7c-53e0-47cd-a027-17c9c029d598')\"\n",
              "              title=\"Convert this dataframe to an interactive table.\"\n",
              "              style=\"display:none;\">\n",
              "        \n",
              "  <svg xmlns=\"http://www.w3.org/2000/svg\" height=\"24px\"viewBox=\"0 0 24 24\"\n",
              "       width=\"24px\">\n",
              "    <path d=\"M0 0h24v24H0V0z\" fill=\"none\"/>\n",
              "    <path d=\"M18.56 5.44l.94 2.06.94-2.06 2.06-.94-2.06-.94-.94-2.06-.94 2.06-2.06.94zm-11 1L8.5 8.5l.94-2.06 2.06-.94-2.06-.94L8.5 2.5l-.94 2.06-2.06.94zm10 10l.94 2.06.94-2.06 2.06-.94-2.06-.94-.94-2.06-.94 2.06-2.06.94z\"/><path d=\"M17.41 7.96l-1.37-1.37c-.4-.4-.92-.59-1.43-.59-.52 0-1.04.2-1.43.59L10.3 9.45l-7.72 7.72c-.78.78-.78 2.05 0 2.83L4 21.41c.39.39.9.59 1.41.59.51 0 1.02-.2 1.41-.59l7.78-7.78 2.81-2.81c.8-.78.8-2.07 0-2.86zM5.41 20L4 18.59l7.72-7.72 1.47 1.35L5.41 20z\"/>\n",
              "  </svg>\n",
              "      </button>\n",
              "      \n",
              "  <style>\n",
              "    .colab-df-container {\n",
              "      display:flex;\n",
              "      flex-wrap:wrap;\n",
              "      gap: 12px;\n",
              "    }\n",
              "\n",
              "    .colab-df-convert {\n",
              "      background-color: #E8F0FE;\n",
              "      border: none;\n",
              "      border-radius: 50%;\n",
              "      cursor: pointer;\n",
              "      display: none;\n",
              "      fill: #1967D2;\n",
              "      height: 32px;\n",
              "      padding: 0 0 0 0;\n",
              "      width: 32px;\n",
              "    }\n",
              "\n",
              "    .colab-df-convert:hover {\n",
              "      background-color: #E2EBFA;\n",
              "      box-shadow: 0px 1px 2px rgba(60, 64, 67, 0.3), 0px 1px 3px 1px rgba(60, 64, 67, 0.15);\n",
              "      fill: #174EA6;\n",
              "    }\n",
              "\n",
              "    [theme=dark] .colab-df-convert {\n",
              "      background-color: #3B4455;\n",
              "      fill: #D2E3FC;\n",
              "    }\n",
              "\n",
              "    [theme=dark] .colab-df-convert:hover {\n",
              "      background-color: #434B5C;\n",
              "      box-shadow: 0px 1px 3px 1px rgba(0, 0, 0, 0.15);\n",
              "      filter: drop-shadow(0px 1px 2px rgba(0, 0, 0, 0.3));\n",
              "      fill: #FFFFFF;\n",
              "    }\n",
              "  </style>\n",
              "\n",
              "      <script>\n",
              "        const buttonEl =\n",
              "          document.querySelector('#df-f9dc6c7c-53e0-47cd-a027-17c9c029d598 button.colab-df-convert');\n",
              "        buttonEl.style.display =\n",
              "          google.colab.kernel.accessAllowed ? 'block' : 'none';\n",
              "\n",
              "        async function convertToInteractive(key) {\n",
              "          const element = document.querySelector('#df-f9dc6c7c-53e0-47cd-a027-17c9c029d598');\n",
              "          const dataTable =\n",
              "            await google.colab.kernel.invokeFunction('convertToInteractive',\n",
              "                                                     [key], {});\n",
              "          if (!dataTable) return;\n",
              "\n",
              "          const docLinkHtml = 'Like what you see? Visit the ' +\n",
              "            '<a target=\"_blank\" href=https://colab.research.google.com/notebooks/data_table.ipynb>data table notebook</a>'\n",
              "            + ' to learn more about interactive tables.';\n",
              "          element.innerHTML = '';\n",
              "          dataTable['output_type'] = 'display_data';\n",
              "          await google.colab.output.renderOutput(dataTable, element);\n",
              "          const docLink = document.createElement('div');\n",
              "          docLink.innerHTML = docLinkHtml;\n",
              "          element.appendChild(docLink);\n",
              "        }\n",
              "      </script>\n",
              "    </div>\n",
              "  </div>\n",
              "  "
            ],
            "text/plain": [
              "                                           description  ... data_type_labels\n",
              "493  Dartington Crystal was founded in 1967. Dartin...  ...                1\n",
              "536  Dixon motors is a used car dealer and finance ...  ...                1\n",
              "131  Developer of an investment-type crowdfunding m...  ...                2\n",
              "463  Modimize is a social fashion network that allo...  ...                1\n",
              "606  Longo Lexus is a car dealership located in El ...  ...                1\n",
              "\n",
              "[5 rows x 3 columns]"
            ]
          },
          "metadata": {},
          "execution_count": 14
        }
      ],
      "source": [
        "industry_type_df = industry_type_df.assign(data_type_labels = industry_type_df['data_type'].apply(lambda x:ind_dict[x]))\n",
        "industry_type_df.head(5)"
      ]
    },
    {
      "cell_type": "code",
      "execution_count": null,
      "metadata": {
        "colab": {
          "base_uri": "https://localhost:8080/",
          "height": 282
        },
        "id": "N4ORL7tSX6on",
        "outputId": "3e66bba6-4bb8-4a87-b2ef-c3366d28ee5c"
      },
      "outputs": [
        {
          "output_type": "execute_result",
          "data": {
            "text/plain": [
              "<matplotlib.axes._subplots.AxesSubplot at 0x7f003a34cd50>"
            ]
          },
          "metadata": {},
          "execution_count": 15
        },
        {
          "output_type": "display_data",
          "data": {
            "image/png": "[encoded data removed]",
            "text/plain": [
              "<Figure size 432x288 with 1 Axes>"
            ]
          },
          "metadata": {
            "needs_background": "light"
          }
        }
      ],
      "source": [
        "# get length of all the messages in the train set\n",
        "seq_len = [len(str(i).split()) for i in industry_type_df['description'].tolist()]\n",
        "\n",
        "pd.Series(seq_len).hist(bins = 20)"
      ]
    },
    {
      "cell_type": "code",
      "execution_count": null,
      "metadata": {
        "colab": {
          "base_uri": "https://localhost:8080/"
        },
        "id": "P2UDgrqbX6qp",
        "outputId": "d9d9e1e5-9978-4938-bd5f-c5cf7ca16816"
      },
      "outputs": [
        {
          "output_type": "execute_result",
          "data": {
            "text/plain": [
              "(1630, 2)"
            ]
          },
          "metadata": {},
          "execution_count": 16
        }
      ],
      "source": [
        "max(seq_len), min(seq_len)"
      ]
    },
    {
      "cell_type": "code",
      "execution_count": null,
      "metadata": {
        "colab": {
          "base_uri": "https://localhost:8080/"
        },
        "id": "S0uCLyNnYE2G",
        "outputId": "62840c18-96db-43d5-ba69-6ec411ea3f6b"
      },
      "outputs": [
        {
          "output_type": "execute_result",
          "data": {
            "text/plain": [
              "626"
            ]
          },
          "metadata": {},
          "execution_count": 17
        }
      ],
      "source": [
        "len(seq_len)"
      ]
    },
    {
      "cell_type": "code",
      "execution_count": null,
      "metadata": {
        "colab": {
          "base_uri": "https://localhost:8080/",
          "height": 112
        },
        "id": "snGUAvhkYE4N",
        "outputId": "640d881e-caae-435d-90e3-2f00b7003d04"
      },
      "outputs": [
        {
          "output_type": "execute_result",
          "data": {
            "text/html": [
              "\n",
              "  <div id=\"df-8a42d187-df84-437c-a1a2-48039b875bf7\">\n",
              "    <div class=\"colab-df-container\">\n",
              "      <div>\n",
              "<style scoped>\n",
              "    .dataframe tbody tr th:only-of-type {\n",
              "        vertical-align: middle;\n",
              "    }\n",
              "\n",
              "    .dataframe tbody tr th {\n",
              "        vertical-align: top;\n",
              "    }\n",
              "\n",
              "    .dataframe thead th {\n",
              "        text-align: right;\n",
              "    }\n",
              "</style>\n",
              "<table border=\"1\" class=\"dataframe\">\n",
              "  <thead>\n",
              "    <tr style=\"text-align: right;\">\n",
              "      <th></th>\n",
              "      <th>description</th>\n",
              "      <th>data_type</th>\n",
              "      <th>data_type_labels</th>\n",
              "      <th>seq_len</th>\n",
              "    </tr>\n",
              "  </thead>\n",
              "  <tbody>\n",
              "    <tr>\n",
              "      <th>493</th>\n",
              "      <td>Dartington Crystal was founded in 1967. Dartin...</td>\n",
              "      <td>Non-Technology driven</td>\n",
              "      <td>1</td>\n",
              "      <td>55</td>\n",
              "    </tr>\n",
              "    <tr>\n",
              "      <th>536</th>\n",
              "      <td>Dixon motors is a used car dealer and finance ...</td>\n",
              "      <td>Non-Technology driven</td>\n",
              "      <td>1</td>\n",
              "      <td>13</td>\n",
              "    </tr>\n",
              "  </tbody>\n",
              "</table>\n",
              "</div>\n",
              "      <button class=\"colab-df-convert\" onclick=\"convertToInteractive('df-8a42d187-df84-437c-a1a2-48039b875bf7')\"\n",
              "              title=\"Convert this dataframe to an interactive table.\"\n",
              "              style=\"display:none;\">\n",
              "        \n",
              "  <svg xmlns=\"http://www.w3.org/2000/svg\" height=\"24px\"viewBox=\"0 0 24 24\"\n",
              "       width=\"24px\">\n",
              "    <path d=\"M0 0h24v24H0V0z\" fill=\"none\"/>\n",
              "    <path d=\"M18.56 5.44l.94 2.06.94-2.06 2.06-.94-2.06-.94-.94-2.06-.94 2.06-2.06.94zm-11 1L8.5 8.5l.94-2.06 2.06-.94-2.06-.94L8.5 2.5l-.94 2.06-2.06.94zm10 10l.94 2.06.94-2.06 2.06-.94-2.06-.94-.94-2.06-.94 2.06-2.06.94z\"/><path d=\"M17.41 7.96l-1.37-1.37c-.4-.4-.92-.59-1.43-.59-.52 0-1.04.2-1.43.59L10.3 9.45l-7.72 7.72c-.78.78-.78 2.05 0 2.83L4 21.41c.39.39.9.59 1.41.59.51 0 1.02-.2 1.41-.59l7.78-7.78 2.81-2.81c.8-.78.8-2.07 0-2.86zM5.41 20L4 18.59l7.72-7.72 1.47 1.35L5.41 20z\"/>\n",
              "  </svg>\n",
              "      </button>\n",
              "      \n",
              "  <style>\n",
              "    .colab-df-container {\n",
              "      display:flex;\n",
              "      flex-wrap:wrap;\n",
              "      gap: 12px;\n",
              "    }\n",
              "\n",
              "    .colab-df-convert {\n",
              "      background-color: #E8F0FE;\n",
              "      border: none;\n",
              "      border-radius: 50%;\n",
              "      cursor: pointer;\n",
              "      display: none;\n",
              "      fill: #1967D2;\n",
              "      height: 32px;\n",
              "      padding: 0 0 0 0;\n",
              "      width: 32px;\n",
              "    }\n",
              "\n",
              "    .colab-df-convert:hover {\n",
              "      background-color: #E2EBFA;\n",
              "      box-shadow: 0px 1px 2px rgba(60, 64, 67, 0.3), 0px 1px 3px 1px rgba(60, 64, 67, 0.15);\n",
              "      fill: #174EA6;\n",
              "    }\n",
              "\n",
              "    [theme=dark] .colab-df-convert {\n",
              "      background-color: #3B4455;\n",
              "      fill: #D2E3FC;\n",
              "    }\n",
              "\n",
              "    [theme=dark] .colab-df-convert:hover {\n",
              "      background-color: #434B5C;\n",
              "      box-shadow: 0px 1px 3px 1px rgba(0, 0, 0, 0.15);\n",
              "      filter: drop-shadow(0px 1px 2px rgba(0, 0, 0, 0.3));\n",
              "      fill: #FFFFFF;\n",
              "    }\n",
              "  </style>\n",
              "\n",
              "      <script>\n",
              "        const buttonEl =\n",
              "          document.querySelector('#df-8a42d187-df84-437c-a1a2-48039b875bf7 button.colab-df-convert');\n",
              "        buttonEl.style.display =\n",
              "          google.colab.kernel.accessAllowed ? 'block' : 'none';\n",
              "\n",
              "        async function convertToInteractive(key) {\n",
              "          const element = document.querySelector('#df-8a42d187-df84-437c-a1a2-48039b875bf7');\n",
              "          const dataTable =\n",
              "            await google.colab.kernel.invokeFunction('convertToInteractive',\n",
              "                                                     [key], {});\n",
              "          if (!dataTable) return;\n",
              "\n",
              "          const docLinkHtml = 'Like what you see? Visit the ' +\n",
              "            '<a target=\"_blank\" href=https://colab.research.google.com/notebooks/data_table.ipynb>data table notebook</a>'\n",
              "            + ' to learn more about interactive tables.';\n",
              "          element.innerHTML = '';\n",
              "          dataTable['output_type'] = 'display_data';\n",
              "          await google.colab.output.renderOutput(dataTable, element);\n",
              "          const docLink = document.createElement('div');\n",
              "          docLink.innerHTML = docLinkHtml;\n",
              "          element.appendChild(docLink);\n",
              "        }\n",
              "      </script>\n",
              "    </div>\n",
              "  </div>\n",
              "  "
            ],
            "text/plain": [
              "                                           description  ... seq_len\n",
              "493  Dartington Crystal was founded in 1967. Dartin...  ...      55\n",
              "536  Dixon motors is a used car dealer and finance ...  ...      13\n",
              "\n",
              "[2 rows x 4 columns]"
            ]
          },
          "metadata": {},
          "execution_count": 18
        }
      ],
      "source": [
        "industry_type_df = industry_type_df.assign(seq_len = seq_len)\n",
        "industry_type_df.head(2)"
      ]
    },
    {
      "cell_type": "code",
      "execution_count": null,
      "metadata": {
        "id": "G2EXYBUoYE8g"
      },
      "outputs": [],
      "source": [
        "industry_type_df = industry_type_df[['description', 'data_type_labels']]"
      ]
    },
    {
      "cell_type": "code",
      "execution_count": null,
      "metadata": {
        "id": "1SXZ0k97YE-t"
      },
      "outputs": [],
      "source": [
        "df_train = industry_type_df[0:int(industry_type_df.shape[0]*0.90)]\n",
        "df_test = industry_type_df[0:int(industry_type_df.shape[0]*0.10)]"
      ]
    },
    {
      "cell_type": "code",
      "execution_count": null,
      "metadata": {
        "id": "sP7oavESX6sv"
      },
      "outputs": [],
      "source": [
        "train, valid = train_test_split(\n",
        "    df_train,\n",
        "    train_size=0.80,\n",
        "    random_state=0,\n",
        "    stratify=df_train['data_type_labels'])\n",
        "\n",
        "y_train, X_train = train['data_type_labels'], train.drop(['data_type_labels'], axis=1)\n",
        "y_valid, X_valid = valid['data_type_labels'], valid.drop(['data_type_labels'], axis=1)"
      ]
    },
    {
      "cell_type": "code",
      "execution_count": null,
      "metadata": {
        "colab": {
          "base_uri": "https://localhost:8080/"
        },
        "id": "fUglCC36X6un",
        "outputId": "a2ac3dee-358b-403e-85ef-0874e025dcb5"
      },
      "outputs": [
        {
          "output_type": "execute_result",
          "data": {
            "text/plain": [
              "((306, 1), (77, 1))"
            ]
          },
          "metadata": {},
          "execution_count": 23
        }
      ],
      "source": [
        "X_train.shape, X_valid.shape"
      ]
    },
    {
      "cell_type": "code",
      "source": [
        "y_train"
      ],
      "metadata": {
        "colab": {
          "base_uri": "https://localhost:8080/"
        },
        "id": "UQRUgOAZc6J9",
        "outputId": "1870521d-5de7-4ed4-ed2e-7fe6f8cd59ca"
      },
      "execution_count": null,
      "outputs": [
        {
          "output_type": "execute_result",
          "data": {
            "text/plain": [
              "2377    15\n",
              "362      9\n",
              "1972     3\n",
              "4183    14\n",
              "12       3\n",
              "        ..\n",
              "841      9\n",
              "22       3\n",
              "583      5\n",
              "3648    10\n",
              "4139    14\n",
              "Name: data_type_labels, Length: 3032, dtype: int64"
            ]
          },
          "metadata": {},
          "execution_count": 32
        }
      ]
    },
    {
      "cell_type": "code",
      "execution_count": null,
      "metadata": {
        "id": "BX1g-pBtYOSx"
      },
      "outputs": [],
      "source": [
        "train_pool = Pool(\n",
        "    data=X_train,\n",
        "    label=y_train,\n",
        "    text_features=['description']\n",
        ")\n",
        "\n",
        "valid_pool = Pool(\n",
        "    data=X_valid, \n",
        "    label=y_valid,\n",
        "    text_features=['description']\n",
        ")\n",
        "\n",
        "test_pool = Pool(\n",
        "    data=df_test[[c for c in df_test.columns if c!='data_type_labels']][['description']], \n",
        "    label=df_test['data_type_labels'],\n",
        "    text_features=['description']\n",
        ")"
      ]
    },
    {
      "cell_type": "code",
      "execution_count": null,
      "metadata": {
        "id": "AkfSh3xGYOU_"
      },
      "outputs": [],
      "source": [
        "def fit_model(train_pool, test_pool, **kwargs):\n",
        "    model = CatBoostClassifier(\n",
        "        task_type='GPU',\n",
        "        iterations=5000,\n",
        "        eval_metric='Accuracy',\n",
        "        od_type='Iter',\n",
        "        od_wait=500,\n",
        "        **kwargs\n",
        "    )\n",
        "\n",
        "    return model.fit(\n",
        "        train_pool,\n",
        "        eval_set=test_pool,\n",
        "        verbose=100,\n",
        "        plot=True,\n",
        "        use_best_model=True)"
      ]
    },
    {
      "cell_type": "code",
      "execution_count": null,
      "metadata": {
        "colab": {
          "base_uri": "https://localhost:8080/",
          "height": 173,
          "referenced_widgets": [
            "1193fc74b818498c9e0b0bb333253e79"
          ]
        },
        "id": "ARlMg5B2YOXD",
        "outputId": "73e2045c-1417-4ee4-c7b4-b12adc5c4e73"
      },
      "outputs": [
        {
          "output_type": "display_data",
          "data": {
            "application/vnd.jupyter.widget-view+json": {
              "model_id": "1193fc74b818498c9e0b0bb333253e79",
              "version_minor": 0,
              "version_major": 2
            },
            "text/plain": [
              "MetricVisualizer(layout=Layout(align_self='stretch', height='500px'))"
            ]
          },
          "metadata": {}
        },
        {
          "output_type": "stream",
          "name": "stdout",
          "text": [
            "0:\tlearn: 0.7908497\ttest: 0.7792208\tbest: 0.7792208 (0)\ttotal: 53.2ms\tremaining: 4m 25s\n",
            "100:\tlearn: 1.0000000\ttest: 0.8961039\tbest: 0.9350649 (12)\ttotal: 4.39s\tremaining: 3m 33s\n",
            "200:\tlearn: 1.0000000\ttest: 0.8831169\tbest: 0.9350649 (12)\ttotal: 8.47s\tremaining: 3m 22s\n",
            "300:\tlearn: 1.0000000\ttest: 0.8831169\tbest: 0.9350649 (12)\ttotal: 12.5s\tremaining: 3m 15s\n",
            "400:\tlearn: 1.0000000\ttest: 0.8961039\tbest: 0.9350649 (12)\ttotal: 16.7s\tremaining: 3m 11s\n",
            "500:\tlearn: 1.0000000\ttest: 0.8961039\tbest: 0.9350649 (12)\ttotal: 20.8s\tremaining: 3m 6s\n",
            "bestTest = 0.9350649351\n",
            "bestIteration = 12\n",
            "Shrink model to first 13 iterations.\n"
          ]
        }
      ],
      "source": [
        "model = fit_model(\n",
        "    train_pool, valid_pool,\n",
        "    learning_rate=0.35,\n",
        "    tokenizers=[\n",
        "        {\n",
        "            'tokenizer_id': 'Sense',\n",
        "            'separator_type': 'BySense',\n",
        "            'lowercasing': 'True',\n",
        "            'token_types':['Word', 'Number', 'SentenceBreak'],\n",
        "            'sub_tokens_policy':'SeveralTokens'\n",
        "        }      \n",
        "    ],\n",
        "    dictionaries = [\n",
        "        {\n",
        "            'dictionary_id': 'Word',\n",
        "            'max_dictionary_size': '50000'\n",
        "        }\n",
        "    ],\n",
        "    feature_calcers = [\n",
        "        'BoW:top_tokens_count=10000'\n",
        "    ]\n",
        ")"
      ]
    },
    {
      "cell_type": "code",
      "execution_count": null,
      "metadata": {
        "id": "iN1ryQZjYOZz",
        "colab": {
          "base_uri": "https://localhost:8080/",
          "height": 802
        },
        "outputId": "68e632d3-6678-41ab-b372-73149d6a8115"
      },
      "outputs": [
        {
          "output_type": "execute_result",
          "data": {
            "text/html": [
              "\n",
              "  <div id=\"df-fc2b6a4e-eb71-49a2-96da-e1c16714d563\">\n",
              "    <div class=\"colab-df-container\">\n",
              "      <div>\n",
              "<style scoped>\n",
              "    .dataframe tbody tr th:only-of-type {\n",
              "        vertical-align: middle;\n",
              "    }\n",
              "\n",
              "    .dataframe tbody tr th {\n",
              "        vertical-align: top;\n",
              "    }\n",
              "\n",
              "    .dataframe thead th {\n",
              "        text-align: right;\n",
              "    }\n",
              "</style>\n",
              "<table border=\"1\" class=\"dataframe\">\n",
              "  <thead>\n",
              "    <tr style=\"text-align: right;\">\n",
              "      <th></th>\n",
              "      <th>description</th>\n",
              "      <th>data_type_labels</th>\n",
              "      <th>predict</th>\n",
              "    </tr>\n",
              "  </thead>\n",
              "  <tbody>\n",
              "    <tr>\n",
              "      <th>216</th>\n",
              "      <td>Autoropa is a car dealer of Ferrari, Maserati ...</td>\n",
              "      <td>1</td>\n",
              "      <td>1</td>\n",
              "    </tr>\n",
              "    <tr>\n",
              "      <th>176</th>\n",
              "      <td>Sundaram Fasteners Ltd is an Indian producer o...</td>\n",
              "      <td>1</td>\n",
              "      <td>1</td>\n",
              "    </tr>\n",
              "    <tr>\n",
              "      <th>161</th>\n",
              "      <td>Baxter Auto Group is a family-owned and locall...</td>\n",
              "      <td>1</td>\n",
              "      <td>1</td>\n",
              "    </tr>\n",
              "    <tr>\n",
              "      <th>131</th>\n",
              "      <td>Supplier of tier 1 brakes and suspension parts...</td>\n",
              "      <td>1</td>\n",
              "      <td>1</td>\n",
              "    </tr>\n",
              "    <tr>\n",
              "      <th>2</th>\n",
              "      <td>Jaze is a bluetooth-enabled mobile app that tu...</td>\n",
              "      <td>2</td>\n",
              "      <td>1</td>\n",
              "    </tr>\n",
              "    <tr>\n",
              "      <th>195</th>\n",
              "      <td>Operator of car wash stores based in Bay City,...</td>\n",
              "      <td>1</td>\n",
              "      <td>1</td>\n",
              "    </tr>\n",
              "    <tr>\n",
              "      <th>9</th>\n",
              "      <td>Manufacturer of battery operated electric vehi...</td>\n",
              "      <td>2</td>\n",
              "      <td>2</td>\n",
              "    </tr>\n",
              "    <tr>\n",
              "      <th>206</th>\n",
              "      <td>Operator of a platform intended to offer vehic...</td>\n",
              "      <td>1</td>\n",
              "      <td>1</td>\n",
              "    </tr>\n",
              "    <tr>\n",
              "      <th>175</th>\n",
              "      <td>Lochmandy Auto Group engages in the sales and ...</td>\n",
              "      <td>1</td>\n",
              "      <td>1</td>\n",
              "    </tr>\n",
              "    <tr>\n",
              "      <th>204</th>\n",
              "      <td>We continue to be your prime location for Sell...</td>\n",
              "      <td>1</td>\n",
              "      <td>1</td>\n",
              "    </tr>\n",
              "    <tr>\n",
              "      <th>124</th>\n",
              "      <td>Developer of a shared mobility platform design...</td>\n",
              "      <td>2</td>\n",
              "      <td>2</td>\n",
              "    </tr>\n",
              "    <tr>\n",
              "      <th>8</th>\n",
              "      <td>APTA, Special Employment Center is an Asturian...</td>\n",
              "      <td>2</td>\n",
              "      <td>2</td>\n",
              "    </tr>\n",
              "    <tr>\n",
              "      <th>174</th>\n",
              "      <td>Scranton Motors is a Vernon new and used car d...</td>\n",
              "      <td>1</td>\n",
              "      <td>1</td>\n",
              "    </tr>\n",
              "    <tr>\n",
              "      <th>76</th>\n",
              "      <td>Manufacturer and builder of recreational power...</td>\n",
              "      <td>2</td>\n",
              "      <td>2</td>\n",
              "    </tr>\n",
              "    <tr>\n",
              "      <th>142</th>\n",
              "      <td>Distributor of automotive parts and equipment ...</td>\n",
              "      <td>1</td>\n",
              "      <td>2</td>\n",
              "    </tr>\n",
              "    <tr>\n",
              "      <th>87</th>\n",
              "      <td>Manufacturer of medium size progressive and tr...</td>\n",
              "      <td>2</td>\n",
              "      <td>2</td>\n",
              "    </tr>\n",
              "    <tr>\n",
              "      <th>238</th>\n",
              "      <td>Provider of car rental services. The company p...</td>\n",
              "      <td>1</td>\n",
              "      <td>1</td>\n",
              "    </tr>\n",
              "    <tr>\n",
              "      <th>59</th>\n",
              "      <td>Designer and producer of hand tools in the Uni...</td>\n",
              "      <td>2</td>\n",
              "      <td>2</td>\n",
              "    </tr>\n",
              "    <tr>\n",
              "      <th>163</th>\n",
              "      <td>Bergey&amp;#x27;s is an automotive company that pr...</td>\n",
              "      <td>1</td>\n",
              "      <td>1</td>\n",
              "    </tr>\n",
              "    <tr>\n",
              "      <th>57</th>\n",
              "      <td>National Material Limited Partnership and its ...</td>\n",
              "      <td>2</td>\n",
              "      <td>2</td>\n",
              "    </tr>\n",
              "    <tr>\n",
              "      <th>219</th>\n",
              "      <td>Mike Johnson's Hickory Toyota is a new and use...</td>\n",
              "      <td>1</td>\n",
              "      <td>1</td>\n",
              "    </tr>\n",
              "    <tr>\n",
              "      <th>140</th>\n",
              "      <td>HATCI is Hyundai&amp;#x27;s design, engineering, t...</td>\n",
              "      <td>1</td>\n",
              "      <td>1</td>\n",
              "    </tr>\n",
              "    <tr>\n",
              "      <th>157</th>\n",
              "      <td>Dean Team Automotive Group is a car dealership...</td>\n",
              "      <td>1</td>\n",
              "      <td>1</td>\n",
              "    </tr>\n",
              "    <tr>\n",
              "      <th>19</th>\n",
              "      <td>Manufacturer of high-performance internal engi...</td>\n",
              "      <td>2</td>\n",
              "      <td>2</td>\n",
              "    </tr>\n",
              "  </tbody>\n",
              "</table>\n",
              "</div>\n",
              "      <button class=\"colab-df-convert\" onclick=\"convertToInteractive('df-fc2b6a4e-eb71-49a2-96da-e1c16714d563')\"\n",
              "              title=\"Convert this dataframe to an interactive table.\"\n",
              "              style=\"display:none;\">\n",
              "        \n",
              "  <svg xmlns=\"http://www.w3.org/2000/svg\" height=\"24px\"viewBox=\"0 0 24 24\"\n",
              "       width=\"24px\">\n",
              "    <path d=\"M0 0h24v24H0V0z\" fill=\"none\"/>\n",
              "    <path d=\"M18.56 5.44l.94 2.06.94-2.06 2.06-.94-2.06-.94-.94-2.06-.94 2.06-2.06.94zm-11 1L8.5 8.5l.94-2.06 2.06-.94-2.06-.94L8.5 2.5l-.94 2.06-2.06.94zm10 10l.94 2.06.94-2.06 2.06-.94-2.06-.94-.94-2.06-.94 2.06-2.06.94z\"/><path d=\"M17.41 7.96l-1.37-1.37c-.4-.4-.92-.59-1.43-.59-.52 0-1.04.2-1.43.59L10.3 9.45l-7.72 7.72c-.78.78-.78 2.05 0 2.83L4 21.41c.39.39.9.59 1.41.59.51 0 1.02-.2 1.41-.59l7.78-7.78 2.81-2.81c.8-.78.8-2.07 0-2.86zM5.41 20L4 18.59l7.72-7.72 1.47 1.35L5.41 20z\"/>\n",
              "  </svg>\n",
              "      </button>\n",
              "      \n",
              "  <style>\n",
              "    .colab-df-container {\n",
              "      display:flex;\n",
              "      flex-wrap:wrap;\n",
              "      gap: 12px;\n",
              "    }\n",
              "\n",
              "    .colab-df-convert {\n",
              "      background-color: #E8F0FE;\n",
              "      border: none;\n",
              "      border-radius: 50%;\n",
              "      cursor: pointer;\n",
              "      display: none;\n",
              "      fill: #1967D2;\n",
              "      height: 32px;\n",
              "      padding: 0 0 0 0;\n",
              "      width: 32px;\n",
              "    }\n",
              "\n",
              "    .colab-df-convert:hover {\n",
              "      background-color: #E2EBFA;\n",
              "      box-shadow: 0px 1px 2px rgba(60, 64, 67, 0.3), 0px 1px 3px 1px rgba(60, 64, 67, 0.15);\n",
              "      fill: #174EA6;\n",
              "    }\n",
              "\n",
              "    [theme=dark] .colab-df-convert {\n",
              "      background-color: #3B4455;\n",
              "      fill: #D2E3FC;\n",
              "    }\n",
              "\n",
              "    [theme=dark] .colab-df-convert:hover {\n",
              "      background-color: #434B5C;\n",
              "      box-shadow: 0px 1px 3px 1px rgba(0, 0, 0, 0.15);\n",
              "      filter: drop-shadow(0px 1px 2px rgba(0, 0, 0, 0.3));\n",
              "      fill: #FFFFFF;\n",
              "    }\n",
              "  </style>\n",
              "\n",
              "      <script>\n",
              "        const buttonEl =\n",
              "          document.querySelector('#df-fc2b6a4e-eb71-49a2-96da-e1c16714d563 button.colab-df-convert');\n",
              "        buttonEl.style.display =\n",
              "          google.colab.kernel.accessAllowed ? 'block' : 'none';\n",
              "\n",
              "        async function convertToInteractive(key) {\n",
              "          const element = document.querySelector('#df-fc2b6a4e-eb71-49a2-96da-e1c16714d563');\n",
              "          const dataTable =\n",
              "            await google.colab.kernel.invokeFunction('convertToInteractive',\n",
              "                                                     [key], {});\n",
              "          if (!dataTable) return;\n",
              "\n",
              "          const docLinkHtml = 'Like what you see? Visit the ' +\n",
              "            '<a target=\"_blank\" href=https://colab.research.google.com/notebooks/data_table.ipynb>data table notebook</a>'\n",
              "            + ' to learn more about interactive tables.';\n",
              "          element.innerHTML = '';\n",
              "          dataTable['output_type'] = 'display_data';\n",
              "          await google.colab.output.renderOutput(dataTable, element);\n",
              "          const docLink = document.createElement('div');\n",
              "          docLink.innerHTML = docLinkHtml;\n",
              "          element.appendChild(docLink);\n",
              "        }\n",
              "      </script>\n",
              "    </div>\n",
              "  </div>\n",
              "  "
            ],
            "text/plain": [
              "                                           description  ...  predict\n",
              "216  Autoropa is a car dealer of Ferrari, Maserati ...  ...        1\n",
              "176  Sundaram Fasteners Ltd is an Indian producer o...  ...        1\n",
              "161  Baxter Auto Group is a family-owned and locall...  ...        1\n",
              "131  Supplier of tier 1 brakes and suspension parts...  ...        1\n",
              "2    Jaze is a bluetooth-enabled mobile app that tu...  ...        1\n",
              "195  Operator of car wash stores based in Bay City,...  ...        1\n",
              "9    Manufacturer of battery operated electric vehi...  ...        2\n",
              "206  Operator of a platform intended to offer vehic...  ...        1\n",
              "175  Lochmandy Auto Group engages in the sales and ...  ...        1\n",
              "204  We continue to be your prime location for Sell...  ...        1\n",
              "124  Developer of a shared mobility platform design...  ...        2\n",
              "8    APTA, Special Employment Center is an Asturian...  ...        2\n",
              "174  Scranton Motors is a Vernon new and used car d...  ...        1\n",
              "76   Manufacturer and builder of recreational power...  ...        2\n",
              "142  Distributor of automotive parts and equipment ...  ...        2\n",
              "87   Manufacturer of medium size progressive and tr...  ...        2\n",
              "238  Provider of car rental services. The company p...  ...        1\n",
              "59   Designer and producer of hand tools in the Uni...  ...        2\n",
              "163  Bergey&#x27;s is an automotive company that pr...  ...        1\n",
              "57   National Material Limited Partnership and its ...  ...        2\n",
              "219  Mike Johnson's Hickory Toyota is a new and use...  ...        1\n",
              "140  HATCI is Hyundai&#x27;s design, engineering, t...  ...        1\n",
              "157  Dean Team Automotive Group is a car dealership...  ...        1\n",
              "19   Manufacturer of high-performance internal engi...  ...        2\n",
              "\n",
              "[24 rows x 3 columns]"
            ]
          },
          "metadata": {},
          "execution_count": 26
        }
      ],
      "source": [
        "y_proba_cb = model.predict_proba(test_pool)\n",
        "y_pred = np.argmax(y_proba_cb, axis=1)\n",
        "df_test.assign(predict = model.predict(test_pool))\n",
        "# df_test['predict'] = model.predict(test_pool)"
      ]
    },
    {
      "cell_type": "code",
      "execution_count": null,
      "metadata": {
        "id": "FLDTcF4kYWKI",
        "colab": {
          "base_uri": "https://localhost:8080/"
        },
        "outputId": "1550577f-bb6c-429c-8798-c7703bc864f5"
      },
      "outputs": [
        {
          "output_type": "stream",
          "name": "stdout",
          "text": [
            "CatBoost model accuracy: 0.9285714285714286\n"
          ]
        }
      ],
      "source": [
        "acc = model.score(test_pool)\n",
        "print(f\"CatBoost model accuracy: {acc}\")"
      ]
    },
    {
      "cell_type": "code",
      "source": [
        "model.save_model('company_classification_model_new') "
      ],
      "metadata": {
        "id": "ZH4DvmTyG9E6"
      },
      "execution_count": null,
      "outputs": []
    },
    {
      "cell_type": "code",
      "source": [
        "def question_type_prediction(sentence):\n",
        "    model = CatBoostClassifier()\n",
        "    model.load_model('./company_classification_model_new')\n",
        "    model_prediction = model.predict([sentence])\n",
        "    # prediction = [('additional information' if i == 1 else ('clarification' if i == 2 else 'findability')) for i in\n",
        "    #               model_prediction]\n",
        "    # print(\"model_prediction:\", model_prediction)\n",
        "    if model_prediction == 1:\n",
        "      prediction = 'Non-Technology driven(Supplier)'\n",
        "    else:\n",
        "      prediction = 'Technology driven(Manufacturer)'  \n",
        "    # prediction = [('Non-Technology driven(Supplier)' if i == 1 else ('Technology driven(Manufacturer))') for i in model_prediction]\n",
        "    # string_output=' '.join(map(str,prediction))\n",
        "    return prediction\n"
      ],
      "metadata": {
        "id": "pstrbX6SZoN8"
      },
      "execution_count": null,
      "outputs": []
    },
    {
      "cell_type": "code",
      "source": [
        ""
      ],
      "metadata": {
        "id": "E5qxkRX93s-j"
      },
      "execution_count": null,
      "outputs": []
    },
    {
      "cell_type": "code",
      "source": [
        ""
      ],
      "metadata": {
        "id": "8oUUTuDa3tLD"
      },
      "execution_count": null,
      "outputs": []
    },
    {
      "cell_type": "code",
      "source": [
        ""
      ],
      "metadata": {
        "id": "jVq3-llp3tN0"
      },
      "execution_count": null,
      "outputs": []
    },
    {
      "cell_type": "code",
      "source": [
        ""
      ],
      "metadata": {
        "id": "_Z5Pvxk43tQS"
      },
      "execution_count": null,
      "outputs": []
    },
    {
      "cell_type": "code",
      "source": [
        ""
      ],
      "metadata": {
        "id": "YFhl0o7I3tTG"
      },
      "execution_count": null,
      "outputs": []
    },
    {
      "cell_type": "code",
      "source": [
        "question_type_prediction('Provider of online driver defensive training courses. The company provides traffic instruction and improvement courses for its customers who have received a traffic ticket or want to reduce their auto insurance premiums.')"
      ],
      "metadata": {
        "colab": {
          "base_uri": "https://localhost:8080/",
          "height": 35
        },
        "id": "nKMbTABLZslT",
        "outputId": "f0465dcf-b19d-467a-c209-fdc31133e306"
      },
      "execution_count": null,
      "outputs": [
        {
          "output_type": "execute_result",
          "data": {
            "application/vnd.google.colaboratory.intrinsic+json": {
              "type": "string"
            },
            "text/plain": [
              "'Technology driven(Manufacturer)'"
            ]
          },
          "metadata": {},
          "execution_count": 33
        }
      ]
    },
    {
      "cell_type": "code",
      "source": [
        "test_data = pd.read_excel(\"/content/company_classification_phrases.xlsx\", sheet_name = \"Test\")\n",
        "test_data.head()"
      ],
      "metadata": {
        "colab": {
          "base_uri": "https://localhost:8080/",
          "height": 206
        },
        "id": "2_LaR3vogaTe",
        "outputId": "bf8883fd-5fa9-4056-c1cd-f0e608dd8cc3"
      },
      "execution_count": null,
      "outputs": [
        {
          "output_type": "execute_result",
          "data": {
            "text/html": [
              "\n",
              "  <div id=\"df-707735e9-4a6b-44a5-b73a-0b39b4b480c9\">\n",
              "    <div class=\"colab-df-container\">\n",
              "      <div>\n",
              "<style scoped>\n",
              "    .dataframe tbody tr th:only-of-type {\n",
              "        vertical-align: middle;\n",
              "    }\n",
              "\n",
              "    .dataframe tbody tr th {\n",
              "        vertical-align: top;\n",
              "    }\n",
              "\n",
              "    .dataframe thead th {\n",
              "        text-align: right;\n",
              "    }\n",
              "</style>\n",
              "<table border=\"1\" class=\"dataframe\">\n",
              "  <thead>\n",
              "    <tr style=\"text-align: right;\">\n",
              "      <th></th>\n",
              "      <th>Sentence</th>\n",
              "      <th>Type</th>\n",
              "    </tr>\n",
              "  </thead>\n",
              "  <tbody>\n",
              "    <tr>\n",
              "      <th>0</th>\n",
              "      <td>GreenByte Technologies is an IT company that p...</td>\n",
              "      <td>Technology</td>\n",
              "    </tr>\n",
              "    <tr>\n",
              "      <th>1</th>\n",
              "      <td>VLDB Solutions are an independent data consult...</td>\n",
              "      <td>Technology</td>\n",
              "    </tr>\n",
              "    <tr>\n",
              "      <th>2</th>\n",
              "      <td>Provider of software solutions based in Ingols...</td>\n",
              "      <td>Technology</td>\n",
              "    </tr>\n",
              "    <tr>\n",
              "      <th>3</th>\n",
              "      <td>Provider of a phone-to-television videosharing...</td>\n",
              "      <td>Technology</td>\n",
              "    </tr>\n",
              "    <tr>\n",
              "      <th>4</th>\n",
              "      <td>Developer of a medical healthcare software int...</td>\n",
              "      <td>Technology</td>\n",
              "    </tr>\n",
              "  </tbody>\n",
              "</table>\n",
              "</div>\n",
              "      <button class=\"colab-df-convert\" onclick=\"convertToInteractive('df-707735e9-4a6b-44a5-b73a-0b39b4b480c9')\"\n",
              "              title=\"Convert this dataframe to an interactive table.\"\n",
              "              style=\"display:none;\">\n",
              "        \n",
              "  <svg xmlns=\"http://www.w3.org/2000/svg\" height=\"24px\"viewBox=\"0 0 24 24\"\n",
              "       width=\"24px\">\n",
              "    <path d=\"M0 0h24v24H0V0z\" fill=\"none\"/>\n",
              "    <path d=\"M18.56 5.44l.94 2.06.94-2.06 2.06-.94-2.06-.94-.94-2.06-.94 2.06-2.06.94zm-11 1L8.5 8.5l.94-2.06 2.06-.94-2.06-.94L8.5 2.5l-.94 2.06-2.06.94zm10 10l.94 2.06.94-2.06 2.06-.94-2.06-.94-.94-2.06-.94 2.06-2.06.94z\"/><path d=\"M17.41 7.96l-1.37-1.37c-.4-.4-.92-.59-1.43-.59-.52 0-1.04.2-1.43.59L10.3 9.45l-7.72 7.72c-.78.78-.78 2.05 0 2.83L4 21.41c.39.39.9.59 1.41.59.51 0 1.02-.2 1.41-.59l7.78-7.78 2.81-2.81c.8-.78.8-2.07 0-2.86zM5.41 20L4 18.59l7.72-7.72 1.47 1.35L5.41 20z\"/>\n",
              "  </svg>\n",
              "      </button>\n",
              "      \n",
              "  <style>\n",
              "    .colab-df-container {\n",
              "      display:flex;\n",
              "      flex-wrap:wrap;\n",
              "      gap: 12px;\n",
              "    }\n",
              "\n",
              "    .colab-df-convert {\n",
              "      background-color: #E8F0FE;\n",
              "      border: none;\n",
              "      border-radius: 50%;\n",
              "      cursor: pointer;\n",
              "      display: none;\n",
              "      fill: #1967D2;\n",
              "      height: 32px;\n",
              "      padding: 0 0 0 0;\n",
              "      width: 32px;\n",
              "    }\n",
              "\n",
              "    .colab-df-convert:hover {\n",
              "      background-color: #E2EBFA;\n",
              "      box-shadow: 0px 1px 2px rgba(60, 64, 67, 0.3), 0px 1px 3px 1px rgba(60, 64, 67, 0.15);\n",
              "      fill: #174EA6;\n",
              "    }\n",
              "\n",
              "    [theme=dark] .colab-df-convert {\n",
              "      background-color: #3B4455;\n",
              "      fill: #D2E3FC;\n",
              "    }\n",
              "\n",
              "    [theme=dark] .colab-df-convert:hover {\n",
              "      background-color: #434B5C;\n",
              "      box-shadow: 0px 1px 3px 1px rgba(0, 0, 0, 0.15);\n",
              "      filter: drop-shadow(0px 1px 2px rgba(0, 0, 0, 0.3));\n",
              "      fill: #FFFFFF;\n",
              "    }\n",
              "  </style>\n",
              "\n",
              "      <script>\n",
              "        const buttonEl =\n",
              "          document.querySelector('#df-707735e9-4a6b-44a5-b73a-0b39b4b480c9 button.colab-df-convert');\n",
              "        buttonEl.style.display =\n",
              "          google.colab.kernel.accessAllowed ? 'block' : 'none';\n",
              "\n",
              "        async function convertToInteractive(key) {\n",
              "          const element = document.querySelector('#df-707735e9-4a6b-44a5-b73a-0b39b4b480c9');\n",
              "          const dataTable =\n",
              "            await google.colab.kernel.invokeFunction('convertToInteractive',\n",
              "                                                     [key], {});\n",
              "          if (!dataTable) return;\n",
              "\n",
              "          const docLinkHtml = 'Like what you see? Visit the ' +\n",
              "            '<a target=\"_blank\" href=https://colab.research.google.com/notebooks/data_table.ipynb>data table notebook</a>'\n",
              "            + ' to learn more about interactive tables.';\n",
              "          element.innerHTML = '';\n",
              "          dataTable['output_type'] = 'display_data';\n",
              "          await google.colab.output.renderOutput(dataTable, element);\n",
              "          const docLink = document.createElement('div');\n",
              "          docLink.innerHTML = docLinkHtml;\n",
              "          element.appendChild(docLink);\n",
              "        }\n",
              "      </script>\n",
              "    </div>\n",
              "  </div>\n",
              "  "
            ],
            "text/plain": [
              "                                            Sentence        Type\n",
              "0  GreenByte Technologies is an IT company that p...  Technology\n",
              "1  VLDB Solutions are an independent data consult...  Technology\n",
              "2  Provider of software solutions based in Ingols...  Technology\n",
              "3  Provider of a phone-to-television videosharing...  Technology\n",
              "4  Developer of a medical healthcare software int...  Technology"
            ]
          },
          "metadata": {},
          "execution_count": 42
        }
      ]
    },
    {
      "cell_type": "code",
      "source": [
        "preds = []\n",
        "for idx in range(len(test_data)):\n",
        "  Sentence = test_data.loc[idx]['Sentence']\n",
        "  prediction = question_type_prediction(Sentence)\n",
        "  preds.append(prediction)\n",
        "test_data['prediction'] = preds  \n",
        "\n",
        "\n"
      ],
      "metadata": {
        "colab": {
          "base_uri": "https://localhost:8080/"
        },
        "id": "W8N1opohgnwQ",
        "outputId": "590deb8a-a476-453e-9cec-458757d48902"
      },
      "execution_count": null,
      "outputs": [
        {
          "output_type": "stream",
          "name": "stdout",
          "text": [
            "model_prediction: 1\n",
            "model_prediction: 2\n",
            "model_prediction: 2\n",
            "model_prediction: 2\n",
            "model_prediction: 2\n",
            "model_prediction: 1\n",
            "model_prediction: 2\n",
            "model_prediction: 1\n",
            "model_prediction: 2\n",
            "model_prediction: 2\n",
            "model_prediction: 1\n",
            "model_prediction: 1\n",
            "model_prediction: 2\n",
            "model_prediction: 2\n",
            "model_prediction: 1\n",
            "model_prediction: 2\n",
            "model_prediction: 2\n",
            "model_prediction: 2\n",
            "model_prediction: 1\n",
            "model_prediction: 1\n",
            "model_prediction: 2\n",
            "model_prediction: 2\n",
            "model_prediction: 2\n",
            "model_prediction: 2\n",
            "model_prediction: 2\n",
            "model_prediction: 2\n",
            "model_prediction: 1\n",
            "model_prediction: 1\n",
            "model_prediction: 2\n",
            "model_prediction: 2\n",
            "model_prediction: 2\n",
            "model_prediction: 2\n",
            "model_prediction: 2\n",
            "model_prediction: 2\n",
            "model_prediction: 2\n",
            "model_prediction: 1\n",
            "model_prediction: 1\n",
            "model_prediction: 2\n",
            "model_prediction: 2\n",
            "model_prediction: 2\n",
            "model_prediction: 2\n",
            "model_prediction: 2\n",
            "model_prediction: 1\n",
            "model_prediction: 1\n",
            "model_prediction: 1\n",
            "model_prediction: 2\n",
            "model_prediction: 1\n",
            "model_prediction: 2\n",
            "model_prediction: 1\n",
            "model_prediction: 2\n",
            "model_prediction: 1\n",
            "model_prediction: 1\n",
            "model_prediction: 2\n",
            "model_prediction: 2\n",
            "model_prediction: 2\n",
            "model_prediction: 1\n",
            "model_prediction: 1\n",
            "model_prediction: 1\n",
            "model_prediction: 2\n",
            "model_prediction: 1\n",
            "model_prediction: 1\n",
            "model_prediction: 1\n",
            "model_prediction: 2\n",
            "model_prediction: 1\n",
            "model_prediction: 1\n",
            "model_prediction: 2\n",
            "model_prediction: 1\n",
            "model_prediction: 1\n",
            "model_prediction: 2\n",
            "model_prediction: 1\n",
            "model_prediction: 1\n",
            "model_prediction: 1\n",
            "model_prediction: 2\n",
            "model_prediction: 1\n",
            "model_prediction: 1\n",
            "model_prediction: 1\n",
            "model_prediction: 2\n",
            "model_prediction: 1\n",
            "model_prediction: 2\n",
            "model_prediction: 1\n",
            "model_prediction: 2\n",
            "model_prediction: 2\n",
            "model_prediction: 2\n",
            "model_prediction: 1\n",
            "model_prediction: 1\n",
            "model_prediction: 2\n",
            "model_prediction: 2\n",
            "model_prediction: 2\n",
            "model_prediction: 2\n",
            "model_prediction: 2\n",
            "model_prediction: 1\n"
          ]
        }
      ]
    },
    {
      "cell_type": "code",
      "source": [
        "test_data.head()"
      ],
      "metadata": {
        "colab": {
          "base_uri": "https://localhost:8080/",
          "height": 206
        },
        "id": "tCFsRYqihRtA",
        "outputId": "23de87db-cfbf-4fed-99a0-373dedc1ccfa"
      },
      "execution_count": null,
      "outputs": [
        {
          "output_type": "execute_result",
          "data": {
            "text/html": [
              "\n",
              "  <div id=\"df-59abb2f4-5e84-440f-8ec6-c176207ba9da\">\n",
              "    <div class=\"colab-df-container\">\n",
              "      <div>\n",
              "<style scoped>\n",
              "    .dataframe tbody tr th:only-of-type {\n",
              "        vertical-align: middle;\n",
              "    }\n",
              "\n",
              "    .dataframe tbody tr th {\n",
              "        vertical-align: top;\n",
              "    }\n",
              "\n",
              "    .dataframe thead th {\n",
              "        text-align: right;\n",
              "    }\n",
              "</style>\n",
              "<table border=\"1\" class=\"dataframe\">\n",
              "  <thead>\n",
              "    <tr style=\"text-align: right;\">\n",
              "      <th></th>\n",
              "      <th>Sentence</th>\n",
              "      <th>Type</th>\n",
              "      <th>prediction</th>\n",
              "    </tr>\n",
              "  </thead>\n",
              "  <tbody>\n",
              "    <tr>\n",
              "      <th>0</th>\n",
              "      <td>GreenByte Technologies is an IT company that p...</td>\n",
              "      <td>Technology</td>\n",
              "      <td>Non-Technology driven(Supplier)</td>\n",
              "    </tr>\n",
              "    <tr>\n",
              "      <th>1</th>\n",
              "      <td>VLDB Solutions are an independent data consult...</td>\n",
              "      <td>Technology</td>\n",
              "      <td>Technology driven(Manufacturer)</td>\n",
              "    </tr>\n",
              "    <tr>\n",
              "      <th>2</th>\n",
              "      <td>Provider of software solutions based in Ingols...</td>\n",
              "      <td>Technology</td>\n",
              "      <td>Technology driven(Manufacturer)</td>\n",
              "    </tr>\n",
              "    <tr>\n",
              "      <th>3</th>\n",
              "      <td>Provider of a phone-to-television videosharing...</td>\n",
              "      <td>Technology</td>\n",
              "      <td>Technology driven(Manufacturer)</td>\n",
              "    </tr>\n",
              "    <tr>\n",
              "      <th>4</th>\n",
              "      <td>Developer of a medical healthcare software int...</td>\n",
              "      <td>Technology</td>\n",
              "      <td>Technology driven(Manufacturer)</td>\n",
              "    </tr>\n",
              "  </tbody>\n",
              "</table>\n",
              "</div>\n",
              "      <button class=\"colab-df-convert\" onclick=\"convertToInteractive('df-59abb2f4-5e84-440f-8ec6-c176207ba9da')\"\n",
              "              title=\"Convert this dataframe to an interactive table.\"\n",
              "              style=\"display:none;\">\n",
              "        \n",
              "  <svg xmlns=\"http://www.w3.org/2000/svg\" height=\"24px\"viewBox=\"0 0 24 24\"\n",
              "       width=\"24px\">\n",
              "    <path d=\"M0 0h24v24H0V0z\" fill=\"none\"/>\n",
              "    <path d=\"M18.56 5.44l.94 2.06.94-2.06 2.06-.94-2.06-.94-.94-2.06-.94 2.06-2.06.94zm-11 1L8.5 8.5l.94-2.06 2.06-.94-2.06-.94L8.5 2.5l-.94 2.06-2.06.94zm10 10l.94 2.06.94-2.06 2.06-.94-2.06-.94-.94-2.06-.94 2.06-2.06.94z\"/><path d=\"M17.41 7.96l-1.37-1.37c-.4-.4-.92-.59-1.43-.59-.52 0-1.04.2-1.43.59L10.3 9.45l-7.72 7.72c-.78.78-.78 2.05 0 2.83L4 21.41c.39.39.9.59 1.41.59.51 0 1.02-.2 1.41-.59l7.78-7.78 2.81-2.81c.8-.78.8-2.07 0-2.86zM5.41 20L4 18.59l7.72-7.72 1.47 1.35L5.41 20z\"/>\n",
              "  </svg>\n",
              "      </button>\n",
              "      \n",
              "  <style>\n",
              "    .colab-df-container {\n",
              "      display:flex;\n",
              "      flex-wrap:wrap;\n",
              "      gap: 12px;\n",
              "    }\n",
              "\n",
              "    .colab-df-convert {\n",
              "      background-color: #E8F0FE;\n",
              "      border: none;\n",
              "      border-radius: 50%;\n",
              "      cursor: pointer;\n",
              "      display: none;\n",
              "      fill: #1967D2;\n",
              "      height: 32px;\n",
              "      padding: 0 0 0 0;\n",
              "      width: 32px;\n",
              "    }\n",
              "\n",
              "    .colab-df-convert:hover {\n",
              "      background-color: #E2EBFA;\n",
              "      box-shadow: 0px 1px 2px rgba(60, 64, 67, 0.3), 0px 1px 3px 1px rgba(60, 64, 67, 0.15);\n",
              "      fill: #174EA6;\n",
              "    }\n",
              "\n",
              "    [theme=dark] .colab-df-convert {\n",
              "      background-color: #3B4455;\n",
              "      fill: #D2E3FC;\n",
              "    }\n",
              "\n",
              "    [theme=dark] .colab-df-convert:hover {\n",
              "      background-color: #434B5C;\n",
              "      box-shadow: 0px 1px 3px 1px rgba(0, 0, 0, 0.15);\n",
              "      filter: drop-shadow(0px 1px 2px rgba(0, 0, 0, 0.3));\n",
              "      fill: #FFFFFF;\n",
              "    }\n",
              "  </style>\n",
              "\n",
              "      <script>\n",
              "        const buttonEl =\n",
              "          document.querySelector('#df-59abb2f4-5e84-440f-8ec6-c176207ba9da button.colab-df-convert');\n",
              "        buttonEl.style.display =\n",
              "          google.colab.kernel.accessAllowed ? 'block' : 'none';\n",
              "\n",
              "        async function convertToInteractive(key) {\n",
              "          const element = document.querySelector('#df-59abb2f4-5e84-440f-8ec6-c176207ba9da');\n",
              "          const dataTable =\n",
              "            await google.colab.kernel.invokeFunction('convertToInteractive',\n",
              "                                                     [key], {});\n",
              "          if (!dataTable) return;\n",
              "\n",
              "          const docLinkHtml = 'Like what you see? Visit the ' +\n",
              "            '<a target=\"_blank\" href=https://colab.research.google.com/notebooks/data_table.ipynb>data table notebook</a>'\n",
              "            + ' to learn more about interactive tables.';\n",
              "          element.innerHTML = '';\n",
              "          dataTable['output_type'] = 'display_data';\n",
              "          await google.colab.output.renderOutput(dataTable, element);\n",
              "          const docLink = document.createElement('div');\n",
              "          docLink.innerHTML = docLinkHtml;\n",
              "          element.appendChild(docLink);\n",
              "        }\n",
              "      </script>\n",
              "    </div>\n",
              "  </div>\n",
              "  "
            ],
            "text/plain": [
              "                                            Sentence  ...                       prediction\n",
              "0  GreenByte Technologies is an IT company that p...  ...  Non-Technology driven(Supplier)\n",
              "1  VLDB Solutions are an independent data consult...  ...  Technology driven(Manufacturer)\n",
              "2  Provider of software solutions based in Ingols...  ...  Technology driven(Manufacturer)\n",
              "3  Provider of a phone-to-television videosharing...  ...  Technology driven(Manufacturer)\n",
              "4  Developer of a medical healthcare software int...  ...  Technology driven(Manufacturer)\n",
              "\n",
              "[5 rows x 3 columns]"
            ]
          },
          "metadata": {},
          "execution_count": 45
        }
      ]
    },
    {
      "cell_type": "code",
      "source": [
        "test_data.to_excel(\"company_classofocation.xlsx\")"
      ],
      "metadata": {
        "id": "r3FuKcgnhVI7"
      },
      "execution_count": null,
      "outputs": []
    }
  ],
  "metadata": {
    "accelerator": "GPU",
    "colab": {
      "collapsed_sections": [],
      "name": "catboost_company_classification.ipynb",
      "provenance": []
    },
    "kernelspec": {
      "display_name": "Python 3 (ipykernel)",
      "language": "python",
      "name": "python3"
    },
    "language_info": {
      "codemirror_mode": {
        "name": "ipython",
        "version": 3
      },
      "file_extension": ".py",
      "mimetype": "text/x-python",
      "name": "python",
      "nbconvert_exporter": "python",
      "pygments_lexer": "ipython3",
      "version": "3.7.6"
    },
    "widgets": {
      "application/vnd.jupyter.widget-state+json": {
        "1193fc74b818498c9e0b0bb333253e79": {
          "model_module": "catboost-widget",
          "model_name": "CatboostWidgetModel",
          "model_module_version": "^1.0.0",
          "state": {
            "_view_name": "CatboostWidgetView",
            "_dom_classes": [],
            "_model_name": "CatboostWidgetModel",
            "data": {
              "catboost_info": {
                "content": {
                  "data": {
                    "meta": {
                      "name": "experiment",
                      "parameters": "",
                      "test_metrics": [
                        {
                          "best_value": "Max",
                          "name": "Accuracy"
                        },
                        {
                          "best_value": "Min",
                          "name": "Logloss"
                        }
                      ],
                      "learn_sets": [
                        "learn"
                      ],
                      "launch_mode": "Train",
                      "learn_metrics": [
                        {
                          "best_value": "Max",
                          "name": "Accuracy"
                        },
                        {
                          "best_value": "Min",
                          "name": "Logloss"
                        }
                      ],
                      "iteration_count": 5000,
                      "test_sets": [
                        "test"
                      ]
                    },
                    "iterations": [
                      {
                        "test": [
                          0.7792207792,
                          0.4683718991
                        ],
                        "passed_time": 0.05318899484,
                        "iteration": 0,
                        "remaining_time": 265.8917852,
                        "learn": [
                          0.7908496732,
                          0.4502116185
                        ]
                      },
                      {
                        "test": [
                          0.8701298701,
                          0.3778717982
                        ],
                        "passed_time": 0.104008097,
                        "iteration": 1,
                        "remaining_time": 259.9162344,
                        "learn": [
                          0.8758169935,
                          0.3568514905
                        ]
                      },
                      {
                        "test": [
                          0.8831168831,
                          0.3394681014
                        ],
                        "passed_time": 0.1703525922,
                        "iteration": 2,
                        "remaining_time": 283.7506343,
                        "learn": [
                          0.8986928105,
                          0.3098810732
                        ]
                      },
                      {
                        "test": [
                          0.8311688312,
                          0.3317666487
                        ],
                        "passed_time": 0.2209457876,
                        "iteration": 3,
                        "remaining_time": 275.9612887,
                        "learn": [
                          0.9019607843,
                          0.2702118618
                        ]
                      },
                      {
                        "test": [
                          0.8571428571,
                          0.3115140246
                        ],
                        "passed_time": 0.2801674771,
                        "iteration": 4,
                        "remaining_time": 279.8873096,
                        "learn": [
                          0.9052287582,
                          0.2407200633
                        ]
                      },
                      {
                        "test": [
                          0.8831168831,
                          0.2893535564
                        ],
                        "passed_time": 0.3498543754,
                        "iteration": 5,
                        "remaining_time": 291.1954585,
                        "learn": [
                          0.9215686275,
                          0.2175280752
                        ]
                      },
                      {
                        "test": [
                          0.8831168831,
                          0.2936801663
                        ],
                        "passed_time": 0.3984736291,
                        "iteration": 6,
                        "remaining_time": 284.2255471,
                        "learn": [
                          0.931372549,
                          0.197098651
                        ]
                      },
                      {
                        "test": [
                          0.9090909091,
                          0.2674994531
                        ],
                        "passed_time": 0.4478349745,
                        "iteration": 7,
                        "remaining_time": 279.4490241,
                        "learn": [
                          0.9411764706,
                          0.1714239681
                        ]
                      },
                      {
                        "test": [
                          0.8961038961,
                          0.2785297493
                        ],
                        "passed_time": 0.4961978577,
                        "iteration": 8,
                        "remaining_time": 275.1692786,
                        "learn": [
                          0.9477124183,
                          0.1638845805
                        ]
                      },
                      {
                        "test": [
                          0.9090909091,
                          0.2705585926
                        ],
                        "passed_time": 0.5451923718,
                        "iteration": 9,
                        "remaining_time": 272.0509935,
                        "learn": [
                          0.9509803922,
                          0.157475752
                        ]
                      },
                      {
                        "test": [
                          0.9090909091,
                          0.267579958
                        ],
                        "passed_time": 0.6145641407,
                        "iteration": 10,
                        "remaining_time": 278.7327725,
                        "learn": [
                          0.954248366,
                          0.1517147239
                        ]
                      },
                      {
                        "test": [
                          0.9090909091,
                          0.2632195361
                        ],
                        "passed_time": 0.6608667869,
                        "iteration": 11,
                        "remaining_time": 274.7002944,
                        "learn": [
                          0.9575163399,
                          0.1480604808
                        ]
                      },
                      {
                        "test": [
                          0.9350649351,
                          0.2426496729
                        ],
                        "passed_time": 0.7092231921,
                        "iteration": 12,
                        "remaining_time": 272.0689276,
                        "learn": [
                          0.9575163399,
                          0.141246297
                        ]
                      },
                      {
                        "test": [
                          0.9350649351,
                          0.2357014
                        ],
                        "passed_time": 0.7603931181,
                        "iteration": 13,
                        "remaining_time": 270.8085776,
                        "learn": [
                          0.977124183,
                          0.1287748175
                        ]
                      },
                      {
                        "test": [
                          0.9220779221,
                          0.2387946736
                        ],
                        "passed_time": 0.8051999695,
                        "iteration": 14,
                        "remaining_time": 267.5947899,
                        "learn": [
                          0.9738562092,
                          0.1240569969
                        ]
                      },
                      {
                        "test": [
                          0.9220779221,
                          0.244913448
                        ],
                        "passed_time": 0.8550976726,
                        "iteration": 15,
                        "remaining_time": 266.362925,
                        "learn": [
                          0.9803921569,
                          0.1188934551
                        ]
                      },
                      {
                        "test": [
                          0.9090909091,
                          0.2479696645
                        ],
                        "passed_time": 0.8990938414,
                        "iteration": 16,
                        "remaining_time": 263.5402713,
                        "learn": [
                          0.9803921569,
                          0.1151995441
                        ]
                      },
                      {
                        "test": [
                          0.9090909091,
                          0.2528229751
                        ],
                        "passed_time": 0.9420530037,
                        "iteration": 17,
                        "remaining_time": 260.7393369,
                        "learn": [
                          0.9836601307,
                          0.1117789075
                        ]
                      },
                      {
                        "test": [
                          0.9090909091,
                          0.2551226678
                        ],
                        "passed_time": 0.9851718509,
                        "iteration": 18,
                        "remaining_time": 258.2705784,
                        "learn": [
                          0.9836601307,
                          0.1094512939
                        ]
                      },
                      {
                        "test": [
                          0.8961038961,
                          0.2592857658
                        ],
                        "passed_time": 1.029190838,
                        "iteration": 19,
                        "remaining_time": 256.2685187,
                        "learn": [
                          0.9901960784,
                          0.1011280359
                        ]
                      },
                      {
                        "test": [
                          0.8961038961,
                          0.2595312441
                        ],
                        "passed_time": 1.076063271,
                        "iteration": 20,
                        "remaining_time": 255.1294774,
                        "learn": [
                          0.9901960784,
                          0.09912204119
                        ]
                      },
                      {
                        "test": [
                          0.9090909091,
                          0.2512871135
                        ],
                        "passed_time": 1.120344056,
                        "iteration": 21,
                        "remaining_time": 253.5033051,
                        "learn": [
                          0.9934640523,
                          0.09050055111
                        ]
                      },
                      {
                        "test": [
                          0.9090909091,
                          0.2571992255
                        ],
                        "passed_time": 1.161361349,
                        "iteration": 22,
                        "remaining_time": 251.3084971,
                        "learn": [
                          0.9934640523,
                          0.08801837373
                        ]
                      },
                      {
                        "test": [
                          0.9090909091,
                          0.2585329328
                        ],
                        "passed_time": 1.202398791,
                        "iteration": 23,
                        "remaining_time": 249.2973494,
                        "learn": [
                          0.9934640523,
                          0.08477146174
                        ]
                      },
                      {
                        "test": [
                          0.9090909091,
                          0.2555467184
                        ],
                        "passed_time": 1.243781376,
                        "iteration": 24,
                        "remaining_time": 247.5124937,
                        "learn": [
                          0.9901960784,
                          0.08145000732
                        ]
                      },
                      {
                        "test": [
                          0.9090909091,
                          0.2616863498
                        ],
                        "passed_time": 1.286687114,
                        "iteration": 25,
                        "remaining_time": 246.1531426,
                        "learn": [
                          0.9901960784,
                          0.0759491266
                        ]
                      },
                      {
                        "test": [
                          0.9090909091,
                          0.2609310398
                        ],
                        "passed_time": 1.33125338,
                        "iteration": 26,
                        "remaining_time": 245.1971503,
                        "learn": [
                          0.9901960784,
                          0.07327102212
                        ]
                      },
                      {
                        "test": [
                          0.9090909091,
                          0.2622135212
                        ],
                        "passed_time": 1.37982605,
                        "iteration": 27,
                        "remaining_time": 245.0176829,
                        "learn": [
                          0.9901960784,
                          0.0726293302
                        ]
                      },
                      {
                        "test": [
                          0.9090909091,
                          0.2590370674
                        ],
                        "passed_time": 1.421088257,
                        "iteration": 28,
                        "remaining_time": 243.5941285,
                        "learn": [
                          0.9901960784,
                          0.07021474527
                        ]
                      },
                      {
                        "test": [
                          0.9090909091,
                          0.2611145664
                        ],
                        "passed_time": 1.461347185,
                        "iteration": 29,
                        "remaining_time": 242.096517,
                        "learn": [
                          0.9934640523,
                          0.0683446772
                        ]
                      },
                      {
                        "test": [
                          0.9090909091,
                          0.2608690633
                        ],
                        "passed_time": 1.501123743,
                        "iteration": 30,
                        "remaining_time": 240.615609,
                        "learn": [
                          0.9934640523,
                          0.06690583198
                        ]
                      },
                      {
                        "test": [
                          0.9090909091,
                          0.2571166645
                        ],
                        "passed_time": 1.54050086,
                        "iteration": 31,
                        "remaining_time": 239.1627585,
                        "learn": [
                          0.9934640523,
                          0.06582740086
                        ]
                      },
                      {
                        "test": [
                          0.8961038961,
                          0.2581819807
                        ],
                        "passed_time": 1.583427734,
                        "iteration": 32,
                        "remaining_time": 238.3298653,
                        "learn": [
                          0.9934640523,
                          0.06467124216
                        ]
                      },
                      {
                        "test": [
                          0.8961038961,
                          0.2614039632
                        ],
                        "passed_time": 1.637561237,
                        "iteration": 33,
                        "remaining_time": 239.1802677,
                        "learn": [
                          0.9934640523,
                          0.06379685994
                        ]
                      },
                      {
                        "test": [
                          0.8831168831,
                          0.2660427341
                        ],
                        "passed_time": 1.677371788,
                        "iteration": 34,
                        "remaining_time": 237.9471694,
                        "learn": [
                          0.9934640523,
                          0.06173295912
                        ]
                      },
                      {
                        "test": [
                          0.8831168831,
                          0.2692248605
                        ],
                        "passed_time": 1.716818684,
                        "iteration": 35,
                        "remaining_time": 236.7302208,
                        "learn": [
                          0.9934640523,
                          0.05823369743
                        ]
                      },
                      {
                        "test": [
                          0.8831168831,
                          0.2743760146
                        ],
                        "passed_time": 1.765210896,
                        "iteration": 36,
                        "remaining_time": 236.7768021,
                        "learn": [
                          0.9967320261,
                          0.05701032651
                        ]
                      },
                      {
                        "test": [
                          0.8831168831,
                          0.2725743876
                        ],
                        "passed_time": 1.805604578,
                        "iteration": 37,
                        "remaining_time": 235.7739451,
                        "learn": [
                          0.9967320261,
                          0.05183168174
                        ]
                      },
                      {
                        "test": [
                          0.8831168831,
                          0.2759655296
                        ],
                        "passed_time": 1.846801948,
                        "iteration": 38,
                        "remaining_time": 234.9226785,
                        "learn": [
                          0.9967320261,
                          0.05117108152
                        ]
                      },
                      {
                        "test": [
                          0.8831168831,
                          0.2817592125
                        ],
                        "passed_time": 1.887055964,
                        "iteration": 39,
                        "remaining_time": 233.9949396,
                        "learn": [
                          0.9967320261,
                          0.04978423025
                        ]
                      },
                      {
                        "test": [
                          0.8701298701,
                          0.2870872299
                        ],
                        "passed_time": 1.930704032,
                        "iteration": 40,
                        "remaining_time": 233.5210072,
                        "learn": [
                          0.9967320261,
                          0.0491683187
                        ]
                      },
                      {
                        "test": [
                          0.8701298701,
                          0.2907329906
                        ],
                        "passed_time": 1.975377099,
                        "iteration": 41,
                        "remaining_time": 233.1885632,
                        "learn": [
                          0.9967320261,
                          0.04880880842
                        ]
                      },
                      {
                        "test": [
                          0.8701298701,
                          0.2910224617
                        ],
                        "passed_time": 2.014314389,
                        "iteration": 42,
                        "remaining_time": 232.208289,
                        "learn": [
                          0.9967320261,
                          0.047794127
                        ]
                      },
                      {
                        "test": [
                          0.8701298701,
                          0.2927093258
                        ],
                        "passed_time": 2.053333384,
                        "iteration": 43,
                        "remaining_time": 231.2800057,
                        "learn": [
                          0.9967320261,
                          0.04404513041
                        ]
                      },
                      {
                        "test": [
                          0.8701298701,
                          0.2923468057
                        ],
                        "passed_time": 2.092154824,
                        "iteration": 44,
                        "remaining_time": 230.3694923,
                        "learn": [
                          0.9967320261,
                          0.04330523809
                        ]
                      },
                      {
                        "test": [
                          0.8701298701,
                          0.2887205149
                        ],
                        "passed_time": 2.131421624,
                        "iteration": 45,
                        "remaining_time": 229.5448419,
                        "learn": [
                          0.9967320261,
                          0.04116961224
                        ]
                      },
                      {
                        "test": [
                          0.8701298701,
                          0.2874976319
                        ],
                        "passed_time": 2.175187292,
                        "iteration": 46,
                        "remaining_time": 229.2277161,
                        "learn": [
                          0.9967320261,
                          0.04062676274
                        ]
                      },
                      {
                        "test": [
                          0.8701298701,
                          0.2877619855
                        ],
                        "passed_time": 2.218621983,
                        "iteration": 47,
                        "remaining_time": 228.8878345,
                        "learn": [
                          0.9967320261,
                          0.03984336604
                        ]
                      },
                      {
                        "test": [
                          0.8701298701,
                          0.2883065707
                        ],
                        "passed_time": 2.2573092,
                        "iteration": 48,
                        "remaining_time": 228.0803643,
                        "learn": [
                          0.9967320261,
                          0.03952817979
                        ]
                      },
                      {
                        "test": [
                          0.8701298701,
                          0.288581427
                        ],
                        "passed_time": 2.296148321,
                        "iteration": 49,
                        "remaining_time": 227.3186838,
                        "learn": [
                          0.9967320261,
                          0.03912657071
                        ]
                      },
                      {
                        "test": [
                          0.8701298701,
                          0.2904613049
                        ],
                        "passed_time": 2.335877081,
                        "iteration": 50,
                        "remaining_time": 226.6716799,
                        "learn": [
                          0.9967320261,
                          0.03788091622
                        ]
                      },
                      {
                        "test": [
                          0.8701298701,
                          0.2913790121
                        ],
                        "passed_time": 2.385779361,
                        "iteration": 51,
                        "remaining_time": 227.0160823,
                        "learn": [
                          0.9967320261,
                          0.037470749
                        ]
                      },
                      {
                        "test": [
                          0.8701298701,
                          0.2932462568
                        ],
                        "passed_time": 2.425495471,
                        "iteration": 52,
                        "remaining_time": 226.394832,
                        "learn": [
                          0.9967320261,
                          0.03727047428
                        ]
                      },
                      {
                        "test": [
                          0.8831168831,
                          0.2841071587
                        ],
                        "passed_time": 2.464883498,
                        "iteration": 53,
                        "remaining_time": 225.76507,
                        "learn": [
                          1,
                          0.03603778166
                        ]
                      },
                      {
                        "test": [
                          0.8831168831,
                          0.2866227782
                        ],
                        "passed_time": 2.503783847,
                        "iteration": 54,
                        "remaining_time": 225.1129296,
                        "learn": [
                          1,
                          0.03585314907
                        ]
                      },
                      {
                        "test": [
                          0.8831168831,
                          0.2839573451
                        ],
                        "passed_time": 2.542764583,
                        "iteration": 55,
                        "remaining_time": 224.4897874,
                        "learn": [
                          1,
                          0.03507923301
                        ]
                      },
                      {
                        "test": [
                          0.8831168831,
                          0.2836176142
                        ],
                        "passed_time": 2.582045878,
                        "iteration": 56,
                        "remaining_time": 223.9132066,
                        "learn": [
                          1,
                          0.03451316809
                        ]
                      },
                      {
                        "test": [
                          0.8831168831,
                          0.2811390022
                        ],
                        "passed_time": 2.63938758,
                        "iteration": 57,
                        "remaining_time": 224.8940245,
                        "learn": [
                          1,
                          0.03398831997
                        ]
                      },
                      {
                        "test": [
                          0.8831168831,
                          0.2798977146
                        ],
                        "passed_time": 2.678691791,
                        "iteration": 58,
                        "remaining_time": 224.3290871,
                        "learn": [
                          1,
                          0.03313812555
                        ]
                      },
                      {
                        "test": [
                          0.8831168831,
                          0.2822402855
                        ],
                        "passed_time": 2.717332091,
                        "iteration": 59,
                        "remaining_time": 223.7270088,
                        "learn": [
                          1,
                          0.03292696772
                        ]
                      },
                      {
                        "test": [
                          0.8831168831,
                          0.2861165133
                        ],
                        "passed_time": 2.755718097,
                        "iteration": 60,
                        "remaining_time": 223.1228144,
                        "learn": [
                          1,
                          0.03267473956
                        ]
                      },
                      {
                        "test": [
                          0.8831168831,
                          0.289166339
                        ],
                        "passed_time": 2.795113997,
                        "iteration": 61,
                        "remaining_time": 222.6173051,
                        "learn": [
                          1,
                          0.03092415504
                        ]
                      },
                      {
                        "test": [
                          0.8831168831,
                          0.2861555025
                        ],
                        "passed_time": 2.836322382,
                        "iteration": 62,
                        "remaining_time": 222.2686286,
                        "learn": [
                          1,
                          0.0306585474
                        ]
                      },
                      {
                        "test": [
                          0.8831168831,
                          0.2899130536
                        ],
                        "passed_time": 2.874921955,
                        "iteration": 63,
                        "remaining_time": 221.7283558,
                        "learn": [
                          1,
                          0.02916971531
                        ]
                      },
                      {
                        "test": [
                          0.8831168831,
                          0.2911517156
                        ],
                        "passed_time": 2.914314674,
                        "iteration": 64,
                        "remaining_time": 221.2637372,
                        "learn": [
                          1,
                          0.0282758451
                        ]
                      },
                      {
                        "test": [
                          0.8831168831,
                          0.2935191563
                        ],
                        "passed_time": 2.954498731,
                        "iteration": 65,
                        "remaining_time": 220.8711627,
                        "learn": [
                          1,
                          0.02800631679
                        ]
                      },
                      {
                        "test": [
                          0.8831168831,
                          0.2910877079
                        ],
                        "passed_time": 2.993875646,
                        "iteration": 66,
                        "remaining_time": 220.42968,
                        "learn": [
                          1,
                          0.02782253191
                        ]
                      },
                      {
                        "test": [
                          0.8831168831,
                          0.2910480252
                        ],
                        "passed_time": 3.032709008,
                        "iteration": 67,
                        "remaining_time": 219.9606004,
                        "learn": [
                          1,
                          0.02773120668
                        ]
                      },
                      {
                        "test": [
                          0.8831168831,
                          0.2909175328
                        ],
                        "passed_time": 3.071696321,
                        "iteration": 68,
                        "remaining_time": 219.5149936,
                        "learn": [
                          1,
                          0.02719633564
                        ]
                      },
                      {
                        "test": [
                          0.8831168831,
                          0.2896273229
                        ],
                        "passed_time": 3.122779132,
                        "iteration": 69,
                        "remaining_time": 219.9328732,
                        "learn": [
                          1,
                          0.02705137714
                        ]
                      },
                      {
                        "test": [
                          0.8831168831,
                          0.2899990082
                        ],
                        "passed_time": 3.161391133,
                        "iteration": 70,
                        "remaining_time": 219.4717872,
                        "learn": [
                          1,
                          0.02687040965
                        ]
                      },
                      {
                        "test": [
                          0.8831168831,
                          0.2917001402
                        ],
                        "passed_time": 3.19979656,
                        "iteration": 71,
                        "remaining_time": 219.0082979,
                        "learn": [
                          1,
                          0.0265466154
                        ]
                      },
                      {
                        "test": [
                          0.8831168831,
                          0.2917243908
                        ],
                        "passed_time": 3.238029562,
                        "iteration": 72,
                        "remaining_time": 218.5448171,
                        "learn": [
                          1,
                          0.0264917355
                        ]
                      },
                      {
                        "test": [
                          0.8831168831,
                          0.291108119
                        ],
                        "passed_time": 3.275926262,
                        "iteration": 73,
                        "remaining_time": 218.0704428,
                        "learn": [
                          1,
                          0.02620367287
                        ]
                      },
                      {
                        "test": [
                          0.8831168831,
                          0.2883778857
                        ],
                        "passed_time": 3.314111801,
                        "iteration": 74,
                        "remaining_time": 217.6266749,
                        "learn": [
                          1,
                          0.02607633553
                        ]
                      },
                      {
                        "test": [
                          0.8831168831,
                          0.2887338911
                        ],
                        "passed_time": 3.35310796,
                        "iteration": 75,
                        "remaining_time": 217.2460999,
                        "learn": [
                          1,
                          0.02597462274
                        ]
                      },
                      {
                        "test": [
                          0.8831168831,
                          0.287355423
                        ],
                        "passed_time": 3.391631086,
                        "iteration": 76,
                        "remaining_time": 216.8441537,
                        "learn": [
                          1,
                          0.02572012571
                        ]
                      },
                      {
                        "test": [
                          0.8831168831,
                          0.2879527451
                        ],
                        "passed_time": 3.444497601,
                        "iteration": 77,
                        "remaining_time": 217.3566306,
                        "learn": [
                          1,
                          0.02546508016
                        ]
                      },
                      {
                        "test": [
                          0.8701298701,
                          0.2891750088
                        ],
                        "passed_time": 3.487622794,
                        "iteration": 78,
                        "remaining_time": 217.2479971,
                        "learn": [
                          1,
                          0.0251054795
                        ]
                      },
                      {
                        "test": [
                          0.8701298701,
                          0.2900356441
                        ],
                        "passed_time": 3.526088295,
                        "iteration": 79,
                        "remaining_time": 216.8544301,
                        "learn": [
                          1,
                          0.0249973668
                        ]
                      },
                      {
                        "test": [
                          0.8701298701,
                          0.2894568505
                        ],
                        "passed_time": 3.564672926,
                        "iteration": 80,
                        "remaining_time": 216.4768657,
                        "learn": [
                          1,
                          0.02488724546
                        ]
                      },
                      {
                        "test": [
                          0.8701298701,
                          0.2907154034
                        ],
                        "passed_time": 3.603207736,
                        "iteration": 81,
                        "remaining_time": 216.1045811,
                        "learn": [
                          1,
                          0.02465834649
                        ]
                      },
                      {
                        "test": [
                          0.8831168831,
                          0.2883240836
                        ],
                        "passed_time": 3.660670991,
                        "iteration": 82,
                        "remaining_time": 216.8616779,
                        "learn": [
                          1,
                          0.02351413833
                        ]
                      },
                      {
                        "test": [
                          0.8831168831,
                          0.2902175606
                        ],
                        "passed_time": 3.699762581,
                        "iteration": 83,
                        "remaining_time": 216.5242006,
                        "learn": [
                          1,
                          0.02335489809
                        ]
                      },
                      {
                        "test": [
                          0.8831168831,
                          0.2880671117
                        ],
                        "passed_time": 3.745516879,
                        "iteration": 84,
                        "remaining_time": 216.5790054,
                        "learn": [
                          1,
                          0.02303103995
                        ]
                      },
                      {
                        "test": [
                          0.8831168831,
                          0.2910604601
                        ],
                        "passed_time": 3.784550131,
                        "iteration": 85,
                        "remaining_time": 216.2474342,
                        "learn": [
                          1,
                          0.02215580379
                        ]
                      },
                      {
                        "test": [
                          0.8831168831,
                          0.2882717182
                        ],
                        "passed_time": 3.825060281,
                        "iteration": 86,
                        "remaining_time": 216.0059904,
                        "learn": [
                          1,
                          0.0214028452
                        ]
                      },
                      {
                        "test": [
                          0.8831168831,
                          0.2886589348
                        ],
                        "passed_time": 3.863138163,
                        "iteration": 87,
                        "remaining_time": 215.6333483,
                        "learn": [
                          1,
                          0.02127803852
                        ]
                      },
                      {
                        "test": [
                          0.8831168831,
                          0.2863928807
                        ],
                        "passed_time": 3.902110283,
                        "iteration": 88,
                        "remaining_time": 215.3175685,
                        "learn": [
                          1,
                          0.02114999684
                        ]
                      },
                      {
                        "test": [
                          0.8831168831,
                          0.2863858706
                        ],
                        "passed_time": 3.943666674,
                        "iteration": 89,
                        "remaining_time": 215.1489263,
                        "learn": [
                          1,
                          0.0209820068
                        ]
                      },
                      {
                        "test": [
                          0.8831168831,
                          0.2885234139
                        ],
                        "passed_time": 3.990403234,
                        "iteration": 90,
                        "remaining_time": 215.2625217,
                        "learn": [
                          1,
                          0.0207286068
                        ]
                      },
                      {
                        "test": [
                          0.8831168831,
                          0.2869904753
                        ],
                        "passed_time": 4.028715514,
                        "iteration": 91,
                        "remaining_time": 214.9232146,
                        "learn": [
                          1,
                          0.02055590449
                        ]
                      },
                      {
                        "test": [
                          0.8831168831,
                          0.2874079122
                        ],
                        "passed_time": 4.066415168,
                        "iteration": 92,
                        "remaining_time": 214.5580562,
                        "learn": [
                          1,
                          0.01990684185
                        ]
                      },
                      {
                        "test": [
                          0.8831168831,
                          0.2895087205
                        ],
                        "passed_time": 4.104984678,
                        "iteration": 93,
                        "remaining_time": 214.2452642,
                        "learn": [
                          1,
                          0.01967529845
                        ]
                      },
                      {
                        "test": [
                          0.8831168831,
                          0.2905185254
                        ],
                        "passed_time": 4.143761472,
                        "iteration": 94,
                        "remaining_time": 213.9489476,
                        "learn": [
                          1,
                          0.01931192361
                        ]
                      },
                      {
                        "test": [
                          0.8961038961,
                          0.2961087413
                        ],
                        "passed_time": 4.18287977,
                        "iteration": 95,
                        "remaining_time": 213.6754416,
                        "learn": [
                          1,
                          0.01836424871
                        ]
                      },
                      {
                        "test": [
                          0.8961038961,
                          0.2970815882
                        ],
                        "passed_time": 4.220840655,
                        "iteration": 96,
                        "remaining_time": 213.3482653,
                        "learn": [
                          1,
                          0.01819723104
                        ]
                      },
                      {
                        "test": [
                          0.8961038961,
                          0.2988224773
                        ],
                        "passed_time": 4.276346388,
                        "iteration": 97,
                        "remaining_time": 213.9045918,
                        "learn": [
                          1,
                          0.01811928375
                        ]
                      },
                      {
                        "test": [
                          0.8961038961,
                          0.2980552772
                        ],
                        "passed_time": 4.318168447,
                        "iteration": 98,
                        "remaining_time": 213.771147,
                        "learn": [
                          1,
                          0.01790626688
                        ]
                      },
                      {
                        "test": [
                          0.8961038961,
                          0.2994729079
                        ],
                        "passed_time": 4.357066279,
                        "iteration": 99,
                        "remaining_time": 213.4962477,
                        "learn": [
                          1,
                          0.01763034802
                        ]
                      },
                      {
                        "test": [
                          0.8961038961,
                          0.3003438727
                        ],
                        "passed_time": 4.395478851,
                        "iteration": 100,
                        "remaining_time": 213.202484,
                        "learn": [
                          1,
                          0.01754977345
                        ]
                      },
                      {
                        "test": [
                          0.8961038961,
                          0.2993492027
                        ],
                        "passed_time": 4.444214933,
                        "iteration": 101,
                        "remaining_time": 213.4094583,
                        "learn": [
                          1,
                          0.01751014921
                        ]
                      },
                      {
                        "test": [
                          0.8961038961,
                          0.2985837367
                        ],
                        "passed_time": 4.482494395,
                        "iteration": 102,
                        "remaining_time": 213.1143209,
                        "learn": [
                          1,
                          0.01733784738
                        ]
                      },
                      {
                        "test": [
                          0.8831168831,
                          0.2977222591
                        ],
                        "passed_time": 4.521202039,
                        "iteration": 103,
                        "remaining_time": 212.8442806,
                        "learn": [
                          1,
                          0.01725434478
                        ]
                      },
                      {
                        "test": [
                          0.8961038961,
                          0.2976599607
                        ],
                        "passed_time": 4.562608668,
                        "iteration": 104,
                        "remaining_time": 212.7044707,
                        "learn": [
                          1,
                          0.01715210528
                        ]
                      },
                      {
                        "test": [
                          0.8961038961,
                          0.3007887308
                        ],
                        "passed_time": 4.607398749,
                        "iteration": 105,
                        "remaining_time": 212.7227309,
                        "learn": [
                          1,
                          0.01692250507
                        ]
                      },
                      {
                        "test": [
                          0.8961038961,
                          0.3022997472
                        ],
                        "passed_time": 4.664652905,
                        "iteration": 106,
                        "remaining_time": 213.3097819,
                        "learn": [
                          1,
                          0.01679162418
                        ]
                      },
                      {
                        "test": [
                          0.8961038961,
                          0.3029054666
                        ],
                        "passed_time": 4.702752057,
                        "iteration": 107,
                        "remaining_time": 213.0172506,
                        "learn": [
                          1,
                          0.01674886467
                        ]
                      },
                      {
                        "test": [
                          0.8831168831,
                          0.3036292435
                        ],
                        "passed_time": 4.741039908,
                        "iteration": 108,
                        "remaining_time": 212.7378549,
                        "learn": [
                          1,
                          0.01662141825
                        ]
                      },
                      {
                        "test": [
                          0.8831168831,
                          0.3058401826
                        ],
                        "passed_time": 4.780198049,
                        "iteration": 109,
                        "remaining_time": 212.5015314,
                        "learn": [
                          1,
                          0.01644949352
                        ]
                      },
                      {
                        "test": [
                          0.8831168831,
                          0.3055965374
                        ],
                        "passed_time": 4.820248117,
                        "iteration": 110,
                        "remaining_time": 212.3080454,
                        "learn": [
                          1,
                          0.01642523248
                        ]
                      },
                      {
                        "test": [
                          0.8831168831,
                          0.3057471189
                        ],
                        "passed_time": 4.858435007,
                        "iteration": 111,
                        "remaining_time": 212.035985,
                        "learn": [
                          1,
                          0.0163425511
                        ]
                      },
                      {
                        "test": [
                          0.8701298701,
                          0.3071809744
                        ],
                        "passed_time": 4.897154318,
                        "iteration": 112,
                        "remaining_time": 211.7910898,
                        "learn": [
                          1,
                          0.01601533017
                        ]
                      },
                      {
                        "test": [
                          0.8701298701,
                          0.3096085586
                        ],
                        "passed_time": 4.936206301,
                        "iteration": 113,
                        "remaining_time": 211.5640701,
                        "learn": [
                          1,
                          0.01583747926
                        ]
                      },
                      {
                        "test": [
                          0.8701298701,
                          0.3093544353
                        ],
                        "passed_time": 4.974797918,
                        "iteration": 114,
                        "remaining_time": 211.3207637,
                        "learn": [
                          1,
                          0.01580315789
                        ]
                      },
                      {
                        "test": [
                          0.8701298701,
                          0.3086316988
                        ],
                        "passed_time": 5.013813552,
                        "iteration": 115,
                        "remaining_time": 211.0988395,
                        "learn": [
                          1,
                          0.01574615092
                        ]
                      },
                      {
                        "test": [
                          0.8701298701,
                          0.3086433906
                        ],
                        "passed_time": 5.054311765,
                        "iteration": 116,
                        "remaining_time": 210.9419175,
                        "learn": [
                          1,
                          0.01559229458
                        ]
                      },
                      {
                        "test": [
                          0.8831168831,
                          0.3085042285
                        ],
                        "passed_time": 5.093211848,
                        "iteration": 117,
                        "remaining_time": 210.7208495,
                        "learn": [
                          1,
                          0.01542935964
                        ]
                      },
                      {
                        "test": [
                          0.8701298701,
                          0.3071957378
                        ],
                        "passed_time": 5.13142102,
                        "iteration": 118,
                        "remaining_time": 210.4745042,
                        "learn": [
                          1,
                          0.01527335441
                        ]
                      },
                      {
                        "test": [
                          0.8831168831,
                          0.3079371762
                        ],
                        "passed_time": 5.169177961,
                        "iteration": 119,
                        "remaining_time": 210.2132371,
                        "learn": [
                          1,
                          0.01520355231
                        ]
                      },
                      {
                        "test": [
                          0.8701298701,
                          0.3095340976
                        ],
                        "passed_time": 5.207960341,
                        "iteration": 120,
                        "remaining_time": 209.9970124,
                        "learn": [
                          1,
                          0.01479651881
                        ]
                      },
                      {
                        "test": [
                          0.8831168831,
                          0.307991771
                        ],
                        "passed_time": 5.251147176,
                        "iteration": 121,
                        "remaining_time": 209.9598027,
                        "learn": [
                          1,
                          0.0147244042
                        ]
                      },
                      {
                        "test": [
                          0.8831168831,
                          0.3031563449
                        ],
                        "passed_time": 5.290055138,
                        "iteration": 122,
                        "remaining_time": 209.7528366,
                        "learn": [
                          1,
                          0.01375625648
                        ]
                      },
                      {
                        "test": [
                          0.8831168831,
                          0.3024294469
                        ],
                        "passed_time": 5.329492284,
                        "iteration": 123,
                        "remaining_time": 209.5693901,
                        "learn": [
                          1,
                          0.01364154442
                        ]
                      },
                      {
                        "test": [
                          0.8831168831,
                          0.3021376969
                        ],
                        "passed_time": 5.368456662,
                        "iteration": 124,
                        "remaining_time": 209.3698098,
                        "learn": [
                          1,
                          0.01350540585
                        ]
                      },
                      {
                        "test": [
                          0.8831168831,
                          0.3048563623
                        ],
                        "passed_time": 5.408544663,
                        "iteration": 125,
                        "remaining_time": 209.2162435,
                        "learn": [
                          1,
                          0.01324133468
                        ]
                      },
                      {
                        "test": [
                          0.8831168831,
                          0.3042972614
                        ],
                        "passed_time": 5.456040076,
                        "iteration": 126,
                        "remaining_time": 209.3486873,
                        "learn": [
                          1,
                          0.01316227165
                        ]
                      },
                      {
                        "test": [
                          0.8831168831,
                          0.3037423468
                        ],
                        "passed_time": 5.497475437,
                        "iteration": 127,
                        "remaining_time": 209.2476588,
                        "learn": [
                          1,
                          0.01303753822
                        ]
                      },
                      {
                        "test": [
                          0.8831168831,
                          0.3031899093
                        ],
                        "passed_time": 5.536357543,
                        "iteration": 128,
                        "remaining_time": 209.0511441,
                        "learn": [
                          1,
                          0.01299829031
                        ]
                      },
                      {
                        "test": [
                          0.8831168831,
                          0.303265906
                        ],
                        "passed_time": 5.578896458,
                        "iteration": 129,
                        "remaining_time": 208.9940442,
                        "learn": [
                          1,
                          0.01284251182
                        ]
                      },
                      {
                        "test": [
                          0.8831168831,
                          0.3038834906
                        ],
                        "passed_time": 5.618586486,
                        "iteration": 130,
                        "remaining_time": 208.8312794,
                        "learn": [
                          1,
                          0.0127002741
                        ]
                      },
                      {
                        "test": [
                          0.8831168831,
                          0.3039826232
                        ],
                        "passed_time": 5.678516324,
                        "iteration": 131,
                        "remaining_time": 209.416799,
                        "learn": [
                          1,
                          0.01265996266
                        ]
                      },
                      {
                        "test": [
                          0.8701298701,
                          0.3066272983
                        ],
                        "passed_time": 5.718567445,
                        "iteration": 132,
                        "remaining_time": 209.2651711,
                        "learn": [
                          1,
                          0.01241623498
                        ]
                      },
                      {
                        "test": [
                          0.8831168831,
                          0.3054065457
                        ],
                        "passed_time": 5.757521432,
                        "iteration": 133,
                        "remaining_time": 209.0753678,
                        "learn": [
                          1,
                          0.01235636387
                        ]
                      },
                      {
                        "test": [
                          0.8701298701,
                          0.3072350737
                        ],
                        "passed_time": 5.796094789,
                        "iteration": 134,
                        "remaining_time": 208.8740826,
                        "learn": [
                          1,
                          0.01230038615
                        ]
                      },
                      {
                        "test": [
                          0.8701298701,
                          0.3082668255
                        ],
                        "passed_time": 5.837058824,
                        "iteration": 135,
                        "remaining_time": 208.7606921,
                        "learn": [
                          1,
                          0.01218054653
                        ]
                      },
                      {
                        "test": [
                          0.8701298701,
                          0.3068755261
                        ],
                        "passed_time": 5.875864826,
                        "iteration": 136,
                        "remaining_time": 208.5717566,
                        "learn": [
                          1,
                          0.01208806583
                        ]
                      },
                      {
                        "test": [
                          0.8701298701,
                          0.3081613516
                        ],
                        "passed_time": 5.915753391,
                        "iteration": 137,
                        "remaining_time": 208.4231376,
                        "learn": [
                          1,
                          0.01201442488
                        ]
                      },
                      {
                        "test": [
                          0.8701298701,
                          0.3080838934
                        ],
                        "passed_time": 5.954841505,
                        "iteration": 138,
                        "remaining_time": 208.2480903,
                        "learn": [
                          1,
                          0.0119229298
                        ]
                      },
                      {
                        "test": [
                          0.8701298701,
                          0.3092892882
                        ],
                        "passed_time": 5.993530333,
                        "iteration": 139,
                        "remaining_time": 208.0611244,
                        "learn": [
                          1,
                          0.01189844904
                        ]
                      },
                      {
                        "test": [
                          0.8701298701,
                          0.3085325167
                        ],
                        "passed_time": 6.032274451,
                        "iteration": 140,
                        "remaining_time": 207.8781671,
                        "learn": [
                          1,
                          0.01178291187
                        ]
                      },
                      {
                        "test": [
                          0.8571428571,
                          0.3091516123
                        ],
                        "passed_time": 6.070899327,
                        "iteration": 141,
                        "remaining_time": 207.6931615,
                        "learn": [
                          1,
                          0.01174515525
                        ]
                      },
                      {
                        "test": [
                          0.8571428571,
                          0.3083862701
                        ],
                        "passed_time": 6.117748542,
                        "iteration": 142,
                        "remaining_time": 207.7895431,
                        "learn": [
                          1,
                          0.0117165419
                        ]
                      },
                      {
                        "test": [
                          0.8571428571,
                          0.3093822033
                        ],
                        "passed_time": 6.156213868,
                        "iteration": 143,
                        "remaining_time": 207.6012121,
                        "learn": [
                          1,
                          0.01167321439
                        ]
                      },
                      {
                        "test": [
                          0.8571428571,
                          0.3084207015
                        ],
                        "passed_time": 6.194893528,
                        "iteration": 144,
                        "remaining_time": 207.4221247,
                        "learn": [
                          1,
                          0.01160417974
                        ]
                      },
                      {
                        "test": [
                          0.8571428571,
                          0.3069647256
                        ],
                        "passed_time": 6.233698243,
                        "iteration": 145,
                        "remaining_time": 207.2491183,
                        "learn": [
                          1,
                          0.01112880894
                        ]
                      },
                      {
                        "test": [
                          0.8571428571,
                          0.3063252932
                        ],
                        "passed_time": 6.272643633,
                        "iteration": 146,
                        "remaining_time": 207.082582,
                        "learn": [
                          1,
                          0.01110732945
                        ]
                      },
                      {
                        "test": [
                          0.8571428571,
                          0.3084591705
                        ],
                        "passed_time": 6.312326607,
                        "iteration": 147,
                        "remaining_time": 206.9419507,
                        "learn": [
                          1,
                          0.0110038293
                        ]
                      },
                      {
                        "test": [
                          0.8701298701,
                          0.3070211534
                        ],
                        "passed_time": 6.351477785,
                        "iteration": 148,
                        "remaining_time": 206.7853606,
                        "learn": [
                          1,
                          0.01091100967
                        ]
                      },
                      {
                        "test": [
                          0.8701298701,
                          0.3068913546
                        ],
                        "passed_time": 6.390275039,
                        "iteration": 149,
                        "remaining_time": 206.6188929,
                        "learn": [
                          1,
                          0.0107823322
                        ]
                      },
                      {
                        "test": [
                          0.8701298701,
                          0.3070410196
                        ],
                        "passed_time": 6.428656052,
                        "iteration": 150,
                        "remaining_time": 206.4407497,
                        "learn": [
                          1,
                          0.01075884096
                        ]
                      },
                      {
                        "test": [
                          0.8701298701,
                          0.3071887276
                        ],
                        "passed_time": 6.476871049,
                        "iteration": 151,
                        "remaining_time": 206.5780977,
                        "learn": [
                          1,
                          0.01072870205
                        ]
                      },
                      {
                        "test": [
                          0.8701298701,
                          0.3078521629
                        ],
                        "passed_time": 6.515944398,
                        "iteration": 152,
                        "remaining_time": 206.423415,
                        "learn": [
                          1,
                          0.01066658388
                        ]
                      },
                      {
                        "test": [
                          0.8701298701,
                          0.3077645735
                        ],
                        "passed_time": 6.557801908,
                        "iteration": 153,
                        "remaining_time": 206.3578444,
                        "learn": [
                          1,
                          0.01057702498
                        ]
                      },
                      {
                        "test": [
                          0.8701298701,
                          0.3072827822
                        ],
                        "passed_time": 6.596099724,
                        "iteration": 154,
                        "remaining_time": 206.1813107,
                        "learn": [
                          1,
                          0.01056366107
                        ]
                      },
                      {
                        "test": [
                          0.8701298701,
                          0.307752634
                        ],
                        "passed_time": 6.634601838,
                        "iteration": 155,
                        "remaining_time": 206.012893,
                        "learn": [
                          1,
                          0.01054373598
                        ]
                      },
                      {
                        "test": [
                          0.8701298701,
                          0.3068142433
                        ],
                        "passed_time": 6.681437752,
                        "iteration": 156,
                        "remaining_time": 206.103204,
                        "learn": [
                          1,
                          0.01051257638
                        ]
                      },
                      {
                        "test": [
                          0.8571428571,
                          0.3090751697
                        ],
                        "passed_time": 6.735868421,
                        "iteration": 157,
                        "remaining_time": 206.4245246,
                        "learn": [
                          1,
                          0.01043418498
                        ]
                      },
                      {
                        "test": [
                          0.8571428571,
                          0.3083625397
                        ],
                        "passed_time": 6.773709812,
                        "iteration": 158,
                        "remaining_time": 206.2360327,
                        "learn": [
                          1,
                          0.01038786944
                        ]
                      },
                      {
                        "test": [
                          0.8571428571,
                          0.309540216
                        ],
                        "passed_time": 6.813498327,
                        "iteration": 159,
                        "remaining_time": 206.1083244,
                        "learn": [
                          1,
                          0.01031965991
                        ]
                      },
                      {
                        "test": [
                          0.8571428571,
                          0.3094676625
                        ],
                        "passed_time": 6.852344683,
                        "iteration": 160,
                        "remaining_time": 205.9533908,
                        "learn": [
                          1,
                          0.01030843866
                        ]
                      },
                      {
                        "test": [
                          0.8571428571,
                          0.3073506293
                        ],
                        "passed_time": 6.891313519,
                        "iteration": 161,
                        "remaining_time": 205.8035482,
                        "learn": [
                          1,
                          0.01019775634
                        ]
                      },
                      {
                        "test": [
                          0.8571428571,
                          0.3074141911
                        ],
                        "passed_time": 6.930373805,
                        "iteration": 162,
                        "remaining_time": 205.6577797,
                        "learn": [
                          1,
                          0.01008371746
                        ]
                      },
                      {
                        "test": [
                          0.8571428571,
                          0.308248396
                        ],
                        "passed_time": 6.96830814,
                        "iteration": 163,
                        "remaining_time": 205.4801108,
                        "learn": [
                          1,
                          0.01006066254
                        ]
                      },
                      {
                        "test": [
                          0.8701298701,
                          0.3090549568
                        ],
                        "passed_time": 7.007400307,
                        "iteration": 164,
                        "remaining_time": 205.3380635,
                        "learn": [
                          1,
                          0.009955632141
                        ]
                      },
                      {
                        "test": [
                          0.8701298701,
                          0.3087866647
                        ],
                        "passed_time": 7.049744885,
                        "iteration": 165,
                        "remaining_time": 205.2919685,
                        "learn": [
                          1,
                          0.009940918754
                        ]
                      },
                      {
                        "test": [
                          0.8831168831,
                          0.3086896376
                        ],
                        "passed_time": 7.087952044,
                        "iteration": 166,
                        "remaining_time": 205.126181,
                        "learn": [
                          1,
                          0.009879857107
                        ]
                      },
                      {
                        "test": [
                          0.8831168831,
                          0.3104741976
                        ],
                        "passed_time": 7.127959121,
                        "iteration": 167,
                        "remaining_time": 205.0136814,
                        "learn": [
                          1,
                          0.009558702606
                        ]
                      },
                      {
                        "test": [
                          0.8831168831,
                          0.3109858624
                        ],
                        "passed_time": 7.166006339,
                        "iteration": 168,
                        "remaining_time": 204.8460155,
                        "learn": [
                          1,
                          0.009531229929
                        ]
                      },
                      {
                        "test": [
                          0.8831168831,
                          0.3118376298
                        ],
                        "passed_time": 7.203756347,
                        "iteration": 169,
                        "remaining_time": 204.6714303,
                        "learn": [
                          1,
                          0.009503457281
                        ]
                      },
                      {
                        "test": [
                          0.8831168831,
                          0.3129200873
                        ],
                        "passed_time": 7.242665398,
                        "iteration": 170,
                        "remaining_time": 204.5311767,
                        "learn": [
                          1,
                          0.009470110625
                        ]
                      },
                      {
                        "test": [
                          0.8831168831,
                          0.3142788875
                        ],
                        "passed_time": 7.281523152,
                        "iteration": 171,
                        "remaining_time": 204.3906615,
                        "learn": [
                          1,
                          0.009402801788
                        ]
                      },
                      {
                        "test": [
                          0.8831168831,
                          0.314122039
                        ],
                        "passed_time": 7.329696136,
                        "iteration": 172,
                        "remaining_time": 204.5112327,
                        "learn": [
                          1,
                          0.009318847282
                        ]
                      },
                      {
                        "test": [
                          0.8831168831,
                          0.314675616
                        ],
                        "passed_time": 7.370901468,
                        "iteration": 173,
                        "remaining_time": 204.436612,
                        "learn": [
                          1,
                          0.009306597554
                        ]
                      },
                      {
                        "test": [
                          0.8831168831,
                          0.3144026422
                        ],
                        "passed_time": 7.409751493,
                        "iteration": 174,
                        "remaining_time": 204.297434,
                        "learn": [
                          1,
                          0.009294713245
                        ]
                      },
                      {
                        "test": [
                          0.8831168831,
                          0.3148841115
                        ],
                        "passed_time": 7.448145725,
                        "iteration": 175,
                        "remaining_time": 204.1469033,
                        "learn": [
                          1,
                          0.009235231705
                        ]
                      },
                      {
                        "test": [
                          0.8701298701,
                          0.3155058328
                        ],
                        "passed_time": 7.499191485,
                        "iteration": 176,
                        "remaining_time": 204.3423759,
                        "learn": [
                          1,
                          0.009178890122
                        ]
                      },
                      {
                        "test": [
                          0.8701298701,
                          0.3162649823
                        ],
                        "passed_time": 7.539908306,
                        "iteration": 177,
                        "remaining_time": 204.2552688,
                        "learn": [
                          1,
                          0.009166110575
                        ]
                      },
                      {
                        "test": [
                          0.8701298701,
                          0.3166543292
                        ],
                        "passed_time": 7.57836109,
                        "iteration": 178,
                        "remaining_time": 204.1077029,
                        "learn": [
                          1,
                          0.009126019634
                        ]
                      },
                      {
                        "test": [
                          0.8701298701,
                          0.3167387232
                        ],
                        "passed_time": 7.616341628,
                        "iteration": 179,
                        "remaining_time": 203.9487036,
                        "learn": [
                          1,
                          0.009110686047
                        ]
                      },
                      {
                        "test": [
                          0.8701298701,
                          0.3174872708
                        ],
                        "passed_time": 7.654293034,
                        "iteration": 180,
                        "remaining_time": 203.7902659,
                        "learn": [
                          1,
                          0.009092072256
                        ]
                      },
                      {
                        "test": [
                          0.8701298701,
                          0.3171955703
                        ],
                        "passed_time": 7.704818018,
                        "iteration": 181,
                        "remaining_time": 203.9660067,
                        "learn": [
                          1,
                          0.009067132582
                        ]
                      },
                      {
                        "test": [
                          0.8701298701,
                          0.3172480843
                        ],
                        "passed_time": 7.759296597,
                        "iteration": 182,
                        "remaining_time": 204.2433427,
                        "learn": [
                          1,
                          0.009053049524
                        ]
                      },
                      {
                        "test": [
                          0.8831168831,
                          0.3199057641
                        ],
                        "passed_time": 7.799596805,
                        "iteration": 183,
                        "remaining_time": 204.1459686,
                        "learn": [
                          1,
                          0.008916889141
                        ]
                      },
                      {
                        "test": [
                          0.8831168831,
                          0.3198091086
                        ],
                        "passed_time": 7.838215457,
                        "iteration": 184,
                        "remaining_time": 204.0054455,
                        "learn": [
                          1,
                          0.008911626791
                        ]
                      },
                      {
                        "test": [
                          0.8831168831,
                          0.3227313649
                        ],
                        "passed_time": 7.876200014,
                        "iteration": 185,
                        "remaining_time": 203.8496068,
                        "learn": [
                          1,
                          0.008808384534
                        ]
                      },
                      {
                        "test": [
                          0.8831168831,
                          0.3217559418
                        ],
                        "passed_time": 7.915411366,
                        "iteration": 186,
                        "remaining_time": 203.7266038,
                        "learn": [
                          1,
                          0.008787409932
                        ]
                      },
                      {
                        "test": [
                          0.8831168831,
                          0.3212721441
                        ],
                        "passed_time": 7.954357878,
                        "iteration": 187,
                        "remaining_time": 203.5977134,
                        "learn": [
                          1,
                          0.008743017328
                        ]
                      },
                      {
                        "test": [
                          0.8831168831,
                          0.3209614444
                        ],
                        "passed_time": 7.992516131,
                        "iteration": 188,
                        "remaining_time": 203.4497095,
                        "learn": [
                          1,
                          0.008733635634
                        ]
                      },
                      {
                        "test": [
                          0.8831168831,
                          0.3209304066
                        ],
                        "passed_time": 8.030084186,
                        "iteration": 189,
                        "remaining_time": 203.2879207,
                        "learn": [
                          1,
                          0.008699816816
                        ]
                      },
                      {
                        "test": [
                          0.8701298701,
                          0.3223613888
                        ],
                        "passed_time": 8.077610618,
                        "iteration": 190,
                        "remaining_time": 203.3781647,
                        "learn": [
                          1,
                          0.008517371284
                        ]
                      },
                      {
                        "test": [
                          0.8701298701,
                          0.321815565
                        ],
                        "passed_time": 8.115640843,
                        "iteration": 191,
                        "remaining_time": 203.2291728,
                        "learn": [
                          1,
                          0.008503747921
                        ]
                      },
                      {
                        "test": [
                          0.8701298701,
                          0.3232484793
                        ],
                        "passed_time": 8.154447776,
                        "iteration": 192,
                        "remaining_time": 203.100676,
                        "learn": [
                          1,
                          0.008480344722
                        ]
                      },
                      {
                        "test": [
                          0.8701298701,
                          0.3229619806
                        ],
                        "passed_time": 8.19399409,
                        "iteration": 193,
                        "remaining_time": 202.9914206,
                        "learn": [
                          1,
                          0.008435924069
                        ]
                      },
                      {
                        "test": [
                          0.8701298701,
                          0.3232942804
                        ],
                        "passed_time": 8.237209963,
                        "iteration": 194,
                        "remaining_time": 202.9733019,
                        "learn": [
                          1,
                          0.008407259299
                        ]
                      },
                      {
                        "test": [
                          0.8701298701,
                          0.3232130571
                        ],
                        "passed_time": 8.275697311,
                        "iteration": 195,
                        "remaining_time": 202.83903,
                        "learn": [
                          1,
                          0.008378289104
                        ]
                      },
                      {
                        "test": [
                          0.8831168831,
                          0.3249124304
                        ],
                        "passed_time": 8.314288133,
                        "iteration": 196,
                        "remaining_time": 202.7082533,
                        "learn": [
                          1,
                          0.00830466685
                        ]
                      },
                      {
                        "test": [
                          0.8831168831,
                          0.3267504704
                        ],
                        "passed_time": 8.35434306,
                        "iteration": 197,
                        "remaining_time": 202.613916,
                        "learn": [
                          1,
                          0.00826388091
                        ]
                      },
                      {
                        "test": [
                          0.8831168831,
                          0.3261621649
                        ],
                        "passed_time": 8.393241882,
                        "iteration": 198,
                        "remaining_time": 202.4922325,
                        "learn": [
                          1,
                          0.008234567112
                        ]
                      },
                      {
                        "test": [
                          0.8831168831,
                          0.3255753951
                        ],
                        "passed_time": 8.43209608,
                        "iteration": 199,
                        "remaining_time": 202.3703059,
                        "learn": [
                          1,
                          0.008216169145
                        ]
                      },
                      {
                        "test": [
                          0.8831168831,
                          0.3250296952
                        ],
                        "passed_time": 8.470218946,
                        "iteration": 200,
                        "remaining_time": 202.2317449,
                        "learn": [
                          1,
                          0.008169139912
                        ]
                      },
                      {
                        "test": [
                          0.8831168831,
                          0.3243507782
                        ],
                        "passed_time": 8.520153116,
                        "iteration": 201,
                        "remaining_time": 202.374726,
                        "learn": [
                          1,
                          0.008096659106
                        ]
                      },
                      {
                        "test": [
                          0.8831168831,
                          0.3249186726
                        ],
                        "passed_time": 8.561991002,
                        "iteration": 202,
                        "remaining_time": 202.3244869,
                        "learn": [
                          1,
                          0.00806458012
                        ]
                      },
                      {
                        "test": [
                          0.8831168831,
                          0.3257207004
                        ],
                        "passed_time": 8.601212784,
                        "iteration": 203,
                        "remaining_time": 202.212826,
                        "learn": [
                          1,
                          0.008008936651
                        ]
                      },
                      {
                        "test": [
                          0.8831168831,
                          0.3257443069
                        ],
                        "passed_time": 8.640872394,
                        "iteration": 204,
                        "remaining_time": 202.1121128,
                        "learn": [
                          1,
                          0.007988967927
                        ]
                      },
                      {
                        "test": [
                          0.8831168831,
                          0.3257795557
                        ],
                        "passed_time": 8.685210029,
                        "iteration": 205,
                        "remaining_time": 202.1208586,
                        "learn": [
                          1,
                          0.007984761319
                        ]
                      },
                      {
                        "test": [
                          0.8831168831,
                          0.3265256758
                        ],
                        "passed_time": 8.744165832,
                        "iteration": 206,
                        "remaining_time": 202.4675692,
                        "learn": [
                          1,
                          0.00795563997
                        ]
                      },
                      {
                        "test": [
                          0.8831168831,
                          0.3261813374
                        ],
                        "passed_time": 8.788719151,
                        "iteration": 207,
                        "remaining_time": 202.4785681,
                        "learn": [
                          1,
                          0.007945401217
                        ]
                      },
                      {
                        "test": [
                          0.8831168831,
                          0.3260060843
                        ],
                        "passed_time": 8.82870174,
                        "iteration": 208,
                        "remaining_time": 202.3842585,
                        "learn": [
                          1,
                          0.007934370851
                        ]
                      },
                      {
                        "test": [
                          0.8831168831,
                          0.3256067548
                        ],
                        "passed_time": 8.866981057,
                        "iteration": 209,
                        "remaining_time": 202.2516155,
                        "learn": [
                          1,
                          0.007925482357
                        ]
                      },
                      {
                        "test": [
                          0.8831168831,
                          0.3257614978
                        ],
                        "passed_time": 8.906015778,
                        "iteration": 210,
                        "remaining_time": 202.1370121,
                        "learn": [
                          1,
                          0.007910081764
                        ]
                      },
                      {
                        "test": [
                          0.8831168831,
                          0.3255437628
                        ],
                        "passed_time": 8.944586933,
                        "iteration": 211,
                        "remaining_time": 202.0126521,
                        "learn": [
                          1,
                          0.007900752273
                        ]
                      },
                      {
                        "test": [
                          0.8831168831,
                          0.3235863029
                        ],
                        "passed_time": 8.983273254,
                        "iteration": 212,
                        "remaining_time": 201.8916858,
                        "learn": [
                          1,
                          0.007791538644
                        ]
                      },
                      {
                        "test": [
                          0.8831168831,
                          0.3245393827
                        ],
                        "passed_time": 9.021627075,
                        "iteration": 213,
                        "remaining_time": 201.7640522,
                        "learn": [
                          1,
                          0.007771602643
                        ]
                      },
                      {
                        "test": [
                          0.8831168831,
                          0.3255105204
                        ],
                        "passed_time": 9.060686383,
                        "iteration": 214,
                        "remaining_time": 201.6529504,
                        "learn": [
                          1,
                          0.007743833112
                        ]
                      },
                      {
                        "test": [
                          0.8831168831,
                          0.3291179112
                        ],
                        "passed_time": 9.112937975,
                        "iteration": 215,
                        "remaining_time": 201.8347003,
                        "learn": [
                          1,
                          0.007389779184
                        ]
                      },
                      {
                        "test": [
                          0.8831168831,
                          0.328627351
                        ],
                        "passed_time": 9.151927622,
                        "iteration": 216,
                        "remaining_time": 201.7219807,
                        "learn": [
                          1,
                          0.007351286271
                        ]
                      },
                      {
                        "test": [
                          0.8831168831,
                          0.328826508
                        ],
                        "passed_time": 9.190054223,
                        "iteration": 217,
                        "remaining_time": 201.5910059,
                        "learn": [
                          1,
                          0.007339343526
                        ]
                      },
                      {
                        "test": [
                          0.8831168831,
                          0.3287262359
                        ],
                        "passed_time": 9.228455578,
                        "iteration": 218,
                        "remaining_time": 201.4668772,
                        "learn": [
                          1,
                          0.007318612018
                        ]
                      },
                      {
                        "test": [
                          0.8831168831,
                          0.3289974262
                        ],
                        "passed_time": 9.26639263,
                        "iteration": 219,
                        "remaining_time": 201.3334399,
                        "learn": [
                          1,
                          0.007314652399
                        ]
                      },
                      {
                        "test": [
                          0.8831168831,
                          0.3286973284
                        ],
                        "passed_time": 9.304645338,
                        "iteration": 220,
                        "remaining_time": 201.2076926,
                        "learn": [
                          1,
                          0.007305149939
                        ]
                      },
                      {
                        "test": [
                          0.8831168831,
                          0.3291256397
                        ],
                        "passed_time": 9.344441206,
                        "iteration": 221,
                        "remaining_time": 201.1159463,
                        "learn": [
                          1,
                          0.007293005395
                        ]
                      },
                      {
                        "test": [
                          0.8831168831,
                          0.3286659687
                        ],
                        "passed_time": 9.382452324,
                        "iteration": 222,
                        "remaining_time": 200.9864339,
                        "learn": [
                          1,
                          0.007261313644
                        ]
                      },
                      {
                        "test": [
                          0.8831168831,
                          0.3287053542
                        ],
                        "passed_time": 9.423826112,
                        "iteration": 223,
                        "remaining_time": 200.9294353,
                        "learn": [
                          1,
                          0.007246885424
                        ]
                      },
                      {
                        "test": [
                          0.8831168831,
                          0.3291228158
                        ],
                        "passed_time": 9.462633884,
                        "iteration": 224,
                        "remaining_time": 200.8181191,
                        "learn": [
                          1,
                          0.007239157857
                        ]
                      },
                      {
                        "test": [
                          0.8831168831,
                          0.3294241026
                        ],
                        "passed_time": 9.510818926,
                        "iteration": 225,
                        "remaining_time": 200.905529,
                        "learn": [
                          1,
                          0.007225385678
                        ]
                      },
                      {
                        "test": [
                          0.8831168831,
                          0.3307234776
                        ],
                        "passed_time": 9.553145293,
                        "iteration": 226,
                        "remaining_time": 200.8685572,
                        "learn": [
                          1,
                          0.007151240617
                        ]
                      },
                      {
                        "test": [
                          0.8831168831,
                          0.3303837714
                        ],
                        "passed_time": 9.592090437,
                        "iteration": 227,
                        "remaining_time": 200.76077,
                        "learn": [
                          1,
                          0.007139713936
                        ]
                      },
                      {
                        "test": [
                          0.8831168831,
                          0.3302765883
                        ],
                        "passed_time": 9.630679077,
                        "iteration": 228,
                        "remaining_time": 200.6461567,
                        "learn": [
                          1,
                          0.007132013639
                        ]
                      },
                      {
                        "test": [
                          0.8831168831,
                          0.3301888998
                        ],
                        "passed_time": 9.66873465,
                        "iteration": 229,
                        "remaining_time": 200.521149,
                        "learn": [
                          1,
                          0.00712470759
                        ]
                      },
                      {
                        "test": [
                          0.8831168831,
                          0.3301915751
                        ],
                        "passed_time": 9.707786481,
                        "iteration": 230,
                        "remaining_time": 200.417462,
                        "learn": [
                          1,
                          0.007106050946
                        ]
                      },
                      {
                        "test": [
                          0.8831168831,
                          0.3300596708
                        ],
                        "passed_time": 9.758339735,
                        "iteration": 231,
                        "remaining_time": 200.5507063,
                        "learn": [
                          1,
                          0.007095788819
                        ]
                      },
                      {
                        "test": [
                          0.8831168831,
                          0.3295624473
                        ],
                        "passed_time": 9.809047387,
                        "iteration": 232,
                        "remaining_time": 200.6855317,
                        "learn": [
                          1,
                          0.007090785145
                        ]
                      },
                      {
                        "test": [
                          0.8831168831,
                          0.3297409206
                        ],
                        "passed_time": 9.84768923,
                        "iteration": 233,
                        "remaining_time": 200.5730208,
                        "learn": [
                          1,
                          0.007080954664
                        ]
                      },
                      {
                        "test": [
                          0.8831168831,
                          0.3290955432
                        ],
                        "passed_time": 9.886600264,
                        "iteration": 234,
                        "remaining_time": 200.4665968,
                        "learn": [
                          1,
                          0.007076291477
                        ]
                      },
                      {
                        "test": [
                          0.8831168831,
                          0.3292664862
                        ],
                        "passed_time": 9.925837717,
                        "iteration": 235,
                        "remaining_time": 200.3673343,
                        "learn": [
                          1,
                          0.007024570228
                        ]
                      },
                      {
                        "test": [
                          0.8831168831,
                          0.3286039674
                        ],
                        "passed_time": 9.965406978,
                        "iteration": 236,
                        "remaining_time": 200.2752466,
                        "learn": [
                          1,
                          0.00684556852
                        ]
                      },
                      {
                        "test": [
                          0.8831168831,
                          0.3276201967
                        ],
                        "passed_time": 10.00488967,
                        "iteration": 237,
                        "remaining_time": 200.1818681,
                        "learn": [
                          1,
                          0.006822767601
                        ]
                      },
                      {
                        "test": [
                          0.8831168831,
                          0.3288196217
                        ],
                        "passed_time": 10.04405944,
                        "iteration": 238,
                        "remaining_time": 200.082707,
                        "learn": [
                          1,
                          0.006808125116
                        ]
                      },
                      {
                        "test": [
                          0.8831168831,
                          0.3280810071
                        ],
                        "passed_time": 10.08268101,
                        "iteration": 239,
                        "remaining_time": 199.9731734,
                        "learn": [
                          1,
                          0.006788828794
                        ]
                      },
                      {
                        "test": [
                          0.8831168831,
                          0.3276619354
                        ],
                        "passed_time": 10.12161841,
                        "iteration": 240,
                        "remaining_time": 199.8704649,
                        "learn": [
                          1,
                          0.006784542713
                        ]
                      },
                      {
                        "test": [
                          0.8831168831,
                          0.3273229971
                        ],
                        "passed_time": 10.16442732,
                        "iteration": 241,
                        "remaining_time": 199.8444015,
                        "learn": [
                          1,
                          0.006769190427
                        ]
                      },
                      {
                        "test": [
                          0.8831168831,
                          0.3270858666
                        ],
                        "passed_time": 10.20319475,
                        "iteration": 242,
                        "remaining_time": 199.7390841,
                        "learn": [
                          1,
                          0.006762838052
                        ]
                      },
                      {
                        "test": [
                          0.8831168831,
                          0.3271852716
                        ],
                        "passed_time": 10.24167343,
                        "iteration": 243,
                        "remaining_time": 199.6286838,
                        "learn": [
                          1,
                          0.006750136419
                        ]
                      },
                      {
                        "test": [
                          0.8831168831,
                          0.3269205465
                        ],
                        "passed_time": 10.28049587,
                        "iteration": 244,
                        "remaining_time": 199.5255423,
                        "learn": [
                          1,
                          0.006724096591
                        ]
                      },
                      {
                        "test": [
                          0.8831168831,
                          0.3287013908
                        ],
                        "passed_time": 10.32346132,
                        "iteration": 245,
                        "remaining_time": 199.5029883,
                        "learn": [
                          1,
                          0.006686187258
                        ]
                      },
                      {
                        "test": [
                          0.8831168831,
                          0.3285982206
                        ],
                        "passed_time": 10.36148901,
                        "iteration": 246,
                        "remaining_time": 199.3852522,
                        "learn": [
                          1,
                          0.006672588049
                        ]
                      },
                      {
                        "test": [
                          0.8831168831,
                          0.3293569738
                        ],
                        "passed_time": 10.40027037,
                        "iteration": 247,
                        "remaining_time": 199.2826,
                        "learn": [
                          1,
                          0.006656607771
                        ]
                      },
                      {
                        "test": [
                          0.8831168831,
                          0.32896136
                        ],
                        "passed_time": 10.43921117,
                        "iteration": 248,
                        "remaining_time": 199.183503,
                        "learn": [
                          1,
                          0.006652658282
                        ]
                      },
                      {
                        "test": [
                          0.8831168831,
                          0.3304315542
                        ],
                        "passed_time": 10.47765971,
                        "iteration": 249,
                        "remaining_time": 199.0755345,
                        "learn": [
                          1,
                          0.0066181133
                        ]
                      },
                      {
                        "test": [
                          0.8831168831,
                          0.3302734672
                        ],
                        "passed_time": 10.52818033,
                        "iteration": 250,
                        "remaining_time": 199.1965274,
                        "learn": [
                          1,
                          0.00661373528
                        ]
                      },
                      {
                        "test": [
                          0.8831168831,
                          0.3299529831
                        ],
                        "passed_time": 10.56672487,
                        "iteration": 251,
                        "remaining_time": 199.0905147,
                        "learn": [
                          1,
                          0.00660725045
                        ]
                      },
                      {
                        "test": [
                          0.8831168831,
                          0.3296870442
                        ],
                        "passed_time": 10.60543544,
                        "iteration": 252,
                        "remaining_time": 198.9881503,
                        "learn": [
                          1,
                          0.00660139595
                        ]
                      },
                      {
                        "test": [
                          0.8831168831,
                          0.3293330205
                        ],
                        "passed_time": 10.64429703,
                        "iteration": 253,
                        "remaining_time": 198.8891091,
                        "learn": [
                          1,
                          0.006591666758
                        ]
                      },
                      {
                        "test": [
                          0.8831168831,
                          0.3289616077
                        ],
                        "passed_time": 10.6823362,
                        "iteration": 254,
                        "remaining_time": 198.7752363,
                        "learn": [
                          1,
                          0.006585565268
                        ]
                      },
                      {
                        "test": [
                          0.8831168831,
                          0.3289568517
                        ],
                        "passed_time": 10.72123145,
                        "iteration": 255,
                        "remaining_time": 198.6778203,
                        "learn": [
                          1,
                          0.006577225292
                        ]
                      },
                      {
                        "test": [
                          0.8831168831,
                          0.3294243751
                        ],
                        "passed_time": 10.75957087,
                        "iteration": 256,
                        "remaining_time": 198.5706017,
                        "learn": [
                          1,
                          0.0065532876
                        ]
                      },
                      {
                        "test": [
                          0.8831168831,
                          0.3289026037
                        ],
                        "passed_time": 10.81898494,
                        "iteration": 257,
                        "remaining_time": 198.8512657,
                        "learn": [
                          1,
                          0.006548688303
                        ]
                      },
                      {
                        "test": [
                          0.8831168831,
                          0.3285533855
                        ],
                        "passed_time": 10.85924563,
                        "iteration": 258,
                        "remaining_time": 198.778701,
                        "learn": [
                          1,
                          0.006540663102
                        ]
                      },
                      {
                        "test": [
                          0.8831168831,
                          0.3282375088
                        ],
                        "passed_time": 10.89799528,
                        "iteration": 259,
                        "remaining_time": 198.6788371,
                        "learn": [
                          1,
                          0.006471649104
                        ]
                      },
                      {
                        "test": [
                          0.8831168831,
                          0.3273861377
                        ],
                        "passed_time": 10.93733217,
                        "iteration": 260,
                        "remaining_time": 198.5901039,
                        "learn": [
                          1,
                          0.006463655849
                        ]
                      },
                      {
                        "test": [
                          0.8831168831,
                          0.3277619102
                        ],
                        "passed_time": 10.97625272,
                        "iteration": 261,
                        "remaining_time": 198.4942191,
                        "learn": [
                          1,
                          0.006454810987
                        ]
                      },
                      {
                        "test": [
                          0.8831168831,
                          0.3285871481
                        ],
                        "passed_time": 11.01488392,
                        "iteration": 262,
                        "remaining_time": 198.3935556,
                        "learn": [
                          1,
                          0.006375177234
                        ]
                      },
                      {
                        "test": [
                          0.8831168831,
                          0.3299099315
                        ],
                        "passed_time": 11.05301195,
                        "iteration": 263,
                        "remaining_time": 198.2843355,
                        "learn": [
                          1,
                          0.00633845376
                        ]
                      },
                      {
                        "test": [
                          0.8831168831,
                          0.3285672572
                        ],
                        "passed_time": 11.09133603,
                        "iteration": 264,
                        "remaining_time": 198.1791551,
                        "learn": [
                          1,
                          0.00632009553
                        ]
                      },
                      {
                        "test": [
                          0.8831168831,
                          0.3297162242
                        ],
                        "passed_time": 11.12996936,
                        "iteration": 265,
                        "remaining_time": 198.0799811,
                        "learn": [
                          1,
                          0.00628898697
                        ]
                      },
                      {
                        "test": [
                          0.8831168831,
                          0.3294705478
                        ],
                        "passed_time": 11.1684575,
                        "iteration": 266,
                        "remaining_time": 197.9786867,
                        "learn": [
                          1,
                          0.006287048455
                        ]
                      },
                      {
                        "test": [
                          0.8831168831,
                          0.3294568991
                        ],
                        "passed_time": 11.21356718,
                        "iteration": 267,
                        "remaining_time": 197.9947757,
                        "learn": [
                          1,
                          0.006283509186
                        ]
                      },
                      {
                        "test": [
                          0.8831168831,
                          0.3293733968
                        ],
                        "passed_time": 11.25349036,
                        "iteration": 268,
                        "remaining_time": 197.9191929,
                        "learn": [
                          1,
                          0.006277950761
                        ]
                      },
                      {
                        "test": [
                          0.8831168831,
                          0.3297049782
                        ],
                        "passed_time": 11.29241334,
                        "iteration": 269,
                        "remaining_time": 197.8263522,
                        "learn": [
                          1,
                          0.006273048376
                        ]
                      },
                      {
                        "test": [
                          0.8831168831,
                          0.3298977195
                        ],
                        "passed_time": 11.33192537,
                        "iteration": 270,
                        "remaining_time": 197.7441885,
                        "learn": [
                          1,
                          0.006270368504
                        ]
                      },
                      {
                        "test": [
                          0.8831168831,
                          0.3296930635
                        ],
                        "passed_time": 11.37043191,
                        "iteration": 271,
                        "remaining_time": 197.6448605,
                        "learn": [
                          1,
                          0.006258357584
                        ]
                      },
                      {
                        "test": [
                          0.8831168831,
                          0.3308406186
                        ],
                        "passed_time": 11.40973053,
                        "iteration": 272,
                        "remaining_time": 197.5596931,
                        "learn": [
                          1,
                          0.006226608956
                        ]
                      },
                      {
                        "test": [
                          0.8831168831,
                          0.3308828775
                        ],
                        "passed_time": 11.44762772,
                        "iteration": 273,
                        "remaining_time": 197.4506884,
                        "learn": [
                          1,
                          0.006218786333
                        ]
                      },
                      {
                        "test": [
                          0.8831168831,
                          0.3310719775
                        ],
                        "passed_time": 11.48651252,
                        "iteration": 274,
                        "remaining_time": 197.3591697,
                        "learn": [
                          1,
                          0.006213484247
                        ]
                      },
                      {
                        "test": [
                          0.8831168831,
                          0.3309208758
                        ],
                        "passed_time": 11.53317214,
                        "iteration": 275,
                        "remaining_time": 197.4011058,
                        "learn": [
                          1,
                          0.006212819635
                        ]
                      },
                      {
                        "test": [
                          0.8831168831,
                          0.3308374232
                        ],
                        "passed_time": 11.57582693,
                        "iteration": 276,
                        "remaining_time": 197.3741176,
                        "learn": [
                          1,
                          0.006201896792
                        ]
                      },
                      {
                        "test": [
                          0.8831168831,
                          0.330886494
                        ],
                        "passed_time": 11.61483514,
                        "iteration": 277,
                        "remaining_time": 197.2850774,
                        "learn": [
                          1,
                          0.006188603008
                        ]
                      },
                      {
                        "test": [
                          0.8831168831,
                          0.3309272667
                        ],
                        "passed_time": 11.65384803,
                        "iteration": 278,
                        "remaining_time": 197.196475,
                        "learn": [
                          1,
                          0.00617497653
                        ]
                      },
                      {
                        "test": [
                          0.8831168831,
                          0.3309624164
                        ],
                        "passed_time": 11.69299825,
                        "iteration": 279,
                        "remaining_time": 197.1105419,
                        "learn": [
                          1,
                          0.006168678695
                        ]
                      },
                      {
                        "test": [
                          0.8831168831,
                          0.3314358847
                        ],
                        "passed_time": 11.73111564,
                        "iteration": 280,
                        "remaining_time": 197.0075969,
                        "learn": [
                          1,
                          0.006162906784
                        ]
                      },
                      {
                        "test": [
                          0.8831168831,
                          0.3320500015
                        ],
                        "passed_time": 11.76940665,
                        "iteration": 281,
                        "remaining_time": 196.9080163,
                        "learn": [
                          1,
                          0.006158995473
                        ]
                      },
                      {
                        "test": [
                          0.8831168831,
                          0.3320098481
                        ],
                        "passed_time": 11.80876163,
                        "iteration": 282,
                        "remaining_time": 196.8266029,
                        "learn": [
                          1,
                          0.006156432083
                        ]
                      },
                      {
                        "test": [
                          0.8831168831,
                          0.3316383362
                        ],
                        "passed_time": 11.86936701,
                        "iteration": 283,
                        "remaining_time": 197.098362,
                        "learn": [
                          1,
                          0.006150110874
                        ]
                      },
                      {
                        "test": [
                          0.8831168831,
                          0.3313704899
                        ],
                        "passed_time": 11.90905984,
                        "iteration": 284,
                        "remaining_time": 197.0218145,
                        "learn": [
                          1,
                          0.006136700998
                        ]
                      },
                      {
                        "test": [
                          0.8831168831,
                          0.3314322434
                        ],
                        "passed_time": 11.94717865,
                        "iteration": 285,
                        "remaining_time": 196.919581,
                        "learn": [
                          1,
                          0.006131493188
                        ]
                      },
                      {
                        "test": [
                          0.8831168831,
                          0.3314289737
                        ],
                        "passed_time": 11.98534157,
                        "iteration": 286,
                        "remaining_time": 196.8185186,
                        "learn": [
                          1,
                          0.006129040438
                        ]
                      },
                      {
                        "test": [
                          0.8831168831,
                          0.331489885
                        ],
                        "passed_time": 12.02331085,
                        "iteration": 287,
                        "remaining_time": 196.7147247,
                        "learn": [
                          1,
                          0.006123165679
                        ]
                      },
                      {
                        "test": [
                          0.8831168831,
                          0.3317364532
                        ],
                        "passed_time": 12.06122165,
                        "iteration": 288,
                        "remaining_time": 196.6104332,
                        "learn": [
                          1,
                          0.006119711726
                        ]
                      },
                      {
                        "test": [
                          0.8831168831,
                          0.3318497546
                        ],
                        "passed_time": 12.09946347,
                        "iteration": 289,
                        "remaining_time": 196.5119756,
                        "learn": [
                          1,
                          0.006117171322
                        ]
                      },
                      {
                        "test": [
                          0.8831168831,
                          0.3296555854
                        ],
                        "passed_time": 12.14279616,
                        "iteration": 290,
                        "remaining_time": 196.496313,
                        "learn": [
                          1,
                          0.006083059155
                        ]
                      },
                      {
                        "test": [
                          0.8831168831,
                          0.3299804787
                        ],
                        "passed_time": 12.18099509,
                        "iteration": 291,
                        "remaining_time": 196.3976879,
                        "learn": [
                          1,
                          0.006073584744
                        ]
                      },
                      {
                        "test": [
                          0.8831168831,
                          0.3314750473
                        ],
                        "passed_time": 12.22282767,
                        "iteration": 292,
                        "remaining_time": 196.3578494,
                        "learn": [
                          1,
                          0.006060636901
                        ]
                      },
                      {
                        "test": [
                          0.8831168831,
                          0.3310245167
                        ],
                        "passed_time": 12.26079666,
                        "iteration": 293,
                        "remaining_time": 196.2561534,
                        "learn": [
                          1,
                          0.006048765058
                        ]
                      },
                      {
                        "test": [
                          0.8831168831,
                          0.3313115603
                        ],
                        "passed_time": 12.29933376,
                        "iteration": 294,
                        "remaining_time": 196.1639503,
                        "learn": [
                          1,
                          0.006042088948
                        ]
                      },
                      {
                        "test": [
                          0.8831168831,
                          0.3297391371
                        ],
                        "passed_time": 12.33753182,
                        "iteration": 295,
                        "remaining_time": 196.0667219,
                        "learn": [
                          1,
                          0.006016765545
                        ]
                      },
                      {
                        "test": [
                          0.8831168831,
                          0.3297054737
                        ],
                        "passed_time": 12.3757844,
                        "iteration": 296,
                        "remaining_time": 195.9707543,
                        "learn": [
                          1,
                          0.0060112153
                        ]
                      },
                      {
                        "test": [
                          0.8831168831,
                          0.330434923
                        ],
                        "passed_time": 12.41462009,
                        "iteration": 297,
                        "remaining_time": 195.8843748,
                        "learn": [
                          1,
                          0.00597652267
                        ]
                      },
                      {
                        "test": [
                          0.8831168831,
                          0.3320162885
                        ],
                        "passed_time": 12.45266398,
                        "iteration": 298,
                        "remaining_time": 195.7858641,
                        "learn": [
                          1,
                          0.005774134125
                        ]
                      },
                      {
                        "test": [
                          0.8831168831,
                          0.3324996156
                        ],
                        "passed_time": 12.49117353,
                        "iteration": 299,
                        "remaining_time": 195.6950519,
                        "learn": [
                          1,
                          0.005769703123
                        ]
                      },
                      {
                        "test": [
                          0.8831168831,
                          0.3321610488
                        ],
                        "passed_time": 12.53240457,
                        "iteration": 300,
                        "remaining_time": 195.6470733,
                        "learn": [
                          1,
                          0.005765104605
                        ]
                      },
                      {
                        "test": [
                          0.8831168831,
                          0.3318571115
                        ],
                        "passed_time": 12.58156108,
                        "iteration": 301,
                        "remaining_time": 195.7224304,
                        "learn": [
                          1,
                          0.005761545078
                        ]
                      },
                      {
                        "test": [
                          0.8831168831,
                          0.332000782
                        ],
                        "passed_time": 12.63226102,
                        "iteration": 302,
                        "remaining_time": 195.8208911,
                        "learn": [
                          1,
                          0.005748672423
                        ]
                      },
                      {
                        "test": [
                          0.8831168831,
                          0.331841506
                        ],
                        "passed_time": 12.67031289,
                        "iteration": 303,
                        "remaining_time": 195.7229913,
                        "learn": [
                          1,
                          0.00574136131
                        ]
                      },
                      {
                        "test": [
                          0.8831168831,
                          0.3325870563
                        ],
                        "passed_time": 12.70829841,
                        "iteration": 304,
                        "remaining_time": 195.6244624,
                        "learn": [
                          1,
                          0.005729901245
                        ]
                      },
                      {
                        "test": [
                          0.8831168831,
                          0.3322472758
                        ],
                        "passed_time": 12.7521709,
                        "iteration": 305,
                        "remaining_time": 195.6166347,
                        "learn": [
                          1,
                          0.005719449785
                        ]
                      },
                      {
                        "test": [
                          0.8831168831,
                          0.3323637727
                        ],
                        "passed_time": 12.79172872,
                        "iteration": 306,
                        "remaining_time": 195.5426153,
                        "learn": [
                          1,
                          0.005710486493
                        ]
                      },
                      {
                        "test": [
                          0.8831168831,
                          0.3323075431
                        ],
                        "passed_time": 12.82971401,
                        "iteration": 307,
                        "remaining_time": 195.444864,
                        "learn": [
                          1,
                          0.005707167722
                        ]
                      },
                      {
                        "test": [
                          0.8831168831,
                          0.3329746197
                        ],
                        "passed_time": 12.87808053,
                        "iteration": 308,
                        "remaining_time": 195.5050996,
                        "learn": [
                          1,
                          0.005689560198
                        ]
                      },
                      {
                        "test": [
                          0.8831168831,
                          0.3328983257
                        ],
                        "passed_time": 12.92576506,
                        "iteration": 309,
                        "remaining_time": 195.5543166,
                        "learn": [
                          1,
                          0.005684820266
                        ]
                      },
                      {
                        "test": [
                          0.8831168831,
                          0.3330176217
                        ],
                        "passed_time": 12.96396305,
                        "iteration": 310,
                        "remaining_time": 195.4598803,
                        "learn": [
                          1,
                          0.005679425461
                        ]
                      },
                      {
                        "test": [
                          0.8831168831,
                          0.3339567804
                        ],
                        "passed_time": 13.00193398,
                        "iteration": 311,
                        "remaining_time": 195.3623926,
                        "learn": [
                          1,
                          0.005658409175
                        ]
                      },
                      {
                        "test": [
                          0.8831168831,
                          0.3337355279
                        ],
                        "passed_time": 13.0395993,
                        "iteration": 312,
                        "remaining_time": 195.260709,
                        "learn": [
                          1,
                          0.005653476793
                        ]
                      },
                      {
                        "test": [
                          0.8831168831,
                          0.3337420922
                        ],
                        "passed_time": 13.07752842,
                        "iteration": 313,
                        "remaining_time": 195.1633701,
                        "learn": [
                          1,
                          0.005651272979
                        ]
                      },
                      {
                        "test": [
                          0.8831168831,
                          0.3344122156
                        ],
                        "passed_time": 13.11648229,
                        "iteration": 314,
                        "remaining_time": 195.0816493,
                        "learn": [
                          1,
                          0.005483118148
                        ]
                      },
                      {
                        "test": [
                          0.8831168831,
                          0.334820735
                        ],
                        "passed_time": 13.15387165,
                        "iteration": 315,
                        "remaining_time": 194.9770089,
                        "learn": [
                          1,
                          0.00547761699
                        ]
                      },
                      {
                        "test": [
                          0.8831168831,
                          0.3350108506
                        ],
                        "passed_time": 13.1968725,
                        "iteration": 316,
                        "remaining_time": 194.9556906,
                        "learn": [
                          1,
                          0.005472834593
                        ]
                      },
                      {
                        "test": [
                          0.8831168831,
                          0.3338000558
                        ],
                        "passed_time": 13.23559084,
                        "iteration": 317,
                        "remaining_time": 194.8711834,
                        "learn": [
                          1,
                          0.005460583696
                        ]
                      },
                      {
                        "test": [
                          0.8831168831,
                          0.3337038214
                        ],
                        "passed_time": 13.27353551,
                        "iteration": 318,
                        "remaining_time": 194.7756104,
                        "learn": [
                          1,
                          0.005454582327
                        ]
                      },
                      {
                        "test": [
                          0.8831168831,
                          0.3331489811
                        ],
                        "passed_time": 13.31641148,
                        "iteration": 319,
                        "remaining_time": 194.7525179,
                        "learn": [
                          1,
                          0.005445737075
                        ]
                      },
                      {
                        "test": [
                          0.8831168831,
                          0.3333128892
                        ],
                        "passed_time": 13.35518198,
                        "iteration": 320,
                        "remaining_time": 194.6694594,
                        "learn": [
                          1,
                          0.005440468102
                        ]
                      },
                      {
                        "test": [
                          0.8831168831,
                          0.332926069
                        ],
                        "passed_time": 13.39337128,
                        "iteration": 321,
                        "remaining_time": 194.5782325,
                        "learn": [
                          1,
                          0.005428846755
                        ]
                      },
                      {
                        "test": [
                          0.8831168831,
                          0.3333533151
                        ],
                        "passed_time": 13.43315997,
                        "iteration": 322,
                        "remaining_time": 194.5104928,
                        "learn": [
                          1,
                          0.005422410233
                        ]
                      },
                      {
                        "test": [
                          0.8831168831,
                          0.3331715472
                        ],
                        "passed_time": 13.47978865,
                        "iteration": 323,
                        "remaining_time": 194.5416411,
                        "learn": [
                          1,
                          0.005403285323
                        ]
                      },
                      {
                        "test": [
                          0.8831168831,
                          0.333000629
                        ],
                        "passed_time": 13.52180103,
                        "iteration": 324,
                        "remaining_time": 194.5059072,
                        "learn": [
                          1,
                          0.005256458825
                        ]
                      },
                      {
                        "test": [
                          0.8831168831,
                          0.3328381576
                        ],
                        "passed_time": 13.57417418,
                        "iteration": 325,
                        "remaining_time": 194.6186813,
                        "learn": [
                          1,
                          0.005251199202
                        ]
                      },
                      {
                        "test": [
                          0.8831168831,
                          0.332448885
                        ],
                        "passed_time": 13.61253509,
                        "iteration": 326,
                        "remaining_time": 194.5302033,
                        "learn": [
                          1,
                          0.005246897149
                        ]
                      },
                      {
                        "test": [
                          0.8831168831,
                          0.3324415529
                        ],
                        "passed_time": 13.6520586,
                        "iteration": 327,
                        "remaining_time": 194.4585908,
                        "learn": [
                          1,
                          0.005244495432
                        ]
                      },
                      {
                        "test": [
                          0.8831168831,
                          0.3323146523
                        ],
                        "passed_time": 13.69157588,
                        "iteration": 328,
                        "remaining_time": 194.3870849,
                        "learn": [
                          1,
                          0.005242186824
                        ]
                      },
                      {
                        "test": [
                          0.8831168831,
                          0.3319964223
                        ],
                        "passed_time": 13.73369158,
                        "iteration": 329,
                        "remaining_time": 194.3525444,
                        "learn": [
                          1,
                          0.005238124358
                        ]
                      },
                      {
                        "test": [
                          0.8831168831,
                          0.3320491097
                        ],
                        "passed_time": 13.77267399,
                        "iteration": 330,
                        "remaining_time": 194.2737609,
                        "learn": [
                          1,
                          0.005225721528
                        ]
                      },
                      {
                        "test": [
                          0.8831168831,
                          0.3327504938
                        ],
                        "passed_time": 13.81297082,
                        "iteration": 331,
                        "remaining_time": 194.2136982,
                        "learn": [
                          1,
                          0.005219042301
                        ]
                      },
                      {
                        "test": [
                          0.8831168831,
                          0.3327887894
                        ],
                        "passed_time": 13.85179494,
                        "iteration": 332,
                        "remaining_time": 194.1331141,
                        "learn": [
                          1,
                          0.005216842383
                        ]
                      },
                      {
                        "test": [
                          0.8831168831,
                          0.3325807646
                        ],
                        "passed_time": 13.89124607,
                        "iteration": 333,
                        "remaining_time": 194.0615393,
                        "learn": [
                          1,
                          0.005214280552
                        ]
                      },
                      {
                        "test": [
                          0.8831168831,
                          0.3324416272
                        ],
                        "passed_time": 13.95261698,
                        "iteration": 334,
                        "remaining_time": 194.2953976,
                        "learn": [
                          1,
                          0.005206753226
                        ]
                      },
                      {
                        "test": [
                          0.8831168831,
                          0.3306710875
                        ],
                        "passed_time": 13.99750733,
                        "iteration": 335,
                        "remaining_time": 194.2987326,
                        "learn": [
                          1,
                          0.005171865809
                        ]
                      },
                      {
                        "test": [
                          0.8831168831,
                          0.3323130422
                        ],
                        "passed_time": 14.03656686,
                        "iteration": 336,
                        "remaining_time": 194.2211017,
                        "learn": [
                          1,
                          0.005152191212
                        ]
                      },
                      {
                        "test": [
                          0.8831168831,
                          0.3330524494
                        ],
                        "passed_time": 14.07511473,
                        "iteration": 337,
                        "remaining_time": 194.1366416,
                        "learn": [
                          1,
                          0.005145157474
                        ]
                      },
                      {
                        "test": [
                          0.8831168831,
                          0.3332474201
                        ],
                        "passed_time": 14.11471742,
                        "iteration": 338,
                        "remaining_time": 194.0669554,
                        "learn": [
                          1,
                          0.005137534703
                        ]
                      },
                      {
                        "test": [
                          0.8831168831,
                          0.3329864601
                        ],
                        "passed_time": 14.15374984,
                        "iteration": 339,
                        "remaining_time": 193.9896301,
                        "learn": [
                          1,
                          0.00513387973
                        ]
                      },
                      {
                        "test": [
                          0.8831168831,
                          0.3327790297
                        ],
                        "passed_time": 14.19227073,
                        "iteration": 340,
                        "remaining_time": 193.9055406,
                        "learn": [
                          1,
                          0.005124886831
                        ]
                      },
                      {
                        "test": [
                          0.8831168831,
                          0.3355094117
                        ],
                        "passed_time": 14.234528,
                        "iteration": 341,
                        "remaining_time": 193.8726065,
                        "learn": [
                          1,
                          0.005069375817
                        ]
                      },
                      {
                        "test": [
                          0.8831168831,
                          0.338793544
                        ],
                        "passed_time": 14.27356043,
                        "iteration": 342,
                        "remaining_time": 193.7958336,
                        "learn": [
                          1,
                          0.004789333328
                        ]
                      },
                      {
                        "test": [
                          0.8831168831,
                          0.3386482883
                        ],
                        "passed_time": 14.31220622,
                        "iteration": 343,
                        "remaining_time": 193.714047,
                        "learn": [
                          1,
                          0.004785469544
                        ]
                      },
                      {
                        "test": [
                          0.8831168831,
                          0.3386899279
                        ],
                        "passed_time": 14.35338241,
                        "iteration": 344,
                        "remaining_time": 193.6666525,
                        "learn": [
                          1,
                          0.004778038443
                        ]
                      },
                      {
                        "test": [
                          0.8831168831,
                          0.3378109622
                        ],
                        "passed_time": 14.39266744,
                        "iteration": 345,
                        "remaining_time": 193.5938562,
                        "learn": [
                          1,
                          0.004773322274
                        ]
                      },
                      {
                        "test": [
                          0.8831168831,
                          0.3376414807
                        ],
                        "passed_time": 14.43135242,
                        "iteration": 346,
                        "remaining_time": 193.513207,
                        "learn": [
                          1,
                          0.004771367397
                        ]
                      },
                      {
                        "test": [
                          0.8831168831,
                          0.3361100036
                        ],
                        "passed_time": 14.47088286,
                        "iteration": 347,
                        "remaining_time": 193.4441008,
                        "learn": [
                          1,
                          0.004692581744
                        ]
                      },
                      {
                        "test": [
                          0.8831168831,
                          0.3364859742
                        ],
                        "passed_time": 14.51248742,
                        "iteration": 348,
                        "remaining_time": 193.4028051,
                        "learn": [
                          1,
                          0.004680859887
                        ]
                      },
                      {
                        "test": [
                          0.8831168831,
                          0.336212505
                        ],
                        "passed_time": 14.55086428,
                        "iteration": 349,
                        "remaining_time": 193.3186255,
                        "learn": [
                          1,
                          0.004678916308
                        ]
                      },
                      {
                        "test": [
                          0.8831168831,
                          0.3357385412
                        ],
                        "passed_time": 14.60466577,
                        "iteration": 350,
                        "remaining_time": 193.4390062,
                        "learn": [
                          1,
                          0.004677067785
                        ]
                      },
                      {
                        "test": [
                          0.8831168831,
                          0.3356222425
                        ],
                        "passed_time": 14.64373546,
                        "iteration": 351,
                        "remaining_time": 193.3638706,
                        "learn": [
                          1,
                          0.004676511475
                        ]
                      },
                      {
                        "test": [
                          0.8831168831,
                          0.3353740147
                        ],
                        "passed_time": 14.69295023,
                        "iteration": 352,
                        "remaining_time": 193.4224921,
                        "learn": [
                          1,
                          0.004671530786
                        ]
                      },
                      {
                        "test": [
                          0.8831168831,
                          0.335520187
                        ],
                        "passed_time": 14.7341626,
                        "iteration": 353,
                        "remaining_time": 193.3754786,
                        "learn": [
                          1,
                          0.004670372196
                        ]
                      },
                      {
                        "test": [
                          0.8831168831,
                          0.3358980402
                        ],
                        "passed_time": 14.77444692,
                        "iteration": 354,
                        "remaining_time": 193.3163547,
                        "learn": [
                          1,
                          0.004660627032
                        ]
                      },
                      {
                        "test": [
                          0.8831168831,
                          0.3357821626
                        ],
                        "passed_time": 14.81483055,
                        "iteration": 355,
                        "remaining_time": 193.2586323,
                        "learn": [
                          1,
                          0.004656564566
                        ]
                      },
                      {
                        "test": [
                          0.8831168831,
                          0.3350824133
                        ],
                        "passed_time": 14.85315876,
                        "iteration": 356,
                        "remaining_time": 193.1742749,
                        "learn": [
                          1,
                          0.004640493518
                        ]
                      },
                      {
                        "test": [
                          0.8831168831,
                          0.3363141642
                        ],
                        "passed_time": 14.89301898,
                        "iteration": 357,
                        "remaining_time": 193.1100394,
                        "learn": [
                          1,
                          0.004622328515
                        ]
                      },
                      {
                        "test": [
                          0.8831168831,
                          0.3368684348
                        ],
                        "passed_time": 14.93304125,
                        "iteration": 358,
                        "remaining_time": 193.0480347,
                        "learn": [
                          1,
                          0.00461703422
                        ]
                      },
                      {
                        "test": [
                          0.8831168831,
                          0.3368164162
                        ],
                        "passed_time": 14.99182517,
                        "iteration": 359,
                        "remaining_time": 193.2279689,
                        "learn": [
                          1,
                          0.004615359447
                        ]
                      },
                      {
                        "test": [
                          0.8831168831,
                          0.3371866895
                        ],
                        "passed_time": 15.04713244,
                        "iteration": 360,
                        "remaining_time": 193.3619042,
                        "learn": [
                          1,
                          0.0045918086
                        ]
                      },
                      {
                        "test": [
                          0.8831168831,
                          0.3382752158
                        ],
                        "passed_time": 15.08541017,
                        "iteration": 361,
                        "remaining_time": 193.2766087,
                        "learn": [
                          1,
                          0.004575475369
                        ]
                      },
                      {
                        "test": [
                          0.8831168831,
                          0.3382497267
                        ],
                        "passed_time": 15.12776685,
                        "iteration": 362,
                        "remaining_time": 193.2436774,
                        "learn": [
                          1,
                          0.004573560618
                        ]
                      },
                      {
                        "test": [
                          0.8831168831,
                          0.3386246074
                        ],
                        "passed_time": 15.16749193,
                        "iteration": 363,
                        "remaining_time": 193.1771774,
                        "learn": [
                          1,
                          0.004566701409
                        ]
                      },
                      {
                        "test": [
                          0.8831168831,
                          0.3388614407
                        ],
                        "passed_time": 15.20593634,
                        "iteration": 364,
                        "remaining_time": 193.0945615,
                        "learn": [
                          1,
                          0.004543020834
                        ]
                      },
                      {
                        "test": [
                          0.8831168831,
                          0.3402246252
                        ],
                        "passed_time": 15.24475915,
                        "iteration": 365,
                        "remaining_time": 193.0169779,
                        "learn": [
                          1,
                          0.004529735232
                        ]
                      },
                      {
                        "test": [
                          0.8831168831,
                          0.3397028539
                        ],
                        "passed_time": 15.2837454,
                        "iteration": 366,
                        "remaining_time": 192.9416688,
                        "learn": [
                          1,
                          0.004527148858
                        ]
                      },
                      {
                        "test": [
                          0.8831168831,
                          0.3404661649
                        ],
                        "passed_time": 15.32310832,
                        "iteration": 367,
                        "remaining_time": 192.8712983,
                        "learn": [
                          1,
                          0.004319958048
                        ]
                      },
                      {
                        "test": [
                          0.8831168831,
                          0.3404449612
                        ],
                        "passed_time": 15.36188246,
                        "iteration": 368,
                        "remaining_time": 192.7937065,
                        "learn": [
                          1,
                          0.004313884997
                        ]
                      },
                      {
                        "test": [
                          0.8831168831,
                          0.3405290827
                        ],
                        "passed_time": 15.40078477,
                        "iteration": 369,
                        "remaining_time": 192.7179283,
                        "learn": [
                          1,
                          0.00431224022
                        ]
                      },
                      {
                        "test": [
                          0.8831168831,
                          0.3407838004
                        ],
                        "passed_time": 15.43995748,
                        "iteration": 370,
                        "remaining_time": 192.6457228,
                        "learn": [
                          1,
                          0.004307541972
                        ]
                      },
                      {
                        "test": [
                          0.8831168831,
                          0.3409421351
                        ],
                        "passed_time": 15.47869629,
                        "iteration": 371,
                        "remaining_time": 192.5682968,
                        "learn": [
                          1,
                          0.004305048706
                        ]
                      },
                      {
                        "test": [
                          0.8831168831,
                          0.3408716375
                        ],
                        "passed_time": 15.5220164,
                        "iteration": 372,
                        "remaining_time": 192.5479086,
                        "learn": [
                          1,
                          0.004303672734
                        ]
                      },
                      {
                        "test": [
                          0.8831168831,
                          0.3398990383
                        ],
                        "passed_time": 15.56084162,
                        "iteration": 373,
                        "remaining_time": 192.4718004,
                        "learn": [
                          1,
                          0.004248839967
                        ]
                      },
                      {
                        "test": [
                          0.8831168831,
                          0.3405906875
                        ],
                        "passed_time": 15.6076741,
                        "iteration": 374,
                        "remaining_time": 192.4946472,
                        "learn": [
                          1,
                          0.004236414152
                        ]
                      },
                      {
                        "test": [
                          0.8831168831,
                          0.339870007
                        ],
                        "passed_time": 15.64623367,
                        "iteration": 375,
                        "remaining_time": 192.4153843,
                        "learn": [
                          1,
                          0.004233286272
                        ]
                      },
                      {
                        "test": [
                          0.8831168831,
                          0.3400981953
                        ],
                        "passed_time": 15.68517083,
                        "iteration": 376,
                        "remaining_time": 192.3409675,
                        "learn": [
                          1,
                          0.004223518122
                        ]
                      },
                      {
                        "test": [
                          0.8831168831,
                          0.3397217292
                        ],
                        "passed_time": 15.72401685,
                        "iteration": 377,
                        "remaining_time": 192.265624,
                        "learn": [
                          1,
                          0.004217433774
                        ]
                      },
                      {
                        "test": [
                          0.8831168831,
                          0.3396448903
                        ],
                        "passed_time": 15.7621369,
                        "iteration": 378,
                        "remaining_time": 192.1816217,
                        "learn": [
                          1,
                          0.004215876261
                        ]
                      },
                      {
                        "test": [
                          0.8831168831,
                          0.3395841772
                        ],
                        "passed_time": 15.80235441,
                        "iteration": 379,
                        "remaining_time": 192.1233615,
                        "learn": [
                          1,
                          0.00421433628
                        ]
                      },
                      {
                        "test": [
                          0.8831168831,
                          0.3393281714
                        ],
                        "passed_time": 15.84056982,
                        "iteration": 380,
                        "remaining_time": 192.0409239,
                        "learn": [
                          1,
                          0.00421009578
                        ]
                      },
                      {
                        "test": [
                          0.8831168831,
                          0.3398067673
                        ],
                        "passed_time": 15.8786474,
                        "iteration": 381,
                        "remaining_time": 191.9570516,
                        "learn": [
                          1,
                          0.004208088311
                        ]
                      },
                      {
                        "test": [
                          0.8831168831,
                          0.3397014915
                        ],
                        "passed_time": 15.91697198,
                        "iteration": 382,
                        "remaining_time": 191.876396,
                        "learn": [
                          1,
                          0.004207288518
                        ]
                      },
                      {
                        "test": [
                          0.8831168831,
                          0.3405800361
                        ],
                        "passed_time": 15.9559691,
                        "iteration": 383,
                        "remaining_time": 191.8040453,
                        "learn": [
                          1,
                          0.004171270171
                        ]
                      },
                      {
                        "test": [
                          0.8831168831,
                          0.3413254874
                        ],
                        "passed_time": 16.00193223,
                        "iteration": 384,
                        "remaining_time": 191.8153694,
                        "learn": [
                          1,
                          0.004165919778
                        ]
                      },
                      {
                        "test": [
                          0.8831168831,
                          0.3408971514
                        ],
                        "passed_time": 16.07815716,
                        "iteration": 385,
                        "remaining_time": 192.1881273,
                        "learn": [
                          1,
                          0.004163582341
                        ]
                      },
                      {
                        "test": [
                          0.8831168831,
                          0.3408610356
                        ],
                        "passed_time": 16.11701119,
                        "iteration": 386,
                        "remaining_time": 192.1131076,
                        "learn": [
                          1,
                          0.004161690575
                        ]
                      },
                      {
                        "test": [
                          0.8831168831,
                          0.3393934176
                        ],
                        "passed_time": 16.15558773,
                        "iteration": 387,
                        "remaining_time": 192.0349758,
                        "learn": [
                          1,
                          0.004139182614
                        ]
                      },
                      {
                        "test": [
                          0.8831168831,
                          0.3408458759
                        ],
                        "passed_time": 16.19317993,
                        "iteration": 388,
                        "remaining_time": 191.9453796,
                        "learn": [
                          1,
                          0.004122862629
                        ]
                      },
                      {
                        "test": [
                          0.8831168831,
                          0.3412357677
                        ],
                        "passed_time": 16.23136832,
                        "iteration": 389,
                        "remaining_time": 191.8630974,
                        "learn": [
                          1,
                          0.004118686798
                        ]
                      },
                      {
                        "test": [
                          0.8831168831,
                          0.3410558329
                        ],
                        "passed_time": 16.26904751,
                        "iteration": 390,
                        "remaining_time": 191.7750383,
                        "learn": [
                          1,
                          0.004117447566
                        ]
                      },
                      {
                        "test": [
                          0.8831168831,
                          0.3409317314
                        ],
                        "passed_time": 16.30743112,
                        "iteration": 391,
                        "remaining_time": 191.6955168,
                        "learn": [
                          1,
                          0.004106758077
                        ]
                      },
                      {
                        "test": [
                          0.8831168831,
                          0.3411056221
                        ],
                        "passed_time": 16.34623824,
                        "iteration": 392,
                        "remaining_time": 191.6211694,
                        "learn": [
                          1,
                          0.004105999579
                        ]
                      },
                      {
                        "test": [
                          0.8831168831,
                          0.341116447
                        ],
                        "passed_time": 16.38537546,
                        "iteration": 393,
                        "remaining_time": 191.5508613,
                        "learn": [
                          1,
                          0.004097185493
                        ]
                      },
                      {
                        "test": [
                          0.8831168831,
                          0.3408055987
                        ],
                        "passed_time": 16.42384505,
                        "iteration": 394,
                        "remaining_time": 191.4729278,
                        "learn": [
                          1,
                          0.004094869872
                        ]
                      },
                      {
                        "test": [
                          0.8831168831,
                          0.3417588271
                        ],
                        "passed_time": 16.46275385,
                        "iteration": 395,
                        "remaining_time": 191.4002998,
                        "learn": [
                          1,
                          0.004089563501
                        ]
                      },
                      {
                        "test": [
                          0.8831168831,
                          0.3415195663
                        ],
                        "passed_time": 16.50321241,
                        "iteration": 396,
                        "remaining_time": 191.3458104,
                        "learn": [
                          1,
                          0.004083241902
                        ]
                      },
                      {
                        "test": [
                          0.8831168831,
                          0.3391596311
                        ],
                        "passed_time": 16.54746597,
                        "iteration": 397,
                        "remaining_time": 191.3352724,
                        "learn": [
                          1,
                          0.004058362612
                        ]
                      },
                      {
                        "test": [
                          0.8831168831,
                          0.339663617
                        ],
                        "passed_time": 16.585697,
                        "iteration": 398,
                        "remaining_time": 191.2551175,
                        "learn": [
                          1,
                          0.004048788859
                        ]
                      },
                      {
                        "test": [
                          0.8961038961,
                          0.3404225436
                        ],
                        "passed_time": 16.63322387,
                        "iteration": 399,
                        "remaining_time": 191.2820745,
                        "learn": [
                          1,
                          0.004043383536
                        ]
                      },
                      {
                        "test": [
                          0.8961038961,
                          0.3405947995
                        ],
                        "passed_time": 16.67179871,
                        "iteration": 400,
                        "remaining_time": 191.2059907,
                        "learn": [
                          1,
                          0.004040338245
                        ]
                      },
                      {
                        "test": [
                          0.8961038961,
                          0.3391873248
                        ],
                        "passed_time": 16.71062737,
                        "iteration": 401,
                        "remaining_time": 191.1329967,
                        "learn": [
                          1,
                          0.004033163482
                        ]
                      },
                      {
                        "test": [
                          0.8961038961,
                          0.3394970584
                        ],
                        "passed_time": 16.74951672,
                        "iteration": 402,
                        "remaining_time": 191.0608645,
                        "learn": [
                          1,
                          0.004031188348
                        ]
                      },
                      {
                        "test": [
                          0.9090909091,
                          0.3390347865
                        ],
                        "passed_time": 16.79357576,
                        "iteration": 403,
                        "remaining_time": 191.0477084,
                        "learn": [
                          1,
                          0.00397681255
                        ]
                      },
                      {
                        "test": [
                          0.9090909091,
                          0.3395618587
                        ],
                        "passed_time": 16.8325354,
                        "iteration": 404,
                        "remaining_time": 190.9765437,
                        "learn": [
                          1,
                          0.003965689466
                        ]
                      },
                      {
                        "test": [
                          0.9090909091,
                          0.3386235175
                        ],
                        "passed_time": 16.8707027,
                        "iteration": 405,
                        "remaining_time": 190.8965719,
                        "learn": [
                          1,
                          0.00395735884
                        ]
                      },
                      {
                        "test": [
                          0.9090909091,
                          0.3391443971
                        ],
                        "passed_time": 16.91517014,
                        "iteration": 406,
                        "remaining_time": 190.8879029,
                        "learn": [
                          1,
                          0.003954898688
                        ]
                      },
                      {
                        "test": [
                          0.9090909091,
                          0.3397090961
                        ],
                        "passed_time": 16.95402509,
                        "iteration": 407,
                        "remaining_time": 190.8158903,
                        "learn": [
                          1,
                          0.003948937055
                        ]
                      },
                      {
                        "test": [
                          0.9090909091,
                          0.3408886798
                        ],
                        "passed_time": 16.992435,
                        "iteration": 408,
                        "remaining_time": 190.7390442,
                        "learn": [
                          1,
                          0.003937948763
                        ]
                      },
                      {
                        "test": [
                          0.9090909091,
                          0.3402719374
                        ],
                        "passed_time": 17.03958704,
                        "iteration": 409,
                        "remaining_time": 190.7602549,
                        "learn": [
                          1,
                          0.003927940637
                        ]
                      },
                      {
                        "test": [
                          0.9090909091,
                          0.3406860054
                        ],
                        "passed_time": 17.08937313,
                        "iteration": 410,
                        "remaining_time": 190.8105433,
                        "learn": [
                          1,
                          0.003900065142
                        ]
                      },
                      {
                        "test": [
                          0.9090909091,
                          0.3410397814
                        ],
                        "passed_time": 17.13976245,
                        "iteration": 411,
                        "remaining_time": 190.8670634,
                        "learn": [
                          1,
                          0.003897426175
                        ]
                      },
                      {
                        "test": [
                          0.9090909091,
                          0.341446666
                        ],
                        "passed_time": 17.17790821,
                        "iteration": 412,
                        "remaining_time": 190.7870822,
                        "learn": [
                          1,
                          0.003890282188
                        ]
                      },
                      {
                        "test": [
                          0.9090909091,
                          0.3401978728
                        ],
                        "passed_time": 17.22804073,
                        "iteration": 413,
                        "remaining_time": 190.8400841,
                        "learn": [
                          1,
                          0.003870110886
                        ]
                      },
                      {
                        "test": [
                          0.9090909091,
                          0.3402905402
                        ],
                        "passed_time": 17.26728672,
                        "iteration": 414,
                        "remaining_time": 190.7723123,
                        "learn": [
                          1,
                          0.003867009496
                        ]
                      },
                      {
                        "test": [
                          0.9090909091,
                          0.3403564057
                        ],
                        "passed_time": 17.30691496,
                        "iteration": 415,
                        "remaining_time": 190.7088898,
                        "learn": [
                          1,
                          0.003865844674
                        ]
                      },
                      {
                        "test": [
                          0.9090909091,
                          0.3404574704
                        ],
                        "passed_time": 17.34615815,
                        "iteration": 416,
                        "remaining_time": 190.6413496,
                        "learn": [
                          1,
                          0.003863405558
                        ]
                      },
                      {
                        "test": [
                          0.9090909091,
                          0.3398176416
                        ],
                        "passed_time": 17.3857482,
                        "iteration": 417,
                        "remaining_time": 190.5777471,
                        "learn": [
                          1,
                          0.003855930045
                        ]
                      },
                      {
                        "test": [
                          0.9090909091,
                          0.3404889045
                        ],
                        "passed_time": 17.42502384,
                        "iteration": 418,
                        "remaining_time": 190.5108215,
                        "learn": [
                          1,
                          0.003814762324
                        ]
                      },
                      {
                        "test": [
                          0.9090909091,
                          0.3412346283
                        ],
                        "passed_time": 17.4637096,
                        "iteration": 419,
                        "remaining_time": 190.4375951,
                        "learn": [
                          1,
                          0.003811994409
                        ]
                      },
                      {
                        "test": [
                          0.8961038961,
                          0.3412263053
                        ],
                        "passed_time": 17.50500501,
                        "iteration": 420,
                        "remaining_time": 190.3929167,
                        "learn": [
                          1,
                          0.003809785531
                        ]
                      },
                      {
                        "test": [
                          0.9090909091,
                          0.3413300205
                        ],
                        "passed_time": 17.54358482,
                        "iteration": 421,
                        "remaining_time": 190.3187946,
                        "learn": [
                          1,
                          0.003808287234
                        ]
                      },
                      {
                        "test": [
                          0.9090909091,
                          0.3409331185
                        ],
                        "passed_time": 17.58229146,
                        "iteration": 422,
                        "remaining_time": 190.2462128,
                        "learn": [
                          1,
                          0.00380571917
                        ]
                      },
                      {
                        "test": [
                          0.8961038961,
                          0.3408059455
                        ],
                        "passed_time": 17.63161806,
                        "iteration": 423,
                        "remaining_time": 190.2884063,
                        "learn": [
                          1,
                          0.003802595575
                        ]
                      },
                      {
                        "test": [
                          0.9090909091,
                          0.3414941763
                        ],
                        "passed_time": 17.67157611,
                        "iteration": 424,
                        "remaining_time": 190.2293193,
                        "learn": [
                          1,
                          0.003798337544
                        ]
                      },
                      {
                        "test": [
                          0.9090909091,
                          0.3417573161
                        ],
                        "passed_time": 17.71020639,
                        "iteration": 425,
                        "remaining_time": 190.1560658,
                        "learn": [
                          1,
                          0.00379734725
                        ]
                      },
                      {
                        "test": [
                          0.9090909091,
                          0.3404782283
                        ],
                        "passed_time": 17.74905985,
                        "iteration": 426,
                        "remaining_time": 190.0853646,
                        "learn": [
                          1,
                          0.00378905636
                        ]
                      },
                      {
                        "test": [
                          0.9090909091,
                          0.3404775347
                        ],
                        "passed_time": 17.79105809,
                        "iteration": 427,
                        "remaining_time": 190.0484056,
                        "learn": [
                          1,
                          0.003782339345
                        ]
                      },
                      {
                        "test": [
                          0.8961038961,
                          0.3402923485
                        ],
                        "passed_time": 17.82979623,
                        "iteration": 428,
                        "remaining_time": 189.9766867,
                        "learn": [
                          1,
                          0.003779246137
                        ]
                      },
                      {
                        "test": [
                          0.9090909091,
                          0.3412126814
                        ],
                        "passed_time": 17.86868345,
                        "iteration": 429,
                        "remaining_time": 189.9067055,
                        "learn": [
                          1,
                          0.003771351443
                        ]
                      },
                      {
                        "test": [
                          0.9090909091,
                          0.3424353661
                        ],
                        "passed_time": 17.9068327,
                        "iteration": 430,
                        "remaining_time": 189.8290455,
                        "learn": [
                          1,
                          0.003761276311
                        ]
                      },
                      {
                        "test": [
                          0.9090909091,
                          0.3424793838
                        ],
                        "passed_time": 17.94530963,
                        "iteration": 431,
                        "remaining_time": 189.7550333,
                        "learn": [
                          1,
                          0.003755218063
                        ]
                      },
                      {
                        "test": [
                          0.9090909091,
                          0.3456635909
                        ],
                        "passed_time": 17.99387428,
                        "iteration": 432,
                        "remaining_time": 189.787584,
                        "learn": [
                          1,
                          0.003650979279
                        ]
                      },
                      {
                        "test": [
                          0.9090909091,
                          0.3458587845
                        ],
                        "passed_time": 18.03264173,
                        "iteration": 433,
                        "remaining_time": 189.716687,
                        "learn": [
                          1,
                          0.003646397902
                        ]
                      },
                      {
                        "test": [
                          0.9090909091,
                          0.3457285398
                        ],
                        "passed_time": 18.07097383,
                        "iteration": 434,
                        "remaining_time": 189.641369,
                        "learn": [
                          1,
                          0.003643398971
                        ]
                      },
                      {
                        "test": [
                          0.9090909091,
                          0.3456405788
                        ],
                        "passed_time": 18.11796013,
                        "iteration": 435,
                        "remaining_time": 189.656812,
                        "learn": [
                          1,
                          0.003642240381
                        ]
                      },
                      {
                        "test": [
                          0.9090909091,
                          0.3456569523
                        ],
                        "passed_time": 18.15775327,
                        "iteration": 436,
                        "remaining_time": 189.5968608,
                        "learn": [
                          1,
                          0.003640027607
                        ]
                      },
                      {
                        "test": [
                          0.9090909091,
                          0.346250757
                        ],
                        "passed_time": 18.21077151,
                        "iteration": 437,
                        "remaining_time": 189.674748,
                        "learn": [
                          1,
                          0.003623433752
                        ]
                      },
                      {
                        "test": [
                          0.9090909091,
                          0.3450095932
                        ],
                        "passed_time": 18.24964808,
                        "iteration": 438,
                        "remaining_time": 189.6051136,
                        "learn": [
                          1,
                          0.003617258243
                        ]
                      },
                      {
                        "test": [
                          0.9090909091,
                          0.3452957946
                        ],
                        "passed_time": 18.28851132,
                        "iteration": 439,
                        "remaining_time": 189.535481,
                        "learn": [
                          1,
                          0.003613675731
                        ]
                      },
                      {
                        "test": [
                          0.9090909091,
                          0.3451236378
                        ],
                        "passed_time": 18.32699289,
                        "iteration": 440,
                        "remaining_time": 189.4620422,
                        "learn": [
                          1,
                          0.00361051279
                        ]
                      },
                      {
                        "test": [
                          0.8961038961,
                          0.3456316861
                        ],
                        "passed_time": 18.36535452,
                        "iteration": 441,
                        "remaining_time": 189.3875247,
                        "learn": [
                          1,
                          0.003605006957
                        ]
                      },
                      {
                        "test": [
                          0.8961038961,
                          0.3453312663
                        ],
                        "passed_time": 18.40504445,
                        "iteration": 442,
                        "remaining_time": 189.3268342,
                        "learn": [
                          1,
                          0.003603295563
                        ]
                      },
                      {
                        "test": [
                          0.8961038961,
                          0.3453794207
                        ],
                        "passed_time": 18.44358839,
                        "iteration": 443,
                        "remaining_time": 189.2544791,
                        "learn": [
                          1,
                          0.003601201219
                        ]
                      },
                      {
                        "test": [
                          0.8961038961,
                          0.3448189079
                        ],
                        "passed_time": 18.48179481,
                        "iteration": 444,
                        "remaining_time": 189.178821,
                        "learn": [
                          1,
                          0.003598536541
                        ]
                      },
                      {
                        "test": [
                          0.8961038961,
                          0.3447500947
                        ],
                        "passed_time": 18.52333226,
                        "iteration": 445,
                        "remaining_time": 189.1373433,
                        "learn": [
                          1,
                          0.003594920526
                        ]
                      },
                      {
                        "test": [
                          0.8961038961,
                          0.3445220551
                        ],
                        "passed_time": 18.56132775,
                        "iteration": 446,
                        "remaining_time": 189.059788,
                        "learn": [
                          1,
                          0.003593778688
                        ]
                      },
                      {
                        "test": [
                          0.8961038961,
                          0.3437624845
                        ],
                        "passed_time": 18.59926169,
                        "iteration": 447,
                        "remaining_time": 188.981784,
                        "learn": [
                          1,
                          0.003588801116
                        ]
                      },
                      {
                        "test": [
                          0.8961038961,
                          0.3441074916
                        ],
                        "passed_time": 18.64885427,
                        "iteration": 448,
                        "remaining_time": 189.0221287,
                        "learn": [
                          1,
                          0.0035867543
                        ]
                      },
                      {
                        "test": [
                          0.8961038961,
                          0.3438285233
                        ],
                        "passed_time": 18.69077536,
                        "iteration": 449,
                        "remaining_time": 188.9845064,
                        "learn": [
                          1,
                          0.003585820884
                        ]
                      },
                      {
                        "test": [
                          0.8961038961,
                          0.3432213672
                        ],
                        "passed_time": 18.72972209,
                        "iteration": 450,
                        "remaining_time": 188.9168643,
                        "learn": [
                          1,
                          0.003583056475
                        ]
                      },
                      {
                        "test": [
                          0.8961038961,
                          0.344460797
                        ],
                        "passed_time": 18.76996466,
                        "iteration": 451,
                        "remaining_time": 188.8623878,
                        "learn": [
                          1,
                          0.003574485093
                        ]
                      },
                      {
                        "test": [
                          0.8961038961,
                          0.3446715714
                        ],
                        "passed_time": 18.80842876,
                        "iteration": 452,
                        "remaining_time": 188.7901227,
                        "learn": [
                          1,
                          0.003572287123
                        ]
                      },
                      {
                        "test": [
                          0.8961038961,
                          0.3447708279
                        ],
                        "passed_time": 18.84658171,
                        "iteration": 453,
                        "remaining_time": 188.7148909,
                        "learn": [
                          1,
                          0.003569616991
                        ]
                      },
                      {
                        "test": [
                          0.8961038961,
                          0.3444108344
                        ],
                        "passed_time": 18.88525917,
                        "iteration": 454,
                        "remaining_time": 188.6450614,
                        "learn": [
                          1,
                          0.003567256569
                        ]
                      },
                      {
                        "test": [
                          0.8961038961,
                          0.3439499744
                        ],
                        "passed_time": 18.92396252,
                        "iteration": 455,
                        "remaining_time": 188.5756265,
                        "learn": [
                          1,
                          0.003563325
                        ]
                      },
                      {
                        "test": [
                          0.8961038961,
                          0.3436570849
                        ],
                        "passed_time": 18.9616562,
                        "iteration": 456,
                        "remaining_time": 188.496289,
                        "learn": [
                          1,
                          0.003561438299
                        ]
                      },
                      {
                        "test": [
                          0.8961038961,
                          0.3436794776
                        ],
                        "passed_time": 18.99939783,
                        "iteration": 457,
                        "remaining_time": 188.4176091,
                        "learn": [
                          1,
                          0.003557744369
                        ]
                      },
                      {
                        "test": [
                          0.8961038961,
                          0.3447555443
                        ],
                        "passed_time": 19.04110965,
                        "iteration": 458,
                        "remaining_time": 188.3783854,
                        "learn": [
                          1,
                          0.00355155094
                        ]
                      },
                      {
                        "test": [
                          0.8961038961,
                          0.3444053353
                        ],
                        "passed_time": 19.07927088,
                        "iteration": 459,
                        "remaining_time": 188.3041083,
                        "learn": [
                          1,
                          0.003550272751
                        ]
                      },
                      {
                        "test": [
                          0.8961038961,
                          0.3451477893
                        ],
                        "passed_time": 19.11785383,
                        "iteration": 460,
                        "remaining_time": 188.2341399,
                        "learn": [
                          1,
                          0.003544633685
                        ]
                      },
                      {
                        "test": [
                          0.8961038961,
                          0.3449397892
                        ],
                        "passed_time": 19.15612653,
                        "iteration": 461,
                        "remaining_time": 188.1612602,
                        "learn": [
                          1,
                          0.003541015332
                        ]
                      },
                      {
                        "test": [
                          0.8961038961,
                          0.3449959941
                        ],
                        "passed_time": 19.20525549,
                        "iteration": 462,
                        "remaining_time": 188.1949118,
                        "learn": [
                          1,
                          0.003539508464
                        ]
                      },
                      {
                        "test": [
                          0.8961038961,
                          0.3449619343
                        ],
                        "passed_time": 19.26269227,
                        "iteration": 463,
                        "remaining_time": 188.3094227,
                        "learn": [
                          1,
                          0.00353839039
                        ]
                      },
                      {
                        "test": [
                          0.8961038961,
                          0.3449006762
                        ],
                        "passed_time": 19.30206808,
                        "iteration": 464,
                        "remaining_time": 188.247051,
                        "learn": [
                          1,
                          0.003535890112
                        ]
                      },
                      {
                        "test": [
                          0.8961038961,
                          0.3450445448
                        ],
                        "passed_time": 19.34152486,
                        "iteration": 465,
                        "remaining_time": 188.1855659,
                        "learn": [
                          1,
                          0.003532703406
                        ]
                      },
                      {
                        "test": [
                          0.8961038961,
                          0.3452614623
                        ],
                        "passed_time": 19.38043505,
                        "iteration": 466,
                        "remaining_time": 188.1188696,
                        "learn": [
                          1,
                          0.003524238767
                        ]
                      },
                      {
                        "test": [
                          0.8961038961,
                          0.3452992625
                        ],
                        "passed_time": 19.41914612,
                        "iteration": 467,
                        "remaining_time": 188.0503637,
                        "learn": [
                          1,
                          0.003522720212
                        ]
                      },
                      {
                        "test": [
                          0.8961038961,
                          0.346013354
                        ],
                        "passed_time": 19.45761784,
                        "iteration": 468,
                        "remaining_time": 187.9796725,
                        "learn": [
                          1,
                          0.00351607332
                        ]
                      },
                      {
                        "test": [
                          0.8961038961,
                          0.3460089201
                        ],
                        "passed_time": 19.49820047,
                        "iteration": 469,
                        "remaining_time": 187.9294641,
                        "learn": [
                          1,
                          0.003514465943
                        ]
                      },
                      {
                        "test": [
                          0.8961038961,
                          0.3463389904
                        ],
                        "passed_time": 19.53659213,
                        "iteration": 470,
                        "remaining_time": 187.8582287,
                        "learn": [
                          1,
                          0.003512537557
                        ]
                      },
                      {
                        "test": [
                          0.8961038961,
                          0.3457624262
                        ],
                        "passed_time": 19.57495991,
                        "iteration": 471,
                        "remaining_time": 187.7869035,
                        "learn": [
                          1,
                          0.003508250698
                        ]
                      },
                      {
                        "test": [
                          0.8961038961,
                          0.3457382499
                        ],
                        "passed_time": 19.61339957,
                        "iteration": 472,
                        "remaining_time": 187.7164057,
                        "learn": [
                          1,
                          0.003505690035
                        ]
                      },
                      {
                        "test": [
                          0.8961038961,
                          0.3458293073
                        ],
                        "passed_time": 19.65977492,
                        "iteration": 473,
                        "remaining_time": 187.7218171,
                        "learn": [
                          1,
                          0.003503012501
                        ]
                      },
                      {
                        "test": [
                          0.8961038961,
                          0.347010724
                        ],
                        "passed_time": 19.70109561,
                        "iteration": 474,
                        "remaining_time": 187.6788582,
                        "learn": [
                          1,
                          0.003477511842
                        ]
                      },
                      {
                        "test": [
                          0.8961038961,
                          0.3464097605
                        ],
                        "passed_time": 19.73934718,
                        "iteration": 475,
                        "remaining_time": 187.6067367,
                        "learn": [
                          1,
                          0.003473852974
                        ]
                      },
                      {
                        "test": [
                          0.8961038961,
                          0.3456590826
                        ],
                        "passed_time": 19.77902838,
                        "iteration": 476,
                        "remaining_time": 187.5483131,
                        "learn": [
                          1,
                          0.00347219729
                        ]
                      },
                      {
                        "test": [
                          0.8961038961,
                          0.3457299765
                        ],
                        "passed_time": 19.81822476,
                        "iteration": 477,
                        "remaining_time": 187.4853816,
                        "learn": [
                          1,
                          0.003471288027
                        ]
                      },
                      {
                        "test": [
                          0.8961038961,
                          0.3459273995
                        ],
                        "passed_time": 19.85766579,
                        "iteration": 478,
                        "remaining_time": 187.4248581,
                        "learn": [
                          1,
                          0.003469012142
                        ]
                      },
                      {
                        "test": [
                          0.8961038961,
                          0.3464457029
                        ],
                        "passed_time": 19.89713095,
                        "iteration": 479,
                        "remaining_time": 187.3646497,
                        "learn": [
                          1,
                          0.003459495267
                        ]
                      },
                      {
                        "test": [
                          0.8961038961,
                          0.345690913
                        ],
                        "passed_time": 19.93673528,
                        "iteration": 480,
                        "remaining_time": 187.3058352,
                        "learn": [
                          1,
                          0.003457843089
                        ]
                      },
                      {
                        "test": [
                          0.8961038961,
                          0.345700747
                        ],
                        "passed_time": 19.97545461,
                        "iteration": 481,
                        "remaining_time": 187.2388048,
                        "learn": [
                          1,
                          0.003455769003
                        ]
                      },
                      {
                        "test": [
                          0.8961038961,
                          0.3450794468
                        ],
                        "passed_time": 20.01500696,
                        "iteration": 482,
                        "remaining_time": 187.179682,
                        "learn": [
                          1,
                          0.003454735856
                        ]
                      },
                      {
                        "test": [
                          0.9090909091,
                          0.3444525979
                        ],
                        "passed_time": 20.05373836,
                        "iteration": 483,
                        "remaining_time": 187.1129802,
                        "learn": [
                          1,
                          0.003449780489
                        ]
                      },
                      {
                        "test": [
                          0.9090909091,
                          0.3445074899
                        ],
                        "passed_time": 20.09290587,
                        "iteration": 484,
                        "remaining_time": 187.0504536,
                        "learn": [
                          1,
                          0.00344955142
                        ]
                      },
                      {
                        "test": [
                          0.9090909091,
                          0.3441635726
                        ],
                        "passed_time": 20.13171203,
                        "iteration": 485,
                        "remaining_time": 186.9846669,
                        "learn": [
                          1,
                          0.003447212425
                        ]
                      },
                      {
                        "test": [
                          0.9090909091,
                          0.3446791265
                        ],
                        "passed_time": 20.17018628,
                        "iteration": 486,
                        "remaining_time": 186.9159152,
                        "learn": [
                          1,
                          0.003445592581
                        ]
                      },
                      {
                        "test": [
                          0.9090909091,
                          0.3447209148
                        ],
                        "passed_time": 20.20860893,
                        "iteration": 487,
                        "remaining_time": 186.8468104,
                        "learn": [
                          1,
                          0.003443534078
                        ]
                      },
                      {
                        "test": [
                          0.9090909091,
                          0.3448078106
                        ],
                        "passed_time": 20.25767733,
                        "iteration": 488,
                        "remaining_time": 186.8760377,
                        "learn": [
                          1,
                          0.003441460771
                        ]
                      },
                      {
                        "test": [
                          0.8961038961,
                          0.3442703842
                        ],
                        "passed_time": 20.30839906,
                        "iteration": 489,
                        "remaining_time": 186.9201628,
                        "learn": [
                          1,
                          0.003434910883
                        ]
                      },
                      {
                        "test": [
                          0.8961038961,
                          0.344106699
                        ],
                        "passed_time": 20.34976301,
                        "iteration": 490,
                        "remaining_time": 186.8779662,
                        "learn": [
                          1,
                          0.003433744113
                        ]
                      },
                      {
                        "test": [
                          0.9090909091,
                          0.3449203937
                        ],
                        "passed_time": 20.38896285,
                        "iteration": 491,
                        "remaining_time": 186.8159442,
                        "learn": [
                          1,
                          0.003429079367
                        ]
                      },
                      {
                        "test": [
                          0.9090909091,
                          0.3447826435
                        ],
                        "passed_time": 20.42675657,
                        "iteration": 492,
                        "remaining_time": 186.74116,
                        "learn": [
                          1,
                          0.003427393686
                        ]
                      },
                      {
                        "test": [
                          0.9090909091,
                          0.3449380057
                        ],
                        "passed_time": 20.46474969,
                        "iteration": 493,
                        "remaining_time": 186.6683444,
                        "learn": [
                          1,
                          0.003426938665
                        ]
                      },
                      {
                        "test": [
                          0.9090909091,
                          0.3448466512
                        ],
                        "passed_time": 20.50644928,
                        "iteration": 494,
                        "remaining_time": 186.629402,
                        "learn": [
                          1,
                          0.003426154065
                        ]
                      },
                      {
                        "test": [
                          0.8961038961,
                          0.3446116757
                        ],
                        "passed_time": 20.54423946,
                        "iteration": 495,
                        "remaining_time": 186.5549487,
                        "learn": [
                          1,
                          0.003425428291
                        ]
                      },
                      {
                        "test": [
                          0.8961038961,
                          0.3440398179
                        ],
                        "passed_time": 20.58226661,
                        "iteration": 496,
                        "remaining_time": 186.4827898,
                        "learn": [
                          1,
                          0.003412771848
                        ]
                      },
                      {
                        "test": [
                          0.8961038961,
                          0.3436926805
                        ],
                        "passed_time": 20.62053531,
                        "iteration": 497,
                        "remaining_time": 186.4129518,
                        "learn": [
                          1,
                          0.003409938095
                        ]
                      },
                      {
                        "test": [
                          0.8961038961,
                          0.3436646647
                        ],
                        "passed_time": 20.6584356,
                        "iteration": 498,
                        "remaining_time": 186.3399171,
                        "learn": [
                          1,
                          0.003408325264
                        ]
                      },
                      {
                        "test": [
                          0.8961038961,
                          0.343592458
                        ],
                        "passed_time": 20.71353697,
                        "iteration": 499,
                        "remaining_time": 186.4218327,
                        "learn": [
                          1,
                          0.003407350553
                        ]
                      },
                      {
                        "test": [
                          0.8961038961,
                          0.3437961727
                        ],
                        "passed_time": 20.75600552,
                        "iteration": 500,
                        "remaining_time": 186.3897582,
                        "learn": [
                          1,
                          0.003405092588
                        ]
                      },
                      {
                        "test": [
                          0.8961038961,
                          0.3435782148
                        ],
                        "passed_time": 20.79405161,
                        "iteration": 501,
                        "remaining_time": 186.3180162,
                        "learn": [
                          1,
                          0.003402954613
                        ]
                      },
                      {
                        "test": [
                          0.8961038961,
                          0.3442988705
                        ],
                        "passed_time": 20.8319237,
                        "iteration": 502,
                        "remaining_time": 186.2448526,
                        "learn": [
                          1,
                          0.003400345643
                        ]
                      },
                      {
                        "test": [
                          0.9090909091,
                          0.3451566077
                        ],
                        "passed_time": 20.87002996,
                        "iteration": 503,
                        "remaining_time": 186.1739181,
                        "learn": [
                          1,
                          0.003394293629
                        ]
                      },
                      {
                        "test": [
                          0.9090909091,
                          0.3450870266
                        ],
                        "passed_time": 20.90842176,
                        "iteration": 504,
                        "remaining_time": 186.1056551,
                        "learn": [
                          1,
                          0.003391743485
                        ]
                      },
                      {
                        "test": [
                          0.9090909091,
                          0.3452517026
                        ],
                        "passed_time": 20.94652509,
                        "iteration": 505,
                        "remaining_time": 186.0349481,
                        "learn": [
                          1,
                          0.003391287296
                        ]
                      },
                      {
                        "test": [
                          0.9090909091,
                          0.3450721146
                        ],
                        "passed_time": 20.98953045,
                        "iteration": 506,
                        "remaining_time": 186.0078113,
                        "learn": [
                          1,
                          0.003390753191
                        ]
                      },
                      {
                        "test": [
                          0.8961038961,
                          0.3452567311
                        ],
                        "passed_time": 21.02747325,
                        "iteration": 507,
                        "remaining_time": 185.9358461,
                        "learn": [
                          1,
                          0.003389783155
                        ]
                      },
                      {
                        "test": [
                          0.8961038961,
                          0.3450445943
                        ],
                        "passed_time": 21.06501252,
                        "iteration": 508,
                        "remaining_time": 185.8604543,
                        "learn": [
                          1,
                          0.003388919861
                        ]
                      },
                      {
                        "test": [
                          0.8961038961,
                          0.345065377
                        ],
                        "passed_time": 21.10297085,
                        "iteration": 509,
                        "remaining_time": 185.7889002,
                        "learn": [
                          1,
                          0.003388152403
                        ]
                      },
                      {
                        "test": [
                          0.8961038961,
                          0.3449510847
                        ],
                        "passed_time": 21.14317501,
                        "iteration": 510,
                        "remaining_time": 185.7372067,
                        "learn": [
                          1,
                          0.003383250797
                        ]
                      },
                      {
                        "test": [
                          0.8961038961,
                          0.3453367654
                        ],
                        "passed_time": 21.182868,
                        "iteration": 511,
                        "remaining_time": 185.6810773,
                        "learn": [
                          1,
                          0.003381778212
                        ]
                      },
                      {
                        "test": [
                          0.8961038961,
                          0.3465655686
                        ],
                        "passed_time": 21.22118337,
                        "iteration": 512,
                        "remaining_time": 185.6129625,
                        "learn": [
                          1,
                          0.003374115314
                        ]
                      }
                    ]
                  },
                  "total_iterations": 5000,
                  "passed_iterations": 512
                },
                "path": "catboost_info",
                "name": "catboost_info"
              }
            },
            "_view_module": "catboost-widget",
            "_model_module_version": "^1.0.0",
            "_view_count": null,
            "_view_module_version": "^1.0.0",
            "layout": "IPY_MODEL_51ed813704284d50b727421e6df5b7f9",
            "_model_module": "catboost-widget"
          }
        }
      }
    }
  },
  "nbformat": 4,
  "nbformat_minor": 0
}